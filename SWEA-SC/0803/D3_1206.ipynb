{
 "cells": [
  {
   "cell_type": "markdown",
   "metadata": {},
   "source": [
    "# 1206. [S/W 문제해결 기본] 1일차 - View\n",
    "\n",
    "```\n",
    "강변에 빌딩들이 옆으로 빽빽하게 밀집한 지역이 있다.\n",
    "이곳에서는 빌딩들이 너무 좌우로 밀집하여, 강에 대한 조망은 모든 세대에서 좋지만 왼쪽 또는 오른쪽 창문을 열었을 때 바로 앞에 옆 건물이 보이는 경우가 허다하였다.\n",
    "그래서 이 지역에서는 왼쪽과 오른쪽으로 창문을 열었을 때, 양쪽 모두 거리 2 이상의 공간이 확보될 때 조망권이 확보된다고 말한다.\n",
    "빌딩들에 대한 정보가 주어질 때, 조망권이 확보된 세대의 수를 반환하는 프로그램을 작성하시오.\n",
    "아래와 같이 강변에 8채의 빌딩이 있을 때, 연두색으로 색칠된 여섯 세대에서는 좌우로 2칸 이상의 공백이 존재하므로 조망권이 확보된다. 따라서 답은 6이 된다.\n",
    "```\n",
    "![](https://swexpertacademy.com/main/common/fileDownload.do?downloadType=CKEditorImages&fileId=AV2XTsoKDWIBBASl)\n",
    "\n",
    "```\n",
    "A와 B로 표시된 세대의 경우는 왼쪽 조망은 2칸 이상 확보가 되었지만 오른쪽 조망은 한 칸 밖에 확보가 되지 않으므로 조망권을 확보하지 못하였다.\n",
    "C의 경우는 반대로 오른쪽 조망은 2칸이 확보가 되었지만 왼쪽 조망이 한 칸 밖에 확보되지 않았다.\n",
    "\n",
    "[제약 사항]\n",
    "가로 길이는 항상 1000이하로 주어진다.\n",
    "맨 왼쪽 두 칸과 맨 오른쪽 두 칸에는 건물이 지어지지 않는다. (예시에서 빨간색 땅 부분)\n",
    "각 빌딩의 높이는 최대 255이다.\n",
    " \n",
    "[입력]\n",
    "입력 파일의 첫 번째 줄에는 테스트케이스의 길이가 주어진다. 그 바로 다음 줄에 테스트 케이스가 주어진다.\n",
    "총 10개의 테스트케이스가 주어진다.\n",
    " \n",
    "[출력]\n",
    "#부호와 함께 테스트 케이스의 번호를 출력하고, 공백 문자 후 테스트 케이스의 조망권이 확보된 세대의 수를 출력한다.\n",
    "```"
   ]
  },
  {
   "cell_type": "code",
   "execution_count": 1,
   "metadata": {},
   "outputs": [
    {
     "name": "stdin",
     "output_type": "stream",
     "text": [
      " 100\n",
      " 100 0 0 225 214 82 73 241 233 179 219 135 62 36 13 6 71 179 77 67 139 31 90 9 37 93 203 150 69 19 137 28 174 32 80 64 54 18 0 158 73 173 20 0 102 107 48 50 161 246 145 225 31 0 153 185 157 44 126 153 233 0 201 83 103 191 0 45 0 131 87 97 105 97 209 157 22 0 29 132 74 2 232 44 203 0 51 0 244 212 212 89 53 50 244 207 144 72 143 0 0\n"
     ]
    },
    {
     "name": "stdout",
     "output_type": "stream",
     "text": [
      "#1 691\n"
     ]
    }
   ],
   "source": [
    "result = []\n",
    "for case in range(10):\n",
    "    N = int(input())\n",
    "    buildings = list(map(int, input().split()))\n",
    "    \n",
    "    case_result = []\n",
    "    for i in range(2, N-2):\n",
    "        max_h = max(buildings[i-2], buildings[i-1], buildings[i+1], buildings[i+2])\n",
    "        if buildings[i] > max_h:\n",
    "            view = buildings[i] - max_h\n",
    "        else:\n",
    "            view = 0\n",
    "        case_result.append(view)\n",
    "    \n",
    "    result.append(sum(case_result))\n",
    "\n",
    "for res in range(len(result)):\n",
    "    print(f'#{res+1} {result[res]}')"
   ]
  }
 ],
 "metadata": {
  "kernelspec": {
   "display_name": "Python 3",
   "language": "python",
   "name": "python3"
  },
  "language_info": {
   "codemirror_mode": {
    "name": "ipython",
    "version": 3
   },
   "file_extension": ".py",
   "mimetype": "text/x-python",
   "name": "python",
   "nbconvert_exporter": "python",
   "pygments_lexer": "ipython3",
   "version": "3.7.7"
  }
 },
 "nbformat": 4,
 "nbformat_minor": 4
}
