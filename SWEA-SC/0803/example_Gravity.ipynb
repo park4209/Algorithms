{
 "cells": [
  {
   "cell_type": "markdown",
   "metadata": {},
   "source": [
    "# Gravity\n",
    "\n",
    "상자가 쌓인.. 90도 회전.. 가장 큰 낙차 반환\n",
    "\n",
    "낙차 : 최종 위치 - 현재위치 - 1\n",
    "\n",
    "각 라인 별 최고층의 박스가, 회전 후 떨어질 수 있는 최대 공간을 구하면 된다"
   ]
  },
  {
   "cell_type": "code",
   "execution_count": 37,
   "metadata": {},
   "outputs": [
    {
     "name": "stdout",
     "output_type": "stream",
     "text": [
      "[7, 5, 4, 0, 0, 2, 0, 1, 0]\n",
      "7\n"
     ]
    }
   ],
   "source": [
    "data = [7, 4, 2, 0, 0, 6, 0, 7, 0]\n",
    "#data = list(range(100, 0, -1))\n",
    "\n",
    "N = len(data)\n",
    "\n",
    "drop_list = []\n",
    "for i in range(N):\n",
    "    drop = 0\n",
    "    cnt = 0\n",
    "    for j in range(i+1, N):\n",
    "        if data[j]>=data[i]:\n",
    "            cnt += 1\n",
    "    drop_list.append((N-i)-cnt-1)\n",
    "\n",
    "print(drop_list)\n",
    "print(max(drop_list))"
   ]
  },
  {
   "cell_type": "code",
   "execution_count": 44,
   "metadata": {},
   "outputs": [
    {
     "name": "stdout",
     "output_type": "stream",
     "text": [
      "7\n"
     ]
    }
   ],
   "source": [
    "# gravity.py\n",
    "data = [7,4,2,0,0,6,0,7,0]\n",
    "result = 0\n",
    "maxHeight = 0\n",
    "for i in range(len(data)):  # 9\n",
    "    #i의 최대 낙차 값은 len(data) - (i+1)  : 9 - 1 = 8\n",
    "    #i이후의 모든 행을 검사한다.\n",
    "    maxHeight = len(data) - (i + 1)\n",
    "    for j in range(i+1, len(data), 1):\n",
    "        if data[i] <= data[j] : #아래 행이 i행보다 상자가 많을 때, 최대낙차값을 1감소시킴\n",
    "            maxHeight -= 1\n",
    "    if result < maxHeight:\n",
    "        result = maxHeight\n",
    "print(result)"
   ]
  }
 ],
 "metadata": {
  "kernelspec": {
   "display_name": "Python 3",
   "language": "python",
   "name": "python3"
  },
  "language_info": {
   "codemirror_mode": {
    "name": "ipython",
    "version": 3
   },
   "file_extension": ".py",
   "mimetype": "text/x-python",
   "name": "python",
   "nbconvert_exporter": "python",
   "pygments_lexer": "ipython3",
   "version": "3.7.7"
  }
 },
 "nbformat": 4,
 "nbformat_minor": 4
}
