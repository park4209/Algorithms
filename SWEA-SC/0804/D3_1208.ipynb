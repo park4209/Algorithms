{
 "cells": [
  {
   "cell_type": "markdown",
   "metadata": {},
   "source": [
    "# 1208. [S/W 문제해결 기본] 1일차 - Flatten"
   ]
  },
  {
   "cell_type": "markdown",
   "metadata": {},
   "source": [
    "[문제 링크](https://swexpertacademy.com/main/solvingProblem/solvingProblem.do)"
   ]
  },
  {
   "cell_type": "code",
   "execution_count": null,
   "metadata": {},
   "outputs": [],
   "source": [
    "result = []\n",
    "\n",
    "for case in range(10):\n",
    "    #케이스 별 덤프 횟수\n",
    "    N = int(input())\n",
    "    boxes = list(map(int, input().split()))\n",
    "\n",
    "    for i in range(N):\n",
    "        #높이 차가 1보다 클 경우에만 덤프진행\n",
    "        if (max(boxes) - min(boxes))>1:\n",
    "            max_num = boxes.index(max(boxes))\n",
    "            min_num = boxes.index(min(boxes))\n",
    "            boxes[max_num] -= 1\n",
    "            boxes[min_num] += 1\n",
    "\n",
    "    result.append(max(boxes) - min(boxes))\n",
    "    \n",
    "for res in range(len(result)):\n",
    "    print(f'#{res+1} {result[res]}')"
   ]
  }
 ],
 "metadata": {
  "kernelspec": {
   "display_name": "Python 3",
   "language": "python",
   "name": "python3"
  },
  "language_info": {
   "codemirror_mode": {
    "name": "ipython",
    "version": 3
   },
   "file_extension": ".py",
   "mimetype": "text/x-python",
   "name": "python",
   "nbconvert_exporter": "python",
   "pygments_lexer": "ipython3",
   "version": "3.7.7"
  }
 },
 "nbformat": 4,
 "nbformat_minor": 4
}
