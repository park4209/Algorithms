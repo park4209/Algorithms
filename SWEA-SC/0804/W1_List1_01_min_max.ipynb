{
 "cells": [
  {
   "cell_type": "markdown",
   "metadata": {},
   "source": [
    "# 4828. [파이썬 S/W 문제해결 기본] 1일차 - min max"
   ]
  },
  {
   "cell_type": "markdown",
   "metadata": {},
   "source": [
    "```\n",
    "N개의 양의 정수에서 가장 큰 수와 가장 작은 수의 차이를 출력하시오.\n",
    "\n",
    "[입력]\n",
    "첫 줄에 테스트 케이스의 수 T가 주어진다. ( 1 ≤ T ≤ 50 )\n",
    "각 케이스의 첫 줄에 양수의 개수 N이 주어진다. ( 5 ≤ N ≤ 1000 )\n",
    "다음 줄에 N개의 양수 ai가 주어진다. ( 1 ≤ ai≤ 1000000 )\n",
    "\n",
    "[출력]\n",
    "각 줄마다 \"#T\" (T는 테스트 케이스 번호)를 출력한 뒤, 답을 출력한다.\n",
    "```"
   ]
  },
  {
   "cell_type": "code",
   "execution_count": 32,
   "metadata": {},
   "outputs": [
    {
     "name": "stdin",
     "output_type": "stream",
     "text": [
      " 3\n",
      " 5\n",
      " 477162 658880 751280 927930 297191\n",
      " 5\n",
      " 565469 851600 460874 148692 111090\n",
      " 10\n",
      " 784386 279993 982220 996285 614710 992232 195265 359810 919192 158175\n"
     ]
    },
    {
     "name": "stdout",
     "output_type": "stream",
     "text": [
      "#1 630739\n",
      "#2 740510\n",
      "#3 838110\n"
     ]
    }
   ],
   "source": [
    "T = int(input())\n",
    "\n",
    "result = {}\n",
    "for case in range(T):\n",
    "    N = int(input())\n",
    "    ai = list(map(int, input().split()))\n",
    "\n",
    "    min_num = ai[0]\n",
    "    max_num = ai[0]\n",
    "\n",
    "    for i in range(1, len(ai)):\n",
    "        if ai[i] < min_num:\n",
    "            min_num = ai[i]\n",
    "        elif ai[i] > max_num:\n",
    "            max_num = ai[i]\n",
    "            \n",
    "    result[case] = max_num - min_num\n",
    "\n",
    "for res in result.keys():\n",
    "    print('#'+str(res+1), result[res])"
   ]
  }
 ],
 "metadata": {
  "kernelspec": {
   "display_name": "Python 3",
   "language": "python",
   "name": "python3"
  },
  "language_info": {
   "codemirror_mode": {
    "name": "ipython",
    "version": 3
   },
   "file_extension": ".py",
   "mimetype": "text/x-python",
   "name": "python",
   "nbconvert_exporter": "python",
   "pygments_lexer": "ipython3",
   "version": "3.7.7"
  }
 },
 "nbformat": 4,
 "nbformat_minor": 4
}
