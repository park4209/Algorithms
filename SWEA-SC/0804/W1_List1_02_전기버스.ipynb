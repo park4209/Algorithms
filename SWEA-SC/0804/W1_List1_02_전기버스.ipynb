{
 "cells": [
  {
   "cell_type": "markdown",
   "metadata": {},
   "source": [
    "# 4831. [파이썬 S/W 문제해결 기본] 1일차 - 전기버스"
   ]
  },
  {
   "cell_type": "markdown",
   "metadata": {},
   "source": [
    "```\n",
    "A도시는 전기버스를 운행하려고 한다. 전기버스는 한번 충전으로 이동할 수 있는 정류장 수가 정해져 있어서, 중간에 충전기가 설치된 정류장을 만들기로 했다.\n",
    "버스는 0번에서 출발해 종점인 N번 정류장까지 이동하고, 한번 충전으로 최대한 이동할 수 있는 정류장 수 K가 정해져 있다.\n",
    "충전기가 설치된 M개의 정류장 번호가 주어질 때, 최소한 몇 번의 충전을 해야 종점에 도착할 수 있는지 출력하는 프로그램을 만드시오.\n",
    "만약 충전기 설치가 잘못되어 종점에 도착할 수 없는 경우는 0을 출력한다. 출발지에는 항상 충전기가 설치되어 있지만 충전횟수에는 포함하지 않는다.\n",
    "\n",
    "[예시]\n",
    "다음은 K = 3, N = 10, M = 5, 충전기가 설치된 정류장이 1, 3, 5, 7, 9인 경우의 예이다.\n",
    "```\n",
    "\n",
    "|정류장|0|1|2|3|4|5|6|7|8|9|10|\n",
    "|-|-|-|-|-|-|-|-|-|-|-|-|\n",
    "|충전기||O||O||O||O||O||\n",
    "|충전 횟수||||1||2||3||||\n",
    "\n",
    "```\n",
    "[입력]\n",
    "첫 줄에 노선 수 T가 주어진다.  ( 1 ≤ T ≤ 50 )\n",
    "각 노선별로 K, N, M이 주어지고, 다음줄에 M개의 정류장 번호가 주어진다. ( 1 ≤ K, N, M ≤ 100 )\n",
    " \n",
    "[출력]\n",
    "#과 노선번호, 빈칸에 이어 최소 충전횟수 또는 0을 출력한다.\n",
    "```"
   ]
  },
  {
   "cell_type": "markdown",
   "metadata": {},
   "source": [
    "```\n",
    "K : 한 번 충전으로 최대한 이동할 수 있는 정류장 수 \n",
    "N : 종점 정류장 번호 ( = 총 이동거리)\n",
    "M : 충전기가 설치된 정류장 수\n",
    "```"
   ]
  },
  {
   "cell_type": "markdown",
   "metadata": {},
   "source": [
    "```\n",
    "<Input>\n",
    "3\n",
    "3 10 5\n",
    "1 3 5 7 9\n",
    "3 10 5\n",
    "1 3 7 8 9\n",
    "5 20 5\n",
    "4 7 9 14 17\n",
    "\n",
    "<Output>\n",
    "#1 3\n",
    "#2 0\n",
    "#3 4\n",
    "```"
   ]
  },
  {
   "cell_type": "code",
   "execution_count": 3,
   "metadata": {},
   "outputs": [
    {
     "name": "stdin",
     "output_type": "stream",
     "text": [
      " 3\n",
      " 3 10 5\n",
      " 1 3 5 7 9\n",
      " 3 10 5\n",
      " 1 3 7 8 9\n",
      " 5 20 5\n",
      " 4 7 9 14 17\n"
     ]
    },
    {
     "name": "stdout",
     "output_type": "stream",
     "text": [
      "#1 3\n",
      "#2 0\n",
      "#3 4\n"
     ]
    }
   ],
   "source": [
    "result = {}\n",
    "T = int(input())\n",
    "\n",
    "for case in range(T):\n",
    "    K, N, M = map(int, input().split())\n",
    "    M_list = list(map(int, input().split()))\n",
    "\n",
    "    i = 0\n",
    "    j = i+K\n",
    "    cnt = 0\n",
    "    while i<j and j<N:\n",
    "        if j in M_list:\n",
    "            cnt +=1\n",
    "            i = j\n",
    "            j = i+K\n",
    "        else:\n",
    "            j -= 1\n",
    "            if j == i:\n",
    "                cnt = 0\n",
    "\n",
    "    result[case] = cnt\n",
    "    \n",
    "for res in result.keys():\n",
    "    print('#'+str(res+1), result[res])"
   ]
  }
 ],
 "metadata": {
  "kernelspec": {
   "display_name": "Python 3",
   "language": "python",
   "name": "python3"
  },
  "language_info": {
   "codemirror_mode": {
    "name": "ipython",
    "version": 3
   },
   "file_extension": ".py",
   "mimetype": "text/x-python",
   "name": "python",
   "nbconvert_exporter": "python",
   "pygments_lexer": "ipython3",
   "version": "3.7.7"
  }
 },
 "nbformat": 4,
 "nbformat_minor": 4
}
