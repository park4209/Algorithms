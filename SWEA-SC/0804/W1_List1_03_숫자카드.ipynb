{
 "cells": [
  {
   "cell_type": "markdown",
   "metadata": {},
   "source": [
    "# 4834. [파이썬 S/W 문제해결 기본] 1일차 - 숫자 카드"
   ]
  },
  {
   "cell_type": "markdown",
   "metadata": {},
   "source": [
    "```\n",
    "0에서 9까지 숫자가 적힌 N장의 카드가 주어진다.\n",
    "가장 많은 카드에 적힌 숫자와 카드가 몇 장인지 출력하는 프로그램을 만드시오. 카드 장수가 같을 때는 적힌 숫자가 큰 쪽을 출력한다.\n",
    "\n",
    "[입력]\n",
    "첫 줄에 테스트 케이스 개수 T가 주어진다.  ( 1 ≤ T ≤ 50 )\n",
    "다음 줄부터 테스트케이스의 첫 줄에 카드 장수 N이 주어진다. ( 5 ≤ N ≤ 100 )\n",
    "다음 줄에 N개의 숫자 ai가 여백없이 주어진다. (0으로 시작할 수도 있다.)  ( 0 ≤ ai ≤ 9 ) \n",
    "\n",
    "[출력]\n",
    "각 줄마다 \"#T\" (T는 테스트 케이스 번호)를 출력한 뒤, 가장 많은 카드의 숫자와 장 수를 차례로 출력한다.\n",
    "```"
   ]
  },
  {
   "cell_type": "markdown",
   "metadata": {},
   "source": [
    "```\n",
    "<Input>\n",
    "3\n",
    "5\n",
    "49679\n",
    "5\n",
    "08271\n",
    "10\n",
    "7797946543\n",
    "\n",
    "<Output>\n",
    "#1 9 2\n",
    "#2 8 1\n",
    "#3 7 3\n",
    "```"
   ]
  },
  {
   "cell_type": "code",
   "execution_count": 39,
   "metadata": {},
   "outputs": [],
   "source": [
    "result = {}\n",
    "T = int(input())\n",
    "\n",
    "for case in range(T):\n",
    "    N = int(input())\n",
    "    input_data = input()\n",
    "    \n",
    "    ai = []\n",
    "    for i in range(len(input_data)):\n",
    "        ai.append(input_data[i])\n",
    "        \n",
    "    max_num = 0\n",
    "    max_card = ''\n",
    "    for i in ai:\n",
    "        if ai.count(i)> max_num:\n",
    "            max_num = ai.count(i)\n",
    "            max_card = i\n",
    "        elif ai.count(i) == max_num:\n",
    "            if int(i)>int(max_card):\n",
    "                max_card = i\n",
    "            \n",
    "    result[case] = [int(max_card), ai.count(max_card)]\n",
    "\n",
    "for res in result.keys():\n",
    "    print('#'+str(res+1), result[res][0], result[res][1])"
   ]
  }
 ],
 "metadata": {
  "kernelspec": {
   "display_name": "Python 3",
   "language": "python",
   "name": "python3"
  },
  "language_info": {
   "codemirror_mode": {
    "name": "ipython",
    "version": 3
   },
   "file_extension": ".py",
   "mimetype": "text/x-python",
   "name": "python",
   "nbconvert_exporter": "python",
   "pygments_lexer": "ipython3",
   "version": "3.7.7"
  }
 },
 "nbformat": 4,
 "nbformat_minor": 4
}
