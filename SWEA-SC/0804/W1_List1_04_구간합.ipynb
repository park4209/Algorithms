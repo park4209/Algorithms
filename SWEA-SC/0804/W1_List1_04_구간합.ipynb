{
 "cells": [
  {
   "cell_type": "markdown",
   "metadata": {},
   "source": [
    "# 4835. [파이썬 S/W 문제해결 기본] 1일차 - 구간합"
   ]
  },
  {
   "cell_type": "markdown",
   "metadata": {},
   "source": [
    "```\n",
    "N개의 정수가 들어있는 배열에서 이웃한 M개의 합을 계산하는 것은 디지털 필터링의 기초연산이다.\n",
    "M개의 합이 가장 큰 경우와 가장 작은 경우의 차이를 출력하는 프로그램을 작성하시오.\n",
    "\n",
    "다음은 N=5, M=3이고 5개의 숫자 1 2 3 4 5가 배열 v에 들어있는 경우이다.\n",
    "\n",
    "v 1 2 3 4 5\n",
    "v [1 2 3] 4 5\n",
    "이웃한 M개의 합이 가장 작은 경우 1 + 2 + 3 = 6\n",
    "v 1 2 [3 4 5]\n",
    "이웃한 M개의 합이 가장 큰 경우 3 + 4 + 5 = 12\n",
    "답은 12와 6의 차인 6을 출력한다.\n",
    "\n",
    "[입력]\n",
    "첫 줄에 테스트 케이스 개수 T가 주어진다.  ( 1 ≤ T ≤ 50 )\n",
    "다음 줄부터 테스트케이스의 첫 줄에 정수의 개수 N과 구간의 개수 M 주어진다. ( 10 ≤ N ≤ 100,  2 ≤ M ＜ N )\n",
    "다음 줄에 N개의 정수 ai가 주어진다. ( 1 ≤ a ≤ 10000 )\n",
    "\n",
    "[출력]\n",
    "각 줄마다 \"#T\" (T는 테스트 케이스 번호)를 출력한 뒤, 답을 출력한다.\n",
    "```"
   ]
  },
  {
   "cell_type": "markdown",
   "metadata": {},
   "source": [
    "```\n",
    "<Input>\n",
    "3\n",
    "10 3\n",
    "1 2 3 4 5 6 7 8 9 10\n",
    "10 5\n",
    "6262 6004 1801 7660 7919 1280 525 9798 5134 1821\n",
    "20 19\n",
    "3266 9419 3087 9001 9321 1341 7379 6236 5795 8910 2990 2152 2249 4059 1394\n",
    "\n",
    "<Output>\n",
    "#1 21\n",
    "#2 11088\n",
    "#3 1090\n",
    "```"
   ]
  },
  {
   "cell_type": "code",
   "execution_count": null,
   "metadata": {},
   "outputs": [],
   "source": [
    "\"\"\"\n",
    "#sum 함수 사용 O\n",
    "\n",
    "result = {}\n",
    "T = int(input())\n",
    "\n",
    "for case in range(T):\n",
    "    N, M = map(int, input().split())\n",
    "    v = list(map(int, input().split()))\n",
    "\n",
    "    min_num = max_num = sum(v[0:M])\n",
    "    for i in range(1, (len(v)-M+1)):\n",
    "        if sum(v[i:i+M]) > max_num:\n",
    "            max_num = sum(v[i:i+M])\n",
    "        elif sum(v[i:i+M]) < min_num:\n",
    "            min_num = sum(v[i:i+M])\n",
    "\n",
    "    result[case] = max_num - min_num\n",
    "    \n",
    "for res in result.keys():\n",
    "    print('#'+str(res+1), result[res])\n",
    "\"\"\""
   ]
  },
  {
   "cell_type": "code",
   "execution_count": null,
   "metadata": {},
   "outputs": [],
   "source": [
    "#sum 함수 사용 X\n",
    "\n",
    "result = {}\n",
    "T = int(input())\n",
    "\n",
    "for case in range(T):\n",
    "    N, M = map(int, input().split())\n",
    "    v = list(map(int, input().split()))\n",
    "\n",
    "    min_num = max_num = sum(v[0:M])\n",
    "    for i in range(1, (len(v)-M+1)):\n",
    "        temp_sum = 0\n",
    "        for j in range(i, i+M):\n",
    "            temp_sum += v[j]\n",
    "        if temp_sum > max_num:\n",
    "            max_num = temp_sum\n",
    "        elif temp_sum < min_num:\n",
    "            min_num = temp_sum\n",
    "\n",
    "    result[case] = max_num - min_num\n",
    "    \n",
    "for res in result.keys():\n",
    "    print('#'+str(res+1), result[res])"
   ]
  }
 ],
 "metadata": {
  "kernelspec": {
   "display_name": "Python 3",
   "language": "python",
   "name": "python3"
  },
  "language_info": {
   "codemirror_mode": {
    "name": "ipython",
    "version": 3
   },
   "file_extension": ".py",
   "mimetype": "text/x-python",
   "name": "python",
   "nbconvert_exporter": "python",
   "pygments_lexer": "ipython3",
   "version": "3.7.7"
  }
 },
 "nbformat": 4,
 "nbformat_minor": 4
}
