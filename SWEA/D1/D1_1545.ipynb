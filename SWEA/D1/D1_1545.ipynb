{
 "cells": [
  {
   "cell_type": "markdown",
   "metadata": {},
   "source": [
    "# 1545. 거꾸로 출력해 보아요\n",
    "\n",
    "```\n",
    "주어진 숫자부터 0까지 순서대로 찍어보세요\n",
    "\n",
    "아래는 입력된 숫자가 N일 때 거꾸로 출력하는 예시입니다\n",
    "\n",
    "\n",
    "[입력]\n",
    "\n",
    "8\n",
    "\n",
    "[출력]\n",
    "\n",
    "8 7 6 5 4 3 2 1 0\n",
    "```\n",
    "\n",
    "\n",
    "![](https://swexpertacademy.com/main/common/fileDownload.do?downloadType=CKEditorImages&fileId=AV2geHu6ABcBBAS0)\n"
   ]
  },
  {
   "cell_type": "code",
   "execution_count": 1,
   "metadata": {},
   "outputs": [
    {
     "name": "stdin",
     "output_type": "stream",
     "text": [
      " 8\n"
     ]
    },
    {
     "name": "stdout",
     "output_type": "stream",
     "text": [
      "8 7 6 5 4 3 2 1 0 "
     ]
    }
   ],
   "source": [
    "number = int(input())\n",
    "\n",
    "i = number\n",
    "while i>=0:\n",
    "    print(i, end = \" \")\n",
    "    i -= 1"
   ]
  }
 ],
 "metadata": {
  "kernelspec": {
   "display_name": "Python 3",
   "language": "python",
   "name": "python3"
  },
  "language_info": {
   "codemirror_mode": {
    "name": "ipython",
    "version": 3
   },
   "file_extension": ".py",
   "mimetype": "text/x-python",
   "name": "python",
   "nbconvert_exporter": "python",
   "pygments_lexer": "ipython3",
   "version": "3.7.7"
  }
 },
 "nbformat": 4,
 "nbformat_minor": 4
}
