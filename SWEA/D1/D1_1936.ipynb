{
 "cells": [
  {
   "cell_type": "markdown",
   "metadata": {},
   "source": [
    "# 1936. 1대1 가위바위보\n",
    "\n",
    "```\n",
    "A와 B가 가위바위보를 하였다.\n",
    "\n",
    "가위는 1, 바위는 2, 보는 3으로 표현되며 A와 B가 무엇을 냈는지 입력으로 주어진다.\n",
    "\n",
    "A와 B중에 누가 이겼는지 판별해보자. 단, 비기는 경우는 없다.\n",
    "\n",
    " \n",
    "\n",
    "[입력]\n",
    "\n",
    "입력으로 A와 B가 무엇을 냈는지 빈 칸을 사이로 주어진다.\n",
    "\n",
    " \n",
    " \n",
    "\n",
    "[출력]\n",
    "\n",
    "A가 이기면 A, B가 이기면 B를 출력한다.\n",
    "```\n"
   ]
  },
  {
   "cell_type": "code",
   "execution_count": 1,
   "metadata": {},
   "outputs": [
    {
     "name": "stdin",
     "output_type": "stream",
     "text": [
      " 3 2\n"
     ]
    },
    {
     "name": "stdout",
     "output_type": "stream",
     "text": [
      "A\n"
     ]
    }
   ],
   "source": [
    "A, B = map(int, input().split())\n",
    "result = ''\n",
    "if A == 1:\n",
    "    if B == 2:\n",
    "        result = 'B'\n",
    "    elif B == 3:\n",
    "        result = 'A'\n",
    "        \n",
    "elif A == 2:\n",
    "    if B == 1:\n",
    "        result = 'A'\n",
    "    elif B == 3:\n",
    "        result = 'B'\n",
    "\n",
    "elif A == 3:\n",
    "    if B == 2:\n",
    "        result = 'A'\n",
    "    elif B == 1:\n",
    "        result = 'B'\n",
    "        \n",
    "print(result)"
   ]
  }
 ],
 "metadata": {
  "kernelspec": {
   "display_name": "Python 3",
   "language": "python",
   "name": "python3"
  },
  "language_info": {
   "codemirror_mode": {
    "name": "ipython",
    "version": 3
   },
   "file_extension": ".py",
   "mimetype": "text/x-python",
   "name": "python",
   "nbconvert_exporter": "python",
   "pygments_lexer": "ipython3",
   "version": "3.7.7"
  }
 },
 "nbformat": 4,
 "nbformat_minor": 4
}
