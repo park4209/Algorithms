{
 "cells": [
  {
   "cell_type": "markdown",
   "metadata": {},
   "source": [
    "# 1938. 아주 간단한 계산기\n",
    "\n",
    "```\n",
    "두 개의 자연수를 입력받아 사칙연산을 수행하는 프로그램을 작성하라.\n",
    "\n",
    " \n",
    "\n",
    "[제약 사항]\n",
    "\n",
    "1. 두 개의 자연수 a, b는 1부터 9까지의 자연수이다. (1 ≤ a, b ≤ 9)\n",
    "\n",
    "2. 사칙연산 + , - , * , / 순서로 연산한 결과를 출력한다.\n",
    "\n",
    "3. 나누기 연산의 결과에서 소수점 이하의 숫자는 버린다.\n",
    "\n",
    " \n",
    "\n",
    "[입력]\n",
    "\n",
    "입력으로 두 개의 자연수 a, b가 빈 칸을 두고 주어진다.\n",
    "\n",
    " \n",
    "\n",
    "[출력]\n",
    "\n",
    "사칙연산의 결과를 각 줄에 순서대로 출력한다.```\n"
   ]
  },
  {
   "cell_type": "code",
   "execution_count": 1,
   "metadata": {},
   "outputs": [
    {
     "name": "stdin",
     "output_type": "stream",
     "text": [
      " 8 7\n"
     ]
    },
    {
     "name": "stdout",
     "output_type": "stream",
     "text": [
      "15\n",
      "1\n",
      "56\n",
      "1\n"
     ]
    }
   ],
   "source": [
    "a, b = map(int, input().split())\n",
    "\n",
    "print(a+b)\n",
    "print(a-b)\n",
    "print(a*b)\n",
    "print(int(a/b))"
   ]
  }
 ],
 "metadata": {
  "kernelspec": {
   "display_name": "Python 3",
   "language": "python",
   "name": "python3"
  },
  "language_info": {
   "codemirror_mode": {
    "name": "ipython",
    "version": 3
   },
   "file_extension": ".py",
   "mimetype": "text/x-python",
   "name": "python",
   "nbconvert_exporter": "python",
   "pygments_lexer": "ipython3",
   "version": "3.7.7"
  }
 },
 "nbformat": 4,
 "nbformat_minor": 4
}
