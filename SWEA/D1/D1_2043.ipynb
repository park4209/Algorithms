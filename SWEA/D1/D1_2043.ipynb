{
 "cells": [
  {
   "cell_type": "markdown",
   "metadata": {},
   "source": [
    "# 2043. 서랍의 비밀번호\n",
    "\n",
    "```\n",
    "서랍의 비밀번호가 생각이 나지 않는다.\n",
    "\n",
    "비밀번호 P는 000부터 999까지 번호 중의 하나이다.\n",
    "\n",
    "주어지는 번호 K부터 1씩 증가하며 비밀번호를 확인해 볼 생각이다.\n",
    "\n",
    "예를 들어 비밀번호 P가 123 이고 주어지는 번호 K가 100 일 때, 100부터 123까지 24번 확인하여 비밀번호를 맞출 수 있다.\n",
    "\n",
    "P와 K가 주어지면 K부터 시작하여 몇 번 만에 P를 맞출 수 있는지 알아보자.\n",
    "\n",
    "\n",
    "[입력]\n",
    "\n",
    "입력으로 P와 K가 빈 칸을 사이로 주어진다.\n",
    "\n",
    "\n",
    "[출력]\n",
    "\n",
    "몇 번 만에 비밀번호를 맞출 수 있는지 출력한다.\n",
    "```"
   ]
  },
  {
   "cell_type": "code",
   "execution_count": 1,
   "metadata": {},
   "outputs": [
    {
     "name": "stdin",
     "output_type": "stream",
     "text": [
      " 123 100\n"
     ]
    },
    {
     "name": "stdout",
     "output_type": "stream",
     "text": [
      "24\n"
     ]
    }
   ],
   "source": [
    "P, K = map(int, input().split())\n",
    "cnt = 1\n",
    "while (K != P):\n",
    "    if K>999:\n",
    "        K=000\n",
    "    cnt += 1\n",
    "    K +=1\n",
    "print(cnt)"
   ]
  }
 ],
 "metadata": {
  "kernelspec": {
   "display_name": "Python 3",
   "language": "python",
   "name": "python3"
  },
  "language_info": {
   "codemirror_mode": {
    "name": "ipython",
    "version": 3
   },
   "file_extension": ".py",
   "mimetype": "text/x-python",
   "name": "python",
   "nbconvert_exporter": "python",
   "pygments_lexer": "ipython3",
   "version": "3.7.7"
  }
 },
 "nbformat": 4,
 "nbformat_minor": 4
}
