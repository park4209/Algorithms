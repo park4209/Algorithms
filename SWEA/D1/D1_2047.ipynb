{
 "cells": [
  {
   "cell_type": "markdown",
   "metadata": {},
   "source": [
    "# 2047. 신문 헤드라인\n",
    "\n",
    "```\n",
    "신문의 헤드라인을 편집하기 위해, 주어지는 문자열의 알파벳 소문자를 모두 대문자로 바꾸는 프로그램을 개발 중이다.\n",
    "\n",
    "입력으로 주어진 문장에 모든 소문자 알파벳을 찾아 대문자로 변환한 다음, 그 결과를 출력하는 프로그램을 작성하라.\n",
    "\n",
    "\n",
    "[예제 풀이]\n",
    "\n",
    "The_headline_is_the_text_indicating_the_nature_of_the_article_below_it.\n",
    "\n",
    "위와 같은 문자열이 입력으로 주어졌을 때, 출력은 다음과 같다.\n",
    "\n",
    "THE_HEADLINE_IS_THE_TEXT_INDICATING_THE_NATURE_OF_THE_ARTICLE_BELOW_IT.\n",
    "\n",
    "\n",
    "[제약 사항]\n",
    "\n",
    "문자열의 최대 길이는 80 bytes 이다.\n",
    "\n",
    "\n",
    "[입력]\n",
    "\n",
    "입력으로 80 bytes 이하의 길이를 가진 문자열이 주어진다.\n",
    "\n",
    "\n",
    "[출력]\n",
    "\n",
    "문자열의 소문자를 모두 대문자로 변경한 결과를 출력한다.\n",
    "```"
   ]
  },
  {
   "cell_type": "code",
   "execution_count": 1,
   "metadata": {},
   "outputs": [
    {
     "name": "stdin",
     "output_type": "stream",
     "text": [
      " The_headline_is_the_text_indicating_the_nature_of_the_article_below_it\n"
     ]
    },
    {
     "name": "stdout",
     "output_type": "stream",
     "text": [
      "THE_HEADLINE_IS_THE_TEXT_INDICATING_THE_NATURE_OF_THE_ARTICLE_BELOW_IT\n"
     ]
    }
   ],
   "source": [
    "print(input().upper())"
   ]
  }
 ],
 "metadata": {
  "kernelspec": {
   "display_name": "Python 3",
   "language": "python",
   "name": "python3"
  },
  "language_info": {
   "codemirror_mode": {
    "name": "ipython",
    "version": 3
   },
   "file_extension": ".py",
   "mimetype": "text/x-python",
   "name": "python",
   "nbconvert_exporter": "python",
   "pygments_lexer": "ipython3",
   "version": "3.7.7"
  }
 },
 "nbformat": 4,
 "nbformat_minor": 4
}
