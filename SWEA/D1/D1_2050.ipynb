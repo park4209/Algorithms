{
 "cells": [
  {
   "cell_type": "markdown",
   "metadata": {},
   "source": [
    "# 2050. 알파벳을 숫자로 변환\n",
    "\n",
    "```\n",
    "알파벳으로 이루어진 문자열을 입력 받아 각 알파벳을 1부터 26까지의 숫자로 변환하여 출력하라.\n",
    "\n",
    "\n",
    "[제약 사항]\n",
    "\n",
    "문자열의 최대 길이는 200이다.\n",
    "\n",
    "\n",
    "[입력]\n",
    "\n",
    "알파벳으로 이루어진 문자열이 주어진다.\n",
    "\n",
    "\n",
    "[출력]\n",
    "\n",
    "각 알파벳을 숫자로 변환한 결과값을 빈 칸을 두고 출력한다.\n",
    "```"
   ]
  },
  {
   "cell_type": "code",
   "execution_count": 1,
   "metadata": {},
   "outputs": [
    {
     "name": "stdin",
     "output_type": "stream",
     "text": [
      " bcaca\n"
     ]
    },
    {
     "name": "stdout",
     "output_type": "stream",
     "text": [
      "2 3 1 3 1 "
     ]
    }
   ],
   "source": [
    "alpha = input()\n",
    "for i in range(len(alpha)):\n",
    "    print(ord(alpha[i])%32, end = ' ')"
   ]
  }
 ],
 "metadata": {
  "kernelspec": {
   "display_name": "Python 3",
   "language": "python",
   "name": "python3"
  },
  "language_info": {
   "codemirror_mode": {
    "name": "ipython",
    "version": 3
   },
   "file_extension": ".py",
   "mimetype": "text/x-python",
   "name": "python",
   "nbconvert_exporter": "python",
   "pygments_lexer": "ipython3",
   "version": "3.7.7"
  }
 },
 "nbformat": 4,
 "nbformat_minor": 4
}
