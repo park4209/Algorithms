{
 "cells": [
  {
   "cell_type": "markdown",
   "metadata": {},
   "source": [
    "\n",
    "# 2056. 연월일 달력\n",
    "\n",
    "```\n",
    "연월일 순으로 구성된 8자리의 날짜가 입력으로 주어진다.\n",
    "```\n",
    "![](https://swexpertacademy.com/main/common/fileDownload.do?downloadType=CKEditorImages&fileId=AV5QOksKA1QDFAUq)\n",
    "\n",
    "```\n",
    "해당 날짜의 유효성을 판단한 후, 날짜가 유효하다면\n",
    "\n",
    "[그림1] 과 같이 ”YYYY/MM/DD”형식으로 출력하고,\n",
    "\n",
    "날짜가 유효하지 않을 경우, -1 을 출력하는 프로그램을 작성하라.\n",
    "\n",
    "\n",
    "연월일로 구성된 입력에서 월은 1~12 사이 값을 가져야 하며\n",
    "\n",
    "일은 [표1] 과 같이, 1일 ~ 각각의 달에 해당하는 날짜까지의 값을 가질 수 있다.\n",
    "``` \n",
    "![](https://swexpertacademy.com/main/common/fileDownload.do?downloadType=CKEditorImages&fileId=AV5QOw9qA1UDFAUq)\n",
    "\n",
    "```\n",
    "※ 2월의 경우, 28일인 경우만 고려한다. (윤년은 고려하지 않는다.)\n",
    "\n",
    "\n",
    "[입력]\n",
    "\n",
    "입력은 첫 줄에 총 테스트 케이스의 개수 T가 온다.\n",
    "\n",
    "다음 줄부터 각 테스트 케이스가 주어진다.\n",
    "\n",
    "\n",
    "[출력]\n",
    "\n",
    "테스트 케이스 t에 대한 결과는 “#t”을 찍고, 한 칸 띄고, 정답을 출력한다.\n",
    "\n",
    "(t는 테스트 케이스의 번호를 의미하며 1부터 시작한다.)\n",
    "```"
   ]
  },
  {
   "cell_type": "code",
   "execution_count": 1,
   "metadata": {},
   "outputs": [
    {
     "name": "stdin",
     "output_type": "stream",
     "text": [
      " 5\n",
      " 22220228\n",
      " 20150002\n",
      " 01010101\n",
      " 20140230\n",
      " 11111111\n"
     ]
    },
    {
     "name": "stdout",
     "output_type": "stream",
     "text": [
      "#1 2222/02/28\n",
      "#2 -1\n",
      "#3 0101/01/01\n",
      "#4 -1\n",
      "#5 1111/11/11\n"
     ]
    }
   ],
   "source": [
    "NofCase = int(input())\n",
    "result = {}\n",
    "\n",
    "for i in range(1, NofCase+1):\n",
    "    date_ = input()\n",
    "    year, mon, day = date_[:4], date_[4:6], date_[6:]\n",
    "\n",
    "    if mon in (['01', '03', '05', '07', '08', '10', '12']):\n",
    "        if int(day)<=31 and int(day)>=1:\n",
    "            result[str(i)] = year +'/'+ mon +'/'+ day\n",
    "        else:\n",
    "            result[str(i)] = -1\n",
    "    elif mon in (['04', '06', '09', '11']):\n",
    "        if int(day)<=30 and int(day)>=1:\n",
    "            result[str(i)] = year +'/'+ mon +'/'+ day\n",
    "        else:\n",
    "            result[str(i)] = -1\n",
    "\n",
    "    elif mon in (['02']):\n",
    "        if int(day)<=28 and int(day)>=1:\n",
    "            result[str(i)] = year +'/'+ mon +'/'+ day \n",
    "        else:\n",
    "            result[str(i)] = -1\n",
    "    else:\n",
    "        result[str(i)] = -1\n",
    "\n",
    "for t in result.keys():\n",
    "    print('#' + t, result[t])"
   ]
  }
 ],
 "metadata": {
  "kernelspec": {
   "display_name": "Python 3",
   "language": "python",
   "name": "python3"
  },
  "language_info": {
   "codemirror_mode": {
    "name": "ipython",
    "version": 3
   },
   "file_extension": ".py",
   "mimetype": "text/x-python",
   "name": "python",
   "nbconvert_exporter": "python",
   "pygments_lexer": "ipython3",
   "version": "3.7.7"
  }
 },
 "nbformat": 4,
 "nbformat_minor": 4
}
