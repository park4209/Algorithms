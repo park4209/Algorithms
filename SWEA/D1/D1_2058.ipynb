{
 "cells": [
  {
   "cell_type": "markdown",
   "metadata": {},
   "source": [
    "# 2058. 자릿수 더하기 \n",
    "\n",
    "```\n",
    "하나의 자연수를 입력 받아 각 자릿수의 합을 계산하는 프로그램을 작성하라.\n",
    "\n",
    "[제약 사항]\n",
    "자연수 N은 1부터 9999까지의 자연수이다. (1 ≤ N ≤ 9999)\n",
    "\n",
    "[입력]\n",
    "입력으로 자연수 N이 주어진다.\n",
    "\n",
    "[출력]\n",
    "각 자릿수의 합을 출력한다.\n",
    "```"
   ]
  },
  {
   "cell_type": "code",
   "execution_count": 1,
   "metadata": {},
   "outputs": [
    {
     "name": "stdin",
     "output_type": "stream",
     "text": [
      " 9138\n"
     ]
    },
    {
     "name": "stdout",
     "output_type": "stream",
     "text": [
      "21\n"
     ]
    }
   ],
   "source": [
    "N = input()\n",
    "sum_ = 0\n",
    "\n",
    "if int(N)>=1 and int(N)<=9999:    \n",
    "    for i in range(len(N)):\n",
    "        sum_ = sum_ + int(N[i])\n",
    "else:\n",
    "    print('1부터 9999까지의 자연수를 입력하세요.')\n",
    "print(sum_)"
   ]
  }
 ],
 "metadata": {
  "kernelspec": {
   "display_name": "Python 3",
   "language": "python",
   "name": "python3"
  },
  "language_info": {
   "codemirror_mode": {
    "name": "ipython",
    "version": 3
   },
   "file_extension": ".py",
   "mimetype": "text/x-python",
   "name": "python",
   "nbconvert_exporter": "python",
   "pygments_lexer": "ipython3",
   "version": "3.7.7"
  }
 },
 "nbformat": 4,
 "nbformat_minor": 4
}
