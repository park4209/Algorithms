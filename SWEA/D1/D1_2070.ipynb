{
 "cells": [
  {
   "cell_type": "markdown",
   "metadata": {},
   "source": [
    "# 2070. 큰 놈, 작은 놈, 같은 놈\n",
    "\n",
    "```\n",
    "2개의 수를 입력 받아 크기를 비교하여 등호 또는 부등호를 출력하는 프로그램을 작성하라.\n",
    "\n",
    "[제약 사항]\n",
    "각 수는 0 이상 10000 이하의 정수이다.\n",
    "\n",
    "[입력]\n",
    "가장 첫 줄에는 테스트 케이스의 개수 T가 주어지고, 그 아래로 각 테스트 케이스가 주어진다.\n",
    "각 테스트 케이스의 첫 번째 줄에는 2개의 수가 주어진다.\n",
    "\n",
    "[출력]\n",
    "출력의 각 줄은 '#t'로 시작하고, 공백을 한 칸 둔 다음 정답을 출력한다.\n",
    "(t는 테스트 케이스의 번호를 의미하며 1부터 시작한다.)\n",
    "```"
   ]
  },
  {
   "cell_type": "code",
   "execution_count": 1,
   "metadata": {},
   "outputs": [
    {
     "name": "stdin",
     "output_type": "stream",
     "text": [
      " 3\n",
      " 3 8\n",
      " 7 7\n",
      " 369 123\n"
     ]
    },
    {
     "name": "stdout",
     "output_type": "stream",
     "text": [
      "#1 <\n",
      "#2 =\n",
      "#3 >\n"
     ]
    }
   ],
   "source": [
    "NofCase = int(input())\n",
    "result = {}\n",
    "\n",
    "for i in range(1, NofCase+1):\n",
    "    a,b = map(int, input().split())\n",
    "    if a>b:\n",
    "        result['#'+str(i)] = '>'\n",
    "    elif a<b:\n",
    "        result['#'+str(i)] = '<'\n",
    "    else:\n",
    "        result['#'+str(i)] = '='\n",
    "\n",
    "for j in result.keys():\n",
    "    print(j, result[j])"
   ]
  }
 ],
 "metadata": {
  "kernelspec": {
   "display_name": "Python 3",
   "language": "python",
   "name": "python3"
  },
  "language_info": {
   "codemirror_mode": {
    "name": "ipython",
    "version": 3
   },
   "file_extension": ".py",
   "mimetype": "text/x-python",
   "name": "python",
   "nbconvert_exporter": "python",
   "pygments_lexer": "ipython3",
   "version": "3.7.7"
  }
 },
 "nbformat": 4,
 "nbformat_minor": 4
}
