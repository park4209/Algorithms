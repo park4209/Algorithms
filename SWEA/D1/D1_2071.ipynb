{
 "cells": [
  {
   "cell_type": "markdown",
   "metadata": {},
   "source": [
    "# 2071. 평균값 구하기\n",
    "\n",
    "```\n",
    "10개의 수를 입력 받아, 평균값을 출력하는 프로그램을 작성하라.\n",
    "(소수점 첫째 자리에서 반올림한 정수를 출력한다.)\n",
    "\n",
    "[제약 사항]\n",
    "각 수는 0 이상 10000 이하의 정수이다.\n",
    "\n",
    "[입력]\n",
    "가장 첫 줄에는 테스트 케이스의 개수 T가 주어지고, 그 아래로 각 테스트 케이스가 주어진다.\n",
    "각 테스트 케이스의 첫 번째 줄에는 10개의 수가 주어진다.\n",
    "\n",
    "[출력]\n",
    "출력의 각 줄은 '#t'로 시작하고, 공백을 한 칸 둔 다음 정답을 출력한다.\n",
    "(t는 테스트 케이스의 번호를 의미하며 1부터 시작한다.)\n",
    "```"
   ]
  },
  {
   "cell_type": "code",
   "execution_count": 1,
   "metadata": {},
   "outputs": [
    {
     "name": "stdin",
     "output_type": "stream",
     "text": [
      " 3\n",
      " 3 17 1 39 8 41 2 32 99 2\n",
      " 22 8 5 123 7 2 63 7 3 46\n",
      " 6 63 2 3 58 76 21 33 8 1\n"
     ]
    },
    {
     "name": "stdout",
     "output_type": "stream",
     "text": [
      "#1 24\n",
      "#2 29\n",
      "#3 27\n"
     ]
    }
   ],
   "source": [
    "NofCase = int(input())\n",
    "result = []\n",
    "list_ = []\n",
    "\n",
    "for i in range(1, NofCase+1):\n",
    "    list_ = list(map(int, input().split()))\n",
    "    result.append(round(sum(list_)/len(list_)))\n",
    "\n",
    "for j in range(len(result)):\n",
    "    print(f'#{j+1} {result[j]}')"
   ]
  }
 ],
 "metadata": {
  "kernelspec": {
   "display_name": "Python 3",
   "language": "python",
   "name": "python3"
  },
  "language_info": {
   "codemirror_mode": {
    "name": "ipython",
    "version": 3
   },
   "file_extension": ".py",
   "mimetype": "text/x-python",
   "name": "python",
   "nbconvert_exporter": "python",
   "pygments_lexer": "ipython3",
   "version": "3.7.7"
  }
 },
 "nbformat": 4,
 "nbformat_minor": 4
}
