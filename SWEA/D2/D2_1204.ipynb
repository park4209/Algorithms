{
 "cells": [
  {
   "cell_type": "markdown",
   "metadata": {},
   "source": [
    "# 1204. [S/W 문제해결 기본] 1일차 - 최빈수 구하기\n",
    "\n",
    "```\n",
    "어느 고등학교에서 실시한 1000명의 수학 성적을 토대로 통계 자료를 만들려고 한다.\n",
    "이때, 이 학교에서는 최빈수를 이용하여 학생들의 평균 수준을 짐작하는데, 여기서 최빈수는 특정 자료에서 가장 여러 번 나타나는 값을 의미한다.\n",
    "다음과 같은 수 분포가 있으면,\n",
    "10, 8, 7, 2, 2, 4, 8, 8, 8, 9, 5, 5, 3\n",
    "최빈수는 8이 된다.\n",
    "최빈수를 출력하는 프로그램을 작성하여라 (단, 최빈수가 여러 개 일 때에는 가장 큰 점수를 출력하라).\n",
    "\n",
    "[제약 사항]\n",
    "학생의 수는 1000명이며, 각 학생의 점수는 0점 이상 100점 이하의 값이다.\n",
    " \n",
    "[입력]\n",
    "첫 번째 줄에 테스트 케이스의 수 T가 주어진다.\n",
    "각 테스트 케이스의 첫 줄에는 테스트 케이스의 번호가 주어지고 그 다음 줄부터는 점수가 주어진다.\n",
    "\n",
    "[출력]\n",
    "#부호와 함께 테스트 케이스의 번호를 출력하고, 공백 문자 후 테스트 케이스에 대한 답을 출력한다.\n",
    "```"
   ]
  },
  {
   "cell_type": "markdown",
   "metadata": {},
   "source": [
    "```\n",
    "<입출력>\n",
    "\n",
    "테스트 케이스 T 입력\n",
    "1 입력\n",
    "리스트 입력\n",
    "2 입력\n",
    "리스트 입력\n",
    "...\n",
    "T 입력\n",
    "리스트 입력\n",
    "\n",
    "#1 최대 최빈수\n",
    "#2 최대 최빈수\n",
    "...\n",
    "#T 최대 최빈수\n",
    "\n",
    "\n",
    "```"
   ]
  },
  {
   "cell_type": "code",
   "execution_count": 4,
   "metadata": {},
   "outputs": [
    {
     "name": "stdin",
     "output_type": "stream",
     "text": [
      " 1\n",
      " 1\n",
      " 10 8 7 2 2 4 8 8 8 9 5 5 3\n"
     ]
    },
    {
     "name": "stdout",
     "output_type": "stream",
     "text": [
      "#1 8\n"
     ]
    }
   ],
   "source": [
    "T = int(input(''))\n",
    "\n",
    "result = {}\n",
    "for i in range(T):\n",
    "    num = input('')\n",
    "    list1 = list(map(int, input().split()))\n",
    "\n",
    "    temp_num = min(list1)\n",
    "    temp_dict = {}\n",
    "    while temp_num <= max(list1):\n",
    "        if list1.count(temp_num)!=0:\n",
    "            temp_dict[temp_num] = list1.count(temp_num)\n",
    "        temp_num += 1\n",
    "    \n",
    "    max_list = []\n",
    "    for j in temp_dict.keys():\n",
    "        if temp_dict[j]==max(temp_dict.values()):\n",
    "            max_list.append(j)\n",
    "\n",
    "    result[num] = max(max_list)\n",
    "\n",
    "for k in result.keys():\n",
    "    print(f'#{k} {result[k]}')"
   ]
  }
 ],
 "metadata": {
  "kernelspec": {
   "display_name": "Python 3",
   "language": "python",
   "name": "python3"
  },
  "language_info": {
   "codemirror_mode": {
    "name": "ipython",
    "version": 3
   },
   "file_extension": ".py",
   "mimetype": "text/x-python",
   "name": "python",
   "nbconvert_exporter": "python",
   "pygments_lexer": "ipython3",
   "version": "3.7.7"
  }
 },
 "nbformat": 4,
 "nbformat_minor": 4
}
