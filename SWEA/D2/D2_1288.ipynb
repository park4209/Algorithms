{
 "cells": [
  {
   "cell_type": "markdown",
   "metadata": {},
   "source": [
    "# 1288. 새로운 불면증 치료법\n",
    "\n",
    "```\n",
    "민석이는 불면증에 걸렸다. 그래서 잠이 안 올 때의 민간요법 중 하나인 양 세기를 하려고 한다.\n",
    "민석이는 1번 양부터 순서대로 세는 것이 재미없을 것 같아서 N의 배수 번호인 양을 세기로 하였다.\n",
    "\n",
    "즉, 첫 번째에는 N번 양을 세고, 두 번째에는 2N번 양, … , k번째에는 kN번 양을 센다.\n",
    "이렇게 숫자를 세던 민석이에게 잠은 더 오지 않고 다음과 같은 궁금증이 생겼다.\n",
    "이전에 셌던 번호들의 각 자리수에서 0에서 9까지의 모든 숫자를 보는 것은 최소 몇 번 양을 센 시점일까?\n",
    "\n",
    "예를 들어 N = 1295이라고 하자.\n",
    "첫 번째로 N = 1295번 양을 센다. 현재 본 숫자는 1, 2, 5, 9이다.\n",
    "\n",
    "두 번째로 2N = 2590번 양을 센다. 현재 본 숫자는 0, 2, 5, 9이다.\n",
    "현재까지 본 숫자는 0, 1, 2, 5, 9이다.\n",
    "\n",
    "세 번째로 3N = 3885번 양을 센다. 현재 본 숫자는 3, 5, 8이다.\n",
    "현재까지 본 숫자는 0, 1, 2, 3, 5, 8, 9이다.\n",
    "\n",
    "네 번째로 4N = 5180번 양을 센다. 현재 본 숫자는 0, 1, 5, 8이다.\n",
    "현재까지 본 숫자는 0, 1, 2, 3, 5, 8, 9이다.\n",
    "\n",
    "다섯 번째로 5N = 6475번 양을 센다. 현재 본 숫자는 4, 5, 6, 7이다.\n",
    "현재까지 본 숫자는 0, 1, 2, 3, 4, 5, 6, 7, 8, 9이다.\n",
    "\n",
    "5N번 양을 세면 0에서 9까지 모든 숫자를 보게 되므로 민석이는 양 세기를 멈춘다.\n",
    "\n",
    "[입력]\n",
    "첫 번째 줄에 테스트 케이스의 수 T가 주어진다.\n",
    "각 테스트 케이스의 첫 번째 줄에는 N (1 ≤ N ≤ 106)이 주어진다.\n",
    "\n",
    "[출력]\n",
    "각 테스트 케이스마다 ‘#x’(x는 테스트케이스 번호를 의미하며 1부터 시작한다)를 출력하고,\n",
    "최소 몇 번 양을 세었을 때 이전에 봤던 숫자들의 자릿수에서 0에서 9까지의 모든 숫자를 보게 되는지 출력한다.\n",
    "( 민석이는 xN번 양을 세고 있다. )\n",
    "```"
   ]
  },
  {
   "cell_type": "markdown",
   "metadata": {},
   "source": [
    "```\n",
    "[입력]\n",
    "5\n",
    "\n",
    "1\n",
    "2\n",
    "11\n",
    "1295\n",
    "1692\n",
    "\n",
    "[출력]\n",
    "#1 10\n",
    "#2 90\n",
    "#3 110\n",
    "#4 6475\n",
    "#5 5076\n",
    "```"
   ]
  },
  {
   "cell_type": "code",
   "execution_count": 1,
   "metadata": {},
   "outputs": [
    {
     "name": "stdin",
     "output_type": "stream",
     "text": [
      " 5\n",
      " 1\n",
      " 2\n",
      " 11\n",
      " 1295\n",
      " 1692\n"
     ]
    },
    {
     "name": "stdout",
     "output_type": "stream",
     "text": [
      "#1 10\n",
      "#2 90\n",
      "#3 110\n",
      "#4 6475\n",
      "#5 5076\n"
     ]
    }
   ],
   "source": [
    "T = int(input())\n",
    "\n",
    "result = []\n",
    "for i in range(T):\n",
    "    N = int(input())\n",
    "    t1 = list(set([int(j) for j in str(N)]))\n",
    "\n",
    "    k = 1\n",
    "    while True:\n",
    "        k += 1\n",
    "        t2 = list(set([int(j) for j in str(N * k)]))\n",
    "        t1 = sorted(list(set(t1) - set(t2)) + t2)\n",
    "        \n",
    "        if t1==list(range(10)):\n",
    "            break\n",
    "    result.append(k*N)\n",
    "    \n",
    "for n in range(len(result)):\n",
    "    print(f'#{n+1} {result[n]}')"
   ]
  }
 ],
 "metadata": {
  "kernelspec": {
   "display_name": "Python 3",
   "language": "python",
   "name": "python3"
  },
  "language_info": {
   "codemirror_mode": {
    "name": "ipython",
    "version": 3
   },
   "file_extension": ".py",
   "mimetype": "text/x-python",
   "name": "python",
   "nbconvert_exporter": "python",
   "pygments_lexer": "ipython3",
   "version": "3.7.7"
  }
 },
 "nbformat": 4,
 "nbformat_minor": 4
}
