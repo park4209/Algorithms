{
 "cells": [
  {
   "cell_type": "markdown",
   "metadata": {},
   "source": [
    "# 1926. 간단한 369게임"
   ]
  },
  {
   "cell_type": "markdown",
   "metadata": {},
   "source": [
    "3 6 9 게임을 프로그램으로 제작중이다. 게임 규칙은 다음과 같다.\n",
    "\n",
    "\n",
    "\n",
    "1. 숫자 1부터 순서대로 차례대로 말하되, “3” “6” “9” 가 들어가 있는 수는 말하지 않는다.\n",
    "\n",
    "  1 2 ~3~ 4 5 ~6~ 7 8 ~9~…\n",
    "\n",
    "2. \"3\" \"6\" \"9\"가 들어가 있는 수를 말하지 않는대신, 박수를 친다. 이 때, 박수는 해당 숫자가 들어간 개수만큼 쳐야 한다.  \n",
    "예를 들어 숫자 35의 경우 박수 한 번, 숫자 36의 경우 박수를 두번 쳐야 한다.\n",
    " \n",
    "\n",
    "입력으로 정수 N 이 주어졌을 때, 1~N 까지의 숫자를\n",
    "\n",
    "게임 규칙에 맞게 출력하는 프로그램을 작성하라.\n",
    "\n",
    "박수를 치는 부분은 숫자 대신, 박수 횟수에 맞게 “-“ 를 출력한다.\n",
    "\n",
    "여기서 주의해야 할 것은 박수 한 번 칠 때는 - 이며, 박수를 두 번 칠 때는 - - 가 아닌 -- 이다. \n",
    " \n",
    "\n",
    "[제약사항]\n",
    "\n",
    "N은 10이상 1,000이하의 정수이다. (10 ≤ N ≤ 1,000)\n",
    "\n",
    " \n",
    "\n",
    "[입력]\n",
    "\n",
    "입력으로 정수 N 이 주어진다.\n",
    "\n",
    "\n",
    "[출력]\n",
    "\n",
    "1 ~ N까지의 숫자를 게임 규칙에 맞게 출력한다."
   ]
  },
  {
   "cell_type": "code",
   "execution_count": 20,
   "metadata": {},
   "outputs": [
    {
     "name": "stdin",
     "output_type": "stream",
     "text": [
      " 100\n"
     ]
    },
    {
     "name": "stdout",
     "output_type": "stream",
     "text": [
      "1 2 - 4 5 - 7 8 - 10 11 12 - 14 15 - 17 18 - 20 21 22 - 24 25 - 27 28 - - - - -- - - -- - - -- 40 41 42 - 44 45 - 47 48 - 50 51 52 - 54 55 - 57 58 - - - - -- - - -- - - -- 70 71 72 - 74 75 - 77 78 - 80 81 82 - 84 85 - 87 88 - - - - -- - - -- - - -- 100 "
     ]
    }
   ],
   "source": [
    "N = int(input())\n",
    "    \n",
    "for i in range( 1, N+1 ):\n",
    "    \n",
    "    cnt = 0\n",
    "    for j in str(i):\n",
    "        if (int(j)%3 == 0) and (int(j)!= 0):\n",
    "            cnt += 1\n",
    "    if cnt > 0:\n",
    "        print('-'*cnt , end = ' ')\n",
    "    else:\n",
    "        print(i, end = ' ')"
   ]
  }
 ],
 "metadata": {
  "kernelspec": {
   "display_name": "Python 3",
   "language": "python",
   "name": "python3"
  },
  "language_info": {
   "codemirror_mode": {
    "name": "ipython",
    "version": 3
   },
   "file_extension": ".py",
   "mimetype": "text/x-python",
   "name": "python",
   "nbconvert_exporter": "python",
   "pygments_lexer": "ipython3",
   "version": "3.7.4"
  }
 },
 "nbformat": 4,
 "nbformat_minor": 4
}
