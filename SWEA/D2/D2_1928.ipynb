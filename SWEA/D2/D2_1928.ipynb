{
 "cells": [
  {
   "cell_type": "markdown",
   "metadata": {},
   "source": [
    "# 1928. Base64 Decoder"
   ]
  },
  {
   "cell_type": "markdown",
   "metadata": {},
   "source": [
    "```\n",
    "다음과 같이 Encoding 을 한다.\n",
    "\n",
    "1. 우선 24비트 버퍼에 위쪽(MSB)부터 한 byte씩 3 byte의 문자를 집어넣는다.\n",
    "\n",
    "2. 버퍼의 위쪽부터 6비트씩 잘라 그 값을 읽고, 각각의 값을 아래 [표-1] 의 문자로 Encoding 한다.\n",
    "```\n",
    "![](https://swexpertacademy.com/main/common/fileDownload.do?downloadType=CKEditorImages&fileId=AV5Phd0aAKMDFAUq)\n",
    "```\n",
    "입력으로 Base64 Encoding 된 String 이 주어졌을 때, 해당 String 을 Decoding 하여, 원문을 출력하는 프로그램을 작성하시오.\n",
    "\n",
    "[제약사항]\n",
    "문자열의 길이는 항상 4의 배수로 주어진다.\n",
    "그리고 문자열의 길이는 100000을 넘지 않는다.\n",
    "\n",
    "[입력]\n",
    "입력은 첫 줄에 총 테스트 케이스의 개수 T가 온다.\n",
    "다음 줄부터 각 테스트 케이스가 주어진다.\n",
    "테스트 케이스는 Encoding 된 상태로 주어지는 문자열이다.\n",
    "\n",
    "[출력]\n",
    "테스트 케이스 t에 대한 결과는 “#t”을 찍고, 한 칸 띄고, 정답을 출력한다.\n",
    "(t는 테스트 케이스의 번호를 의미하며 1부터 시작한다.)\n",
    "```"
   ]
  },
  {
   "cell_type": "markdown",
   "metadata": {},
   "source": [
    "```\n",
    "<Input>\n",
    "10\n",
    "TGlmZSBpdHNlbGYgaXMgYSBxdW90YXRpb24u\n",
    "U3VzcGljaW9uIGZvbGxvd3MgY2xvc2Ugb24gbWlzdHJ1c3Qu\n",
    "VG8gZG91YnQgaXMgc2FmZXIgdGhhbiB0byBiZSBzZWN1cmUu\n",
    "T25seSB0aGUganVzdCBtYW4gZW5qb3lzIHBlYWNlIG9mIG1pbmQu\n",
    "QSBmdWxsIGJlbGx5IGlzIHRoZSBtb3RoZXIgb2YgYWxsIGV2aWwu\n",
    "QSBnaWZ0IGluIHNlYXNvbiBpcyBhIGRvdWJsZSBmYXZvciB0byB0aGUgbmVlZHku\n",
    "Qm9va3MgYXJlIHNoaXBzIHdoaWNoIHBhc3MgdGhyb3VnaCB0aGUgdmFzdCBzZWFzIG9mIHRpbWUu\n",
    "TGV0IHRoeSBzcGVlY2ggYmUgc2hvcnQsIGNvbXByZWhlbmRpbmcgbXVjaCBpbiBmZXcgd29yZHMu\n",
    "VGhlIHdvcmxkIGlzIGEgYmVhdXRpZnVsIGJvb2ssIGJ1dCBvZiBsaXR0bGUgdXNlIHRvIGhpbSB3aG8gY2Fubm90IHJlYWQgaXQu\n",
    "SGUgd2hvIHNwYXJlcyB0aGUgcm9kIGhhdGVzIGhpcyBzb24sIGJ1dCBoZSB3aG8gbG92ZXMgaGltIGlzIGNhcmVmdWwgdG8gZGlzY2lwbGluZSBoaW0u\n",
    "\n",
    "<Output>\n",
    "#1 Life itself is a quotation.\n",
    "#2 Suspicion follows close on mistrust.\n",
    "#3 To doubt is safer than to be secure.\n",
    "#4 Only the just man enjoys peace of mind.\n",
    "#5 A full belly is the mother of all evil.\n",
    "#6 A gift in season is a double favor to the needy.\n",
    "#7 Books are ships which pass through the vast seas of time.\n",
    "#8 Let thy speech be short, comprehending much in few words.\n",
    "#9 The world is a beautiful book, but of little use to him who cannot read it.\n",
    "#10 He who spares the rod hates his son, but he who loves him is careful to discipline him.\n"
   ]
  },
  {
   "cell_type": "code",
   "execution_count": 2,
   "metadata": {},
   "outputs": [
    {
     "name": "stdin",
     "output_type": "stream",
     "text": [
      " 1\n",
      " SGUgd2hvIHNwYXJlcyB0aGUgcm9kIGhhdGVzIGhpcyBzb24sIGJ1dCBoZSB3aG8gbG92ZXMgaGltIGlzIGNhcmVmdWwgdG8gZGlzY2lwbGluZSBoaW0u\n"
     ]
    },
    {
     "name": "stdout",
     "output_type": "stream",
     "text": [
      "#1 He who spares the rod hates his son, but he who loves him is careful to discipline him.\n"
     ]
    }
   ],
   "source": [
    "import base64\n",
    "\n",
    "T = int(input())\n",
    "\n",
    "result = []\n",
    "for i in range(T):\n",
    "    input_data = input()\n",
    "    decoding_data = base64.b64decode(input_data).decode('utf-8')    \n",
    "    result.append(decoding_data)    \n",
    "\n",
    "for j in range(len(result)):\n",
    "    print(f'#{j+1} {result[j]}')"
   ]
  },
  {
   "cell_type": "code",
   "execution_count": null,
   "metadata": {},
   "outputs": [],
   "source": []
  }
 ],
 "metadata": {
  "kernelspec": {
   "display_name": "Python 3",
   "language": "python",
   "name": "python3"
  },
  "language_info": {
   "codemirror_mode": {
    "name": "ipython",
    "version": 3
   },
   "file_extension": ".py",
   "mimetype": "text/x-python",
   "name": "python",
   "nbconvert_exporter": "python",
   "pygments_lexer": "ipython3",
   "version": "3.7.4"
  }
 },
 "nbformat": 4,
 "nbformat_minor": 4
}
