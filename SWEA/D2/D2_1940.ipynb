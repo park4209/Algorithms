{
 "cells": [
  {
   "cell_type": "markdown",
   "metadata": {},
   "source": [
    "# 1940. 가랏! RC카!"
   ]
  },
  {
   "cell_type": "markdown",
   "metadata": {},
   "source": [
    "```\n",
    "RC (Radio Control) 카의 이동거리를 계산하려고 한다.\n",
    "입력으로 매 초마다 아래와 같은 command 가 정수로 주어진다.\n",
    "\n",
    "0 : 현재 속도 유지.\n",
    "1 : 가속\n",
    "2 : 감속\n",
    "\n",
    "위 command 중, 가속(1) 또는 감속(2) 의 경우 가속도의 값이 추가로 주어진다.\n",
    "가속도의 단위는, m/s2 이며, 모두 양의 정수로 주어진다.\n",
    "입력으로 주어진 N 개의 command 를 모두 수행했을 때, N 초 동안 이동한 거리를 계산하는 프로그램을 작성하라.\n",
    "RC 카의 초기 속도는 0 m/s 이다.\n",
    "\n",
    "[예제]\n",
    "아래 예제 입력에서 정답은 3 이 된다.\n",
    "```\n",
    "|입력|시간|RC카의 속도|RC카의 이동거리|\n",
    "|-|-|-|-|\n",
    "|1 2|1 sec|2 m/s|2 m|\n",
    "|2 1|2 sec|1 m/s|3 m|\n",
    "\n",
    "```\n",
    "[제약사항]\n",
    "1. N은 2이상 30이하의 정수이다. (2 ≤ N ≤ 30)\n",
    "2. 가속도의 값은 1 m/s2 혹은 2 m/s2 이다.\n",
    "3. 현재 속도보다 감속할 속도가 더 클 경우, 속도는 0 m/s 가 된다.\n",
    "\n",
    "[입력]\n",
    "입력은 첫 줄에 총 테스트 케이스의 개수 T, 다음 줄부터 각 테스트 케이스가 주어진다.\n",
    "테스트 케이스 첫 줄에는 Command 의 수 N이 주어지고, 둘째 줄부터, 매 줄마다 각각의 Command가 주어진다.\n",
    "\n",
    "[출력]\n",
    "테스트 케이스 t에 대한 결과는 “#t”을 찍고, 한 칸 띄고, 정답을 출력한다.\n",
    "(t는 테스트 케이스의 번호를 의미하며 1부터 시작한다.)\n",
    "```"
   ]
  },
  {
   "cell_type": "markdown",
   "metadata": {},
   "source": [
    "\n",
    "> <3번째 커맨드 속도 및 이동거리 변화표>\n",
    "\n",
    "|입력|시간|RC카의 속도|RC카의 이동거리|\n",
    "|-|-|-|-|\n",
    "|1 2|1 sec|2 m/s|2 m|\n",
    "|1 2|2 sec|4 m/s|6 m|\n",
    "|2 1|3 sec|3 m/s|9 m|\n",
    "|0|4 sec|3 m/s|12 m|\n",
    "|0|5 sec|3 m/s|15 m|"
   ]
  },
  {
   "cell_type": "markdown",
   "metadata": {},
   "source": [
    "> [문제가 포함하고 있는 가정]\n",
    ">\n",
    ">가속과 감속은 일반적인 물리법칙을 따르지 않고, 1초 단위로 command에 따라 속도 변화를 순간적으로 적용한다."
   ]
  },
  {
   "cell_type": "code",
   "execution_count": 27,
   "metadata": {},
   "outputs": [
    {
     "name": "stdin",
     "output_type": "stream",
     "text": [
      " 1\n",
      " 30\n",
      " 2 1\n",
      " 2 2\n",
      " 2 2\n",
      " 1 1\n",
      " 1 2\n",
      " 2 1\n",
      " 0\n",
      " 1 1\n",
      " 0\n",
      " 0\n",
      " 1 2\n",
      " 1 2\n",
      " 2 1\n",
      " 0\n",
      " 0\n",
      " 2 2\n",
      " 2 1\n",
      " 1 2\n",
      " 0\n",
      " 1 1\n",
      " 2 2\n",
      " 1 2\n",
      " 2 2\n",
      " 0\n",
      " 1 2\n",
      " 2 1\n",
      " 2 2\n",
      " 0\n",
      " 1 1\n",
      " 2 2\n"
     ]
    },
    {
     "name": "stdout",
     "output_type": "stream",
     "text": [
      "#1 111\n"
     ]
    }
   ],
   "source": [
    "# T : Number of Testcase\n",
    "T = int(input())\n",
    "\n",
    "result = []\n",
    "for j in range(T):\n",
    "    # N : Number of Command\n",
    "    N = int(input())\n",
    "    \n",
    "    distance = 0\n",
    "    velocity = 0\n",
    "\n",
    "    for i in range(N):\n",
    "        command = list(map(int, input().split()))\n",
    "        #가속\n",
    "        if command[0] == 1:\n",
    "            velocity += command[1]\n",
    "        #감속\n",
    "        elif command[0] == 2:\n",
    "            if velocity >= command[1]:\n",
    "                velocity -= command[1]\n",
    "            else:\n",
    "                velocity = 0\n",
    "        distance += velocity    \n",
    "    result.append(distance)\n",
    "        \n",
    "\n",
    "for k in range(len(result)):\n",
    "    print(f'#{k+1} {result[k]}')"
   ]
  }
 ],
 "metadata": {
  "kernelspec": {
   "display_name": "Python 3",
   "language": "python",
   "name": "python3"
  },
  "language_info": {
   "codemirror_mode": {
    "name": "ipython",
    "version": 3
   },
   "file_extension": ".py",
   "mimetype": "text/x-python",
   "name": "python",
   "nbconvert_exporter": "python",
   "pygments_lexer": "ipython3",
   "version": "3.7.4"
  }
 },
 "nbformat": 4,
 "nbformat_minor": 4
}
