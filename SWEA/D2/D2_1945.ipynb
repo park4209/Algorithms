{
 "cells": [
  {
   "cell_type": "markdown",
   "metadata": {},
   "source": [
    "# 1945. 간단한 소인수분해"
   ]
  },
  {
   "cell_type": "markdown",
   "metadata": {},
   "source": [
    "```\n",
    "숫자 N은 아래와 같다.\n",
    "N=2^a x 3^b x 5^c x 7^d x 11^e\n",
    "N이 주어질 때 a, b, c, d, e 를 출력하라.\n",
    "\n",
    "[제약 사항]\n",
    "N은 2 이상 10,000,000 이하이다.\n",
    "\n",
    "[입력]\n",
    "가장 첫 줄에는 테스트 케이스의 개수 T가 주어지고, 그 아래로 각 테스트 케이스가 주어진다.\n",
    "각 테스트 케이스의 첫 번째 줄에 N 이 주어진다.\n",
    "\n",
    "[출력]\n",
    "출력의 각 줄은 '#t'로 시작하고, 공백을 한 칸 둔 다음 정답을 출력한다.\n",
    "(t는 테스트 케이스의 번호를 의미하며 1부터 시작한다.)\n",
    "```"
   ]
  },
  {
   "cell_type": "code",
   "execution_count": 30,
   "metadata": {},
   "outputs": [],
   "source": [
    "T = int(input())\n",
    "result = []\n",
    "\n",
    "for i in range(T):    \n",
    "    Number = int(input())\n",
    "\n",
    "    case = [0, 0, 0, 0, 0]\n",
    "    while (Number > 1):\n",
    "\n",
    "        if Number%2 == 0:\n",
    "            case[0] += 1\n",
    "            Number = Number//2\n",
    "\n",
    "        elif Number%3 == 0:\n",
    "            case[1] += 1\n",
    "            Number = Number//3\n",
    "\n",
    "        elif Number%5 == 0:\n",
    "            case[2] += 1\n",
    "            Number = Number//5\n",
    "\n",
    "        elif Number%7 == 0:\n",
    "            case[3] += 1\n",
    "            Number = Number//7\n",
    "\n",
    "        elif Number%11 == 0:\n",
    "            case[4] += 1\n",
    "            Number = Number//11\n",
    "\n",
    "        else:\n",
    "            print('break')\n",
    "            break\n",
    "    \n",
    "    result.append(case)\n",
    "\n",
    "for j in range(len(result)):\n",
    "    print(f'#{j+1} {result[j][0]} {result[j][1]} {result[j][2]} {result[j][3]} {result[j][4]}')"
   ]
  }
 ],
 "metadata": {
  "kernelspec": {
   "display_name": "Python 3",
   "language": "python",
   "name": "python3"
  },
  "language_info": {
   "codemirror_mode": {
    "name": "ipython",
    "version": 3
   },
   "file_extension": ".py",
   "mimetype": "text/x-python",
   "name": "python",
   "nbconvert_exporter": "python",
   "pygments_lexer": "ipython3",
   "version": "3.7.4"
  }
 },
 "nbformat": 4,
 "nbformat_minor": 4
}
