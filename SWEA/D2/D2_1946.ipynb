{
 "cells": [
  {
   "cell_type": "markdown",
   "metadata": {},
   "source": [
    "# 1946. 간단한 압축 풀기"
   ]
  },
  {
   "cell_type": "markdown",
   "metadata": {},
   "source": [
    "```\n",
    "원본 문서는 너비가 10인 여러 줄의 문자열로 이루어져 있다.\n",
    "문자열은 마지막 줄을 제외하고 빈 공간 없이 알파벳으로 채워져 있고 마지막 줄은 왼쪽부터 채워져 있다.\n",
    "이 문서를 압축한 문서는 알파벳과 그 알파벳의 연속된 개수로 이루어진 쌍들이 나열되어 있다. (예 : A 5    AAAAA)\n",
    "압축된 문서를 입력 받아 원본 문서를 만드는 프로그램을 작성하시오.\n",
    "\n",
    "[예제]\n",
    "압축된 문서의 내용\n",
    "A 10\n",
    "B 7\n",
    "C 5\n",
    "\n",
    "압축을 풀었을 때 원본 문서의 내용\n",
    "AAAAAAAAAA\n",
    "BBBBBBBCCC\n",
    "CC\n",
    "\n",
    "[제약사항]\n",
    "1. 압축된 문서의 알파벳과 숫자 쌍의 개수 N은1이상 10이하의 정수이다. (1 ≤ N ≤ 10)\n",
    "2. 주어지는 알파벳 Ci는 A~Z의 대문자이다. (i는 줄의 번호로 1~N까지의 수)\n",
    "3. 알파벳의 연속된 개수로 주어지는 수 Ki는 1이상 20이하의 정수이다. (1 ≤ Ki ≤ 20, i는 줄의 번호로 1~N까지의 수)\n",
    "4. 원본 문서의 너비는 10으로 고정이다.\n",
    "\n",
    "[입력]\n",
    "가장 첫 줄에는 테스트 케이스의 개수 T가 주어지고, 그 아래로 각 테스트 케이스가 주어진다.\n",
    "각 테스트 케이스에는 N이 주어지고 다음 줄부터 N+1줄까지 Ci와 Ki가 빈 칸을 사이에 두고 주어진다.\n",
    "\n",
    "[출력]\n",
    "각 줄은 '#t'로 시작하고, 다음 줄부터 원본 문서를 출력한다.\n",
    "(t는 테스트 케이스의 번호를 의미하며 1부터 시작한다.)\n",
    "```"
   ]
  },
  {
   "cell_type": "code",
   "execution_count": null,
   "metadata": {},
   "outputs": [],
   "source": [
    "T = int(input())\n",
    "result = []\n",
    "\n",
    "for j in range(T):\n",
    "\n",
    "    # Number of Alphabets\n",
    "    N = int(input())\n",
    "\n",
    "    case_result = \"\"\n",
    "    for i in range(N):\n",
    "        inputdata = list(map(str, input().split()))\n",
    "        case_result += inputdata[0] * int(inputdata[1])\n",
    "\n",
    "    result.append(case_result)\n",
    "\n",
    "    \n",
    "# Output Part\n",
    "for m in range(len(result)):\n",
    "    print(f'#{m+1}')\n",
    "\n",
    "    for n in range(len(result[m])//10):\n",
    "        print(result[m][10*n : 10*(n+1)])\n",
    "\n",
    "    print(result[m][10*(n+1):])"
   ]
  }
 ],
 "metadata": {
  "kernelspec": {
   "display_name": "Python 3",
   "language": "python",
   "name": "python3"
  },
  "language_info": {
   "codemirror_mode": {
    "name": "ipython",
    "version": 3
   },
   "file_extension": ".py",
   "mimetype": "text/x-python",
   "name": "python",
   "nbconvert_exporter": "python",
   "pygments_lexer": "ipython3",
   "version": "3.7.4"
  }
 },
 "nbformat": 4,
 "nbformat_minor": 4
}
