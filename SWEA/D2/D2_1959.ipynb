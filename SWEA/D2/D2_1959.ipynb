{
 "cells": [
  {
   "cell_type": "markdown",
   "metadata": {},
   "source": [
    "# 1959. 두 개의 숫자열"
   ]
  },
  {
   "cell_type": "markdown",
   "metadata": {},
   "source": [
    "```\n",
    "N 개의 숫자로 구성된 숫자열 Ai (i=1~N) 와 M 개의 숫자로 구성된 숫자열 Bj (j=1~M) 가 있다.\n",
    "아래는 N =3 인 Ai 와 M = 5 인 Bj 의 예이다.\n",
    "```\n",
    "![](https://swexpertacademy.com/main/common/fileDownload.do?downloadType=CKEditorImages&fileId=AV5PqPTKAUEDFAUq)\n",
    "```\n",
    "Ai 나 Bj 를 자유롭게 움직여서 숫자들이 서로 마주보는 위치를 변경할 수 있다.\n",
    "단, 더 긴 쪽의 양끝을 벗어나서는 안 된다.\n",
    "```\n",
    "![](https://swexpertacademy.com/main/common/fileDownload.do?downloadType=CKEditorImages&fileId=AV5PqULaAUIDFAUq)\n",
    "\n",
    "```\n",
    "서로 마주보는 숫자들을 곱한 뒤 모두 더할 때 최댓값을 구하라.\n",
    "위 예제의 정답은 아래와 같이 30 이 된다.\n",
    "```\n",
    "![](https://swexpertacademy.com/main/common/fileDownload.do?downloadType=CKEditorImages&fileId=AV5PqbLKAUcDFAUq)\n",
    "```\n",
    "\n",
    "[제약 사항]\n",
    "N 과 M은 3 이상 20 이하이다.\n",
    "\n",
    "[입력]\n",
    "가장 첫 줄에는 테스트 케이스의 개수 T가 주어지고, 그 아래로 각 테스트 케이스가 주어진다.\n",
    "각 테스트 케이스의 첫 번째 줄에 N 과 M 이 주어지고,\n",
    "두 번째 줄에는 Ai,\n",
    "세 번째 줄에는 Bj 가 주어진다.\n",
    "\n",
    "[출력]\n",
    "출력의 각 줄은 '#t'로 시작하고, 공백을 한 칸 둔 다음 정답을 출력한다.\n",
    "(t는 테스트 케이스의 번호를 의미하며 1부터 시작한다.)\n",
    "```"
   ]
  },
  {
   "cell_type": "code",
   "execution_count": 19,
   "metadata": {},
   "outputs": [],
   "source": [
    "T = int(input())\n",
    "result = []\n",
    "for p in range(T):\n",
    "    \n",
    "    list_ = list(map(int, input().split()))\n",
    "    n, m = list_[0], list_[1]\n",
    "\n",
    "    N = list(map(int, input().split()))\n",
    "    M = list(map(int, input().split()))\n",
    "\n",
    "    sum_list = []\n",
    "    for i in range(max(list_) - min(list_) + 1):\n",
    "        sum_ = 0\n",
    "\n",
    "        for j in range(min(list_)):\n",
    "            if n >= m:\n",
    "                sum_ += N[j+i]*M[j]\n",
    "            else:\n",
    "                sum_ += N[j]*M[j+i]\n",
    "\n",
    "        sum_list.append(sum_)\n",
    "\n",
    "    result.append(max(sum_list))\n",
    "\n",
    "for x in range(len(result)):\n",
    "    print(f'#{x+1} {result[x]}')"
   ]
  }
 ],
 "metadata": {
  "kernelspec": {
   "display_name": "Python 3",
   "language": "python",
   "name": "python3"
  },
  "language_info": {
   "codemirror_mode": {
    "name": "ipython",
    "version": 3
   },
   "file_extension": ".py",
   "mimetype": "text/x-python",
   "name": "python",
   "nbconvert_exporter": "python",
   "pygments_lexer": "ipython3",
   "version": "3.7.4"
  }
 },
 "nbformat": 4,
 "nbformat_minor": 4
}
