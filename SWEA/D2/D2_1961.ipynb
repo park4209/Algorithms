{
 "cells": [
  {
   "cell_type": "markdown",
   "metadata": {},
   "source": [
    "# 1961.숫자 배열 회전"
   ]
  },
  {
   "cell_type": "markdown",
   "metadata": {},
   "source": [
    "```\n",
    "N x N 행렬이 주어질 때,\n",
    "시계 방향으로 90도, 180도, 270도 회전한 모양을 출력하라.\n",
    "\n",
    "[제약 사항]\n",
    "N은 3 이상 7 이하이다.\n",
    "\n",
    "[입력]\n",
    "가장 첫 줄에는 테스트 케이스의 개수 T가 주어지고, 그 아래로 각 테스트 케이스가 주어진다.\n",
    "각 테스트 케이스의 첫 번째 줄에 N이 주어지고,\n",
    "다음 N 줄에는 N x N 행렬이 주어진다.\n",
    "\n",
    "[출력]\n",
    "출력의 첫 줄은 '#t'로 시작하고,\n",
    "다음 N줄에 걸쳐서 90도, 180도, 270도 회전한 모양을 출력한다.\n",
    "입력과는 달리 출력에서는 회전한 모양 사이에만 공백이 존재함에 유의하라.\n",
    "(t는 테스트 케이스의 번호를 의미하며 1부터 시작한다.)\n",
    "```"
   ]
  },
  {
   "cell_type": "code",
   "execution_count": 140,
   "metadata": {},
   "outputs": [
    {
     "name": "stdin",
     "output_type": "stream",
     "text": [
      " 2\n",
      " 3\n",
      " 1 2 3\n",
      " 4 5 6\n",
      " 7 8 9\n",
      " 3\n",
      " 1 1 1\n",
      " 2 2 2\n",
      " 3 3 3\n"
     ]
    },
    {
     "name": "stdout",
     "output_type": "stream",
     "text": [
      "#1\n",
      "741 987 369\n",
      "852 654 258\n",
      "963 321 147\n",
      "#2\n",
      "321 333 123\n",
      "321 222 123\n",
      "321 111 123\n"
     ]
    }
   ],
   "source": [
    "T = int(input())\n",
    "final_result = []\n",
    "\n",
    "for z in range(T):\n",
    "    N = int(input())\n",
    "\n",
    "    final_result.append('')\n",
    "\n",
    "    x = []\n",
    "    for p in range(N):\n",
    "        x.append([])\n",
    "        x[p] = list(map(int, input().split()))\n",
    "    \n",
    "    x1 = x2 = 0\n",
    "    result = []\n",
    "    for i in range(N):\n",
    "        result.append([])\n",
    "        x1 = N-1\n",
    "        x2 = i\n",
    "        for j in range(N):\n",
    "            result[i] += str(x[x1][x2])\n",
    "            x1 -=1\n",
    "        result[i].append(' ')\n",
    "\n",
    "\n",
    "        x1 = N-1-i\n",
    "        x2 = N-1\n",
    "        for j in range(N):\n",
    "            result[i] += str(x[x1][x2])\n",
    "            x2 -=1\n",
    "        result[i].append(' ')\n",
    "\n",
    "\n",
    "        x1 = 0\n",
    "        x2 = N-1-i\n",
    "        for j in range(N):\n",
    "            result[i] += str(x[x1][x2])\n",
    "            x1 +=1\n",
    "        if i != N-1:\n",
    "            result[i].append('\\n')\n",
    "\n",
    "    for i in range(len(result)):\n",
    "        concat = ''\n",
    "        for j in range(len(result[i])):\n",
    "            concat += result[i][j]\n",
    "        final_result[z] += concat\n",
    "\n",
    "for ans in range(len(final_result)):\n",
    "    print(f'#{ans+1}\\n{final_result[ans]}')\n"
   ]
  },
  {
   "cell_type": "markdown",
   "metadata": {},
   "source": [
    "> 숫자 회전 파악하기\n",
    "\n",
    "```\n",
    "<when N = 5>\n",
    "\n",
    "00 01 02\n",
    "10 11 12\n",
    "20 21 22\n",
    "\n",
    "20 10 00    22 21 20    02 12 22\n",
    "21 11 01    12 11 10    01 11 21\n",
    "22 12 02    02 01 00    00 10 20\n",
    "\n",
    "\n",
    "<when N = 5>\n",
    "\n",
    "00 01 02 03 04\n",
    "10 11 12 13 14\n",
    "20 21 22 23 24\n",
    "30 31 32 33 34\n",
    "40 41 42 43 44\n",
    "\n",
    "40 30 20 10 00    44 43 42 41 40    04 14 24 34 44\n",
    "41 31 21 11 01    34 33 32 31 30    03 13 23 33 43\n",
    "42 32 22 12 02    24 23 22 21 20    02 12 22 32 42\n",
    "43 33 23 13 03    14 13 12 11 10    01 11 21 31 41\n",
    "44 34 24 14 04    04 03 02 01 00    00 10 20 30 40\n",
    "```"
   ]
  },
  {
   "cell_type": "markdown",
   "metadata": {},
   "source": [
    "> 숫자가 어떻게 회전하는지 파악하고, input 데이터의 x, y값을 (좌표값처럼 사용해서 컨트롤 시도함)\n",
    ">\n",
    "> 입력된 N을 적극적으로 활용하여 좌표값과 출력 형태를 조절했음\n",
    ">\n",
    "> +) 효율적인 방법이 있을 것 같음"
   ]
  }
 ],
 "metadata": {
  "kernelspec": {
   "display_name": "Python 3",
   "language": "python",
   "name": "python3"
  },
  "language_info": {
   "codemirror_mode": {
    "name": "ipython",
    "version": 3
   },
   "file_extension": ".py",
   "mimetype": "text/x-python",
   "name": "python",
   "nbconvert_exporter": "python",
   "pygments_lexer": "ipython3",
   "version": "3.7.4"
  }
 },
 "nbformat": 4,
 "nbformat_minor": 4
}
