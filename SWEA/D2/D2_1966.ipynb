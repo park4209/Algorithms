{
 "cells": [
  {
   "cell_type": "markdown",
   "metadata": {},
   "source": [
    "# 1966. 숫자를 정렬하자"
   ]
  },
  {
   "cell_type": "markdown",
   "metadata": {},
   "source": [
    "```\n",
    "주어진 N 길이의 숫자열을 오름차순으로 정렬하여 출력하라.\n",
    "\n",
    "[제약 사항]\n",
    "N 은 5 이상 50 이하이다.\n",
    "\n",
    "[입력]\n",
    "가장 첫 줄에는 테스트 케이스의 개수 T가 주어지고, 그 아래로 각 테스트 케이스가 주어진다.\n",
    "각 테스트 케이스의 첫 번째 줄에 N 이 주어지고, 다음 줄에 N 개의 숫자가 주어진다.\n",
    "\n",
    "[출력]\n",
    "출력의 각 줄은 '#t'로 시작하고, 공백을 한 칸 둔 다음 정답을 출력한다.\n",
    "(t는 테스트 케이스의 번호를 의미하며 1부터 시작한다.)\n",
    "```"
   ]
  },
  {
   "cell_type": "code",
   "execution_count": 37,
   "metadata": {},
   "outputs": [
    {
     "name": "stdin",
     "output_type": "stream",
     "text": [
      " 2\n",
      " 5\n",
      " 1 4 7 8 0\n",
      " 10\n",
      " 15 20 8 28 16 27 17 27 10 12\n"
     ]
    },
    {
     "name": "stdout",
     "output_type": "stream",
     "text": [
      "#1 0 1 4 7 8 \n",
      "#2 8 10 12 15 16 17 20 27 27 28 \n"
     ]
    }
   ],
   "source": [
    "T = int(input())\n",
    "all_result = []\n",
    "\n",
    "for i in range(T):\n",
    "    N = int(input())\n",
    "    case = list(map(int, input().split()))\n",
    "    sorted_case = sorted(case)\n",
    "    \n",
    "    all_result.append(sorted_case)\n",
    "\n",
    "for x1 in range(len(all_result)):\n",
    "    print(f'#{x1+1}', end=' ')\n",
    "    for x2 in range(len(all_result[x1])):\n",
    "        print(all_result[x1][x2], end = ' ')\n",
    "    print()"
   ]
  }
 ],
 "metadata": {
  "kernelspec": {
   "display_name": "Python 3",
   "language": "python",
   "name": "python3"
  },
  "language_info": {
   "codemirror_mode": {
    "name": "ipython",
    "version": 3
   },
   "file_extension": ".py",
   "mimetype": "text/x-python",
   "name": "python",
   "nbconvert_exporter": "python",
   "pygments_lexer": "ipython3",
   "version": "3.7.7"
  }
 },
 "nbformat": 4,
 "nbformat_minor": 4
}
