{
 "cells": [
  {
   "cell_type": "markdown",
   "metadata": {},
   "source": [
    "# 1970. 쉬운 거스름돈"
   ]
  },
  {
   "cell_type": "markdown",
   "metadata": {},
   "source": [
    "```\n",
    "우리나라 화폐 ‘원’은 금액이 높은 돈을 우선적으로 계산할 때 돈의 개수가 가장 최소가 된다.\n",
    "\n",
    "S마켓에서 사용하는 돈의 종류는 다음과 같다.\n",
    "50,000 원\n",
    "10,000 원\n",
    "5,000 원\n",
    "1,000 원\n",
    "500 원\n",
    "100 원\n",
    "50 원\n",
    "10 원\n",
    "\n",
    "S마켓에서 손님에게 거슬러 주어야 할 금액 N이 입력되면 돈의 최소 개수로 거슬러 주기 위하여 각 종류의 돈이 몇 개씩 필요한지 출력하라.\n",
    "\n",
    "[예제]\n",
    "N이 32850일 경우,\n",
    "50,000 원 : 0개\n",
    "10,000 원 : 3개\n",
    "5,000 원 : 0개\n",
    "1,000 원 : 2개\n",
    "500 원 : 1개\n",
    "100 원 : 3개\n",
    "50 원 : 1개\n",
    "10 원 : 0개\n",
    "\n",
    "[제약 사항]\n",
    "1. N은 10이상 1,000,000이하의 정수이다. (10 ≤ N ≤ 1,000,000)\n",
    "2. N의 마지막 자릿수는 항상 0이다. (ex : 32850)\n",
    "\n",
    "[입력]\n",
    "가장 첫 줄에는 테스트 케이스의 개수 T가 주어지고, 그 아래로 각 테스트 케이스가 주어진다.\n",
    "각 테스트 케이스에는 N이 주어진다.\n",
    "\n",
    "[출력]\n",
    "각 줄은 '#t'로 시작하고, 다음줄에 각 돈의 종류마다 필요한 개수를 빈칸을 사이에 두고 출력한다.\n",
    "(t는 테스트 케이스의 번호를 의미하며 1부터 시작한다.)\n",
    "```"
   ]
  },
  {
   "cell_type": "code",
   "execution_count": 21,
   "metadata": {},
   "outputs": [
    {
     "name": "stdin",
     "output_type": "stream",
     "text": [
      " 10\n",
      " 32850\n",
      " 160\n",
      " 562413\n",
      " 148951\n",
      " 1000000\n",
      " 16549\n",
      " 32\n",
      " 10\n",
      " 66666\n",
      " 999999\n"
     ]
    },
    {
     "name": "stdout",
     "output_type": "stream",
     "text": [
      "#1\n",
      "0 3 0 2 1 3 1 0 \n",
      "#2\n",
      "0 0 0 0 0 1 1 1 \n",
      "#3\n",
      "11 1 0 2 0 4 0 1 \n",
      "#4\n",
      "2 4 1 3 1 4 1 0 \n",
      "#5\n",
      "20 0 0 0 0 0 0 0 \n",
      "#6\n",
      "0 1 1 1 1 0 0 4 \n",
      "#7\n",
      "0 0 0 0 0 0 0 3 \n",
      "#8\n",
      "0 0 0 0 0 0 0 1 \n",
      "#9\n",
      "1 1 1 1 1 1 1 1 \n",
      "#10\n",
      "19 4 1 4 1 4 1 4 \n"
     ]
    }
   ],
   "source": [
    "T = int(input())\n",
    "money = [50000, 10000, 5000, 1000, 500, 100, 50, 10]\n",
    "change_all = []\n",
    "\n",
    "for i in range(T):\n",
    "\n",
    "    N = int(input())\n",
    "    change = []\n",
    "    \n",
    "    for j in money:\n",
    "        change.append(N//j)\n",
    "        N -= j * (N//j)\n",
    "        \n",
    "    change_all.append(change)\n",
    "\n",
    "\n",
    "for x1 in range(len(change_all)):\n",
    "    print(f'#{x1+1}')\n",
    "    for x2 in range(len(change_all[x1])):\n",
    "        print(change_all[x1][x2], end = ' ')\n",
    "    print()"
   ]
  },
  {
   "cell_type": "markdown",
   "metadata": {},
   "source": [
    "```\n",
    "10\n",
    "32850\n",
    "160\n",
    "562413\n",
    "148951\n",
    "1000000\n",
    "16549\n",
    "32\n",
    "10\n",
    "66666\n",
    "999999\n",
    "\n",
    "#1\n",
    "0 3 0 2 1 3 1 0\n",
    "#2\n",
    "0 0 0 0 0 1 1 1\n",
    "#3\n",
    "11 1 0 2 0 4 0 1\n",
    "#4\n",
    "2 4 1 3 1 4 1 0\n",
    "#5\n",
    "20 0 0 0 0 0 0 0\n",
    "#6\n",
    "0 1 1 1 1 0 0 4\n",
    "#7\n",
    "0 0 0 0 0 0 0 3\n",
    "#8\n",
    "0 0 0 0 0 0 0 1\n",
    "#9\n",
    "1 1 1 1 1 1 1 1\n",
    "#10\n",
    "19 4 1 4 1 4 1 4\n",
    "```"
   ]
  }
 ],
 "metadata": {
  "kernelspec": {
   "display_name": "Python 3",
   "language": "python",
   "name": "python3"
  },
  "language_info": {
   "codemirror_mode": {
    "name": "ipython",
    "version": 3
   },
   "file_extension": ".py",
   "mimetype": "text/x-python",
   "name": "python",
   "nbconvert_exporter": "python",
   "pygments_lexer": "ipython3",
   "version": "3.7.7"
  }
 },
 "nbformat": 4,
 "nbformat_minor": 4
}
