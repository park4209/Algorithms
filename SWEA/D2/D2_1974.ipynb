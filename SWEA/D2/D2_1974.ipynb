{
 "cells": [
  {
   "cell_type": "markdown",
   "metadata": {},
   "source": [
    "# 1974. 스도쿠 검증"
   ]
  },
  {
   "cell_type": "markdown",
   "metadata": {},
   "source": [
    "```\n",
    "스도쿠는 숫자퍼즐로, 가로 9칸 세로 9칸으로 이루어져 있는 표에 1 부터 9 까지의 숫자를 채워넣는 퍼즐이다.\n",
    "같은 줄에 1 에서 9 까지의 숫자를 한번씩만 넣고, 3 x 3 크기의 작은 격자 또한, 1 에서 9 까지의 숫자가 겹치지 않아야 한다.\n",
    "```\n",
    "![](https://swexpertacademy.com/main/common/fileDownload.do?downloadType=CKEditorImages&fileId=AV5PtUu6AYYDFAUq)\n",
    "```\n",
    "\n",
    "입력으로 9 X 9 크기의 스도쿠 퍼즐의 숫자들이 주어졌을 때, 위와 같이 겹치는 숫자가 없을 경우, 1을 정답으로 출력하고 그렇지 않을 경우 0 을 출력한다.\n",
    "\n",
    "\n",
    "[제약 사항]\n",
    "1. 퍼즐은 모두 숫자로 채워진 상태로 주어진다.\n",
    "2. 입력으로 주어지는 퍼즐의 모든 숫자는 1 이상 9 이하의 정수이다.\n",
    "\n",
    "[입력]\n",
    "입력은 첫 줄에 총 테스트 케이스의 개수 T가 온다.\n",
    "다음 줄부터 각 테스트 케이스가 주어진다.\n",
    "테스트 케이스는 9 x 9 크기의 퍼즐의 데이터이다.\n",
    "\n",
    "[출력]\n",
    "테스트 케이스 t에 대한 결과는 “#t”을 찍고, 한 칸 띄고, 정답을 출력한다.\n",
    "(t는 테스트 케이스의 번호를 의미하며 1부터 시작한다.)\n",
    "```"
   ]
  },
  {
   "cell_type": "code",
   "execution_count": 61,
   "metadata": {},
   "outputs": [],
   "source": [
    "def sudoku_check(test_case):\n",
    "\n",
    "    #가로방향 체크\n",
    "    for i in range(len(test_case)):\n",
    "        if sorted(test_case[i]) != stand_list:\n",
    "            return 0\n",
    "\n",
    "        #세로방향 체크\n",
    "        temp_list = []\n",
    "        for j in range(len(test_case)):\n",
    "            temp_list.append(test_case[j][i])\n",
    "        if sorted(temp_list) != stand_list:\n",
    "            return 0\n",
    "\n",
    "    #정사각형 체크\n",
    "    for w in range(3):\n",
    "        x1 = 0\n",
    "        for z in range(3):\n",
    "            x1 = 0 + 3*z\n",
    "            temp_list = []\n",
    "            for x in range(3):\n",
    "                y1 = 0 + 3*w\n",
    "                for y in range(3):\n",
    "                    temp_list.append(test_case[x1][y1])\n",
    "                    y1 += 1\n",
    "                x1 += 1\n",
    "            if sorted(temp_list) != stand_list:\n",
    "                return 0\n",
    "            \n",
    "    return 1\n",
    "\n",
    "\n",
    "T = int(input())\n",
    "\n",
    "#1~9 기준 리스트\n",
    "stand_list = list(range(1, 10))\n",
    "result = []\n",
    "\n",
    "for cases in range(T):\n",
    "    \n",
    "    test_case = []\n",
    "    for i in range(9):\n",
    "        temp = list(map(int, input().split()))\n",
    "        test_case.append(temp)\n",
    "        \n",
    "    result.append(sudoku_check(test_case))\n",
    "\n",
    "for re in range(len(result)):\n",
    "    print(f'#{re+1} {result[re]}')"
   ]
  },
  {
   "cell_type": "markdown",
   "metadata": {},
   "source": [
    "> 입력된 스도쿠 데이터의 가로/세로/정사각형의 숫자들을 정렬시켜 (sorted()) standard list와 동일한지 체크하는 함수를 만들었다. (sudoku_check() 함수)\n",
    ">\n",
    "> 함수를 만든 이유 : 가로/세로/정사각형의 숫자 집합들을 차례대로 확인하면서 조건에 맞지 않는 경우를 발견하면 바로 return 값을 반환하도록"
   ]
  }
 ],
 "metadata": {
  "kernelspec": {
   "display_name": "Python 3",
   "language": "python",
   "name": "python3"
  },
  "language_info": {
   "codemirror_mode": {
    "name": "ipython",
    "version": 3
   },
   "file_extension": ".py",
   "mimetype": "text/x-python",
   "name": "python",
   "nbconvert_exporter": "python",
   "pygments_lexer": "ipython3",
   "version": "3.7.7"
  }
 },
 "nbformat": 4,
 "nbformat_minor": 4
}
