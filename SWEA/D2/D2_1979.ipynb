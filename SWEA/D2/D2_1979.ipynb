{
 "cells": [
  {
   "cell_type": "markdown",
   "metadata": {},
   "source": [
    "# 1979. 어디에 단어가 들어갈 수 있을까"
   ]
  },
  {
   "cell_type": "markdown",
   "metadata": {},
   "source": [
    "```\n",
    "N X N 크기의 단어 퍼즐을 만들려고 한다. 입력으로 단어 퍼즐의 모양이 주어진다.\n",
    "주어진 퍼즐 모양에서 특정 길이 K를 갖는 단어가 들어갈 수 있는 자리의 수를 출력하는 프로그램을 작성하라.\n",
    "\n",
    "[예제]\n",
    "N = 5, K = 3 이고, 퍼즐의 모양이 아래 그림과 같이 주어졌을 때\n",
    "```\n",
    "![](https://swexpertacademy.com/main/common/fileDownload.do?downloadType=CKEditorImages&fileId=AV5PuqX6AawDFAUq)\n",
    "\n",
    "```\n",
    "길이가 3 인 단어가 들어갈 수 있는 자리는 2 곳(가로 1번, 가로 4번)이 된다.\n",
    "```\n",
    "![](https://swexpertacademy.com/main/common/fileDownload.do?downloadType=CKEditorImages&fileId=AV5Puv2aAa4DFAUq)\n",
    "\n",
    "```\n",
    "[제약 사항]\n",
    "1. N은 5 이상 15 이하의 정수이다. (5 ≤ N ≤ 15)\n",
    "2. K는 2 이상 N 이하의 정수이다. (2 ≤ K ≤ N)\n",
    "\n",
    "[입력]\n",
    "입력은 첫 줄에 총 테스트 케이스의 개수 T가 온다.\n",
    "다음 줄부터 각 테스트 케이스가 주어진다.\n",
    "테스트 케이스의 첫 번째 줄에는 단어 퍼즐의 가로, 세로 길이 N 과, 단어의 길이 K 가 주어진다.\n",
    "테스트 케이스의 두 번째 줄부터 퍼즐의 모양이 2차원 정보로 주어진다.\n",
    "퍼즐의 각 셀 중, 흰색 부분은 1, 검은색 부분은 0 으로 주어진다.\n",
    "\n",
    "[출력]\n",
    "테스트 케이스 t에 대한 결과는 “#t”을 찍고, 한 칸 띄고, 정답을 출력한다.\n",
    "(t는 테스트 케이스의 번호를 의미하며 1부터 시작한다.)\n",
    "```"
   ]
  },
  {
   "cell_type": "code",
   "execution_count": 34,
   "metadata": {},
   "outputs": [],
   "source": [
    "T = int(input())\n",
    "result = []\n",
    "\n",
    "for case in range(T):\n",
    "    NK_input = list(map(int, input().split()))\n",
    "\n",
    "    N = NK_input[0]\n",
    "    K = NK_input[1]\n",
    "\n",
    "    new_matrix = []\n",
    "    hor_cnt = 0\n",
    "    ver_cnt = 0\n",
    "\n",
    "    #매트릭스 입력\n",
    "    for i in range(N):\n",
    "        new_matrix.append([])\n",
    "        Nmatrix = list(map(int, input().split()))\n",
    "        new_matrix[i] = Nmatrix\n",
    "\n",
    "    #가로방향 카운팅\n",
    "    for x1 in range(len(new_matrix)):\n",
    "        h_line = '0'\n",
    "        for x2 in range(len(new_matrix[x1])):\n",
    "            h_line += str(new_matrix[x1][x2])\n",
    "        h_line += '0'\n",
    "\n",
    "        h_line2 = []\n",
    "        for x3 in range(len(h_line)-(K+2)+1):\n",
    "            h_line2.append(h_line[x3:x3+(K+2)])\n",
    "\n",
    "        for z1 in h_line2:\n",
    "            if z1 == ('0'+'1'*K +'0'):\n",
    "                hor_cnt +=1\n",
    "\n",
    "    #세로방향 카운팅\n",
    "    for y1 in range(len(new_matrix)):\n",
    "        v_line = '0'\n",
    "        for y2 in range(len(new_matrix)):\n",
    "            v_line += str(new_matrix[y2][y1])\n",
    "        v_line += '0'\n",
    "\n",
    "        v_line2 = []\n",
    "        for y3 in range(len(v_line)-(K+2)+1):\n",
    "            v_line2.append(v_line[y3:y3+(K+2)])\n",
    "\n",
    "        for z2 in v_line2:\n",
    "            if z2 == ('0'+'1'*K +'0'):\n",
    "                ver_cnt +=1\n",
    "\n",
    "    result.append(hor_cnt + ver_cnt)\n",
    "\n",
    "for res in range(len(result)):\n",
    "    print(f'#{res+1} {result[res]}')"
   ]
  },
  {
   "cell_type": "markdown",
   "metadata": {},
   "source": [
    "```\n",
    "# 카운팅 방법 (when K = 3)\n",
    "1) 입력된 데이터 리스트를 한줄씩 하나의 string으로 합친다 \n",
    "2) 앞뒤로 0을 붙인다\n",
    "3) 5(K+2)자리 길이의 string들의 list로 나눠서\n",
    "4) 01110 이 몇 번 나오는지 카운팅한다\n",
    "5) 가로방향, 세로방향 모두 진행\n",
    "```"
   ]
  }
 ],
 "metadata": {
  "kernelspec": {
   "display_name": "Python 3",
   "language": "python",
   "name": "python3"
  },
  "language_info": {
   "codemirror_mode": {
    "name": "ipython",
    "version": 3
   },
   "file_extension": ".py",
   "mimetype": "text/x-python",
   "name": "python",
   "nbconvert_exporter": "python",
   "pygments_lexer": "ipython3",
   "version": "3.7.4"
  }
 },
 "nbformat": 4,
 "nbformat_minor": 4
}
