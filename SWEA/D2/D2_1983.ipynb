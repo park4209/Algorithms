{
 "cells": [
  {
   "cell_type": "markdown",
   "metadata": {},
   "source": [
    "# 1983. 조교의 성적 매기기"
   ]
  },
  {
   "cell_type": "markdown",
   "metadata": {},
   "source": [
    "```\n",
    "학기가 끝나고, 학생들의 점수로 학점을 계산중이다.\n",
    "학점은 상대평가로 주어지는데, 총 10개의 평점이 있다.\n",
    "```\n",
    "![](https://swexpertacademy.com/main/common/fileDownload.do?downloadType=CKEditorImages&fileId=AV5PwefKAc8DFAUq)\n",
    "```\n",
    "학점은 학생들이 응시한 중간/기말고사 점수 결과 및 과제 점수가 반영한다.\n",
    "각각 아래 비율로 반영된다.\n",
    "```\n",
    "![](https://swexpertacademy.com/main/common/fileDownload.do?downloadType=CKEditorImages&fileId=AV5PwkKKAdEDFAUq)\n",
    "```\n",
    "10 개의 평점을 총점이 높은 순서대로 부여하는데,\n",
    "각각의 평점은 같은 비율로 부여할 수 있다.\n",
    "예를 들어, N 명의 학생이 있을 경우 N/10 명의 학생들에게 동일한 평점을 부여할 수 있다.\n",
    "입력으로 각각의 학생들의 중간, 기말, 과제 점수가 주어지고,\n",
    "학점을 알고싶은 K 번째 학생의 번호가 주어졌을 때,\n",
    "K 번째 학생의 학점을 출력하는 프로그램을 작성하라.\n",
    "\n",
    "[제약사항]\n",
    "1. N은 항상 10의 배수이며, 10이상 100이하의 정수이다. (10 ≤ N ≤ 100)\n",
    "2. K는 1 이상 N 이하의 정수이다. (1 ≤ K ≤ N)\n",
    "3. K 번째 학생의 총점과 다른 학생의 총점이 동일한 경우는 입력으로 주어지지 않는다.\n",
    "\n",
    "[입력]\n",
    "입력은 첫 줄에 총 테스트 케이스의 개수 T가 온다.\n",
    "다음 줄부터 각 테스트 케이스가 주어진다.\n",
    "테스트 케이스의 첫 번째 줄은 학생수 N 과, 학점을 알고싶은 학생의 번호 K 가 주어진다.\n",
    "테스트 케이스 두 번째 줄 부터 각각의 학생이 받은 시험 및 과제 점수가 주어진다.\n",
    "\n",
    "[출력]\n",
    "테스트 케이스 t에 대한 결과는 “#t”을 찍고, 한 칸 띄고, 정답을 출력한다.\n",
    "(t는 테스트 케이스의 번호를 의미하며 1부터 시작한다.)\n",
    "```"
   ]
  },
  {
   "cell_type": "code",
   "execution_count": 46,
   "metadata": {},
   "outputs": [
    {
     "name": "stdin",
     "output_type": "stream",
     "text": [
      " 1\n",
      " 10 2\n",
      " 87 59 88\n",
      " 99 94 78\n",
      " 94 86 86\n",
      " 99 100 99\n",
      " 69 76 70\n",
      " 76 89 96\n",
      " 98 95 96\n",
      " 74 69 60\n",
      " 98 84 67\n",
      " 85 84 91\n"
     ]
    },
    {
     "name": "stdout",
     "output_type": "stream",
     "text": [
      "#1 A0\n"
     ]
    }
   ],
   "source": [
    "T = int(input())\n",
    "\n",
    "score_list = ['A+', 'A0', 'A-', 'B+', 'B0', 'B-', 'C+', 'C0', 'C-', 'D0']\n",
    "result = []\n",
    "\n",
    "def score_(N, rank_):\n",
    "    for i in range(1, 11):\n",
    "        if rank_ <= i*(N//10):\n",
    "            return score_list[i-1]\n",
    "\n",
    "for case in range(T):\n",
    "\n",
    "    Nn_input = list(map(int, input().split()))\n",
    "    #N : 학생 수\n",
    "    N = Nn_input[0]\n",
    "    #n : n번째 학생\n",
    "    n = Nn_input[1]\n",
    "\n",
    "    score = []\n",
    "    \n",
    "    for sco in range(N):        \n",
    "        score_input = list(map(int, input().split()))\n",
    "        score.append(score_input[0] * 0.35 + score_input[1] * 0.45 + score_input[2] * 0.2)\n",
    "    \n",
    "    rank_ = sorted(score, reverse=True).index(score[n-1])+1\n",
    "\n",
    "    result.append(score_(N, rank_))\n",
    "    \n",
    "for res in range(len(result)):\n",
    "    print(f'#{res+1} {result[res]}')"
   ]
  }
 ],
 "metadata": {
  "kernelspec": {
   "display_name": "Python 3",
   "language": "python",
   "name": "python3"
  },
  "language_info": {
   "codemirror_mode": {
    "name": "ipython",
    "version": 3
   },
   "file_extension": ".py",
   "mimetype": "text/x-python",
   "name": "python",
   "nbconvert_exporter": "python",
   "pygments_lexer": "ipython3",
   "version": "3.7.4"
  }
 },
 "nbformat": 4,
 "nbformat_minor": 4
}
