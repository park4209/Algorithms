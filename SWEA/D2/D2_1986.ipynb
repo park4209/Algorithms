{
 "cells": [
  {
   "cell_type": "markdown",
   "metadata": {},
   "source": [
    "# 1986. 지그재그 숫자"
   ]
  },
  {
   "cell_type": "markdown",
   "metadata": {},
   "source": [
    "```\n",
    "1부터 N까지의 숫자에서 홀수는 더하고 짝수는 뺐을 때 최종 누적된 값을 구해보자.\n",
    "\n",
    "[예제 풀이]\n",
    "N이 5일 경우,\n",
    "1 – 2 + 3 – 4 + 5 = 3\n",
    "N이 6일 경우,\n",
    "1 – 2 + 3 – 4 + 5 – 6 = -3\n",
    "\n",
    "[제약사항]\n",
    "N은 1 이상 10 이하의 정수이다. (1 ≤ N ≤ 10)\n",
    "\n",
    "[입력]\n",
    "가장 첫 줄에는 테스트 케이스의 개수 T가 주어지고, 그 아래로 각 테스트 케이스가 주어진다.\n",
    "각 테스트 케이스에는 N이 주어진다.\n",
    "\n",
    "[출력]\n",
    "각 줄은 '#t'로 시작하고, 공백을 한 칸 둔 다음 누적된 값을 출력한다.\n",
    "(t는 테스트 케이스의 번호를 의미하며 1부터 시작한다.)\n",
    "```"
   ]
  },
  {
   "cell_type": "code",
   "execution_count": 1,
   "metadata": {},
   "outputs": [],
   "source": [
    "T = int(input())\n",
    "result = []\n",
    "\n",
    "for case in range(T):\n",
    "    N = int(input())\n",
    "\n",
    "    sum_ = 0\n",
    "    for i in range(1, N+1):\n",
    "        #홀수\n",
    "        if i%2:\n",
    "            sum_ += i\n",
    "        else:\n",
    "            sum_ -= i\n",
    "    result.append(sum_)\n",
    "\n",
    "for res in range(len(result)):\n",
    "    print(f'#{res+1} {result[res]}')"
   ]
  }
 ],
 "metadata": {
  "kernelspec": {
   "display_name": "Python 3",
   "language": "python",
   "name": "python3"
  },
  "language_info": {
   "codemirror_mode": {
    "name": "ipython",
    "version": 3
   },
   "file_extension": ".py",
   "mimetype": "text/x-python",
   "name": "python",
   "nbconvert_exporter": "python",
   "pygments_lexer": "ipython3",
   "version": "3.7.4"
  }
 },
 "nbformat": 4,
 "nbformat_minor": 4
}
