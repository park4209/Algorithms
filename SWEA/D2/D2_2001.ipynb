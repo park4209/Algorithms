{
 "cells": [
  {
   "cell_type": "markdown",
   "metadata": {},
   "source": [
    "# 2001. 파리 퇴치\n",
    "\n",
    "```\n",
    "N x N 배열 안의 숫자는 해당 영역에 존재하는 파리의 개수를 의미한다.\n",
    "아래는 N=5 의 예이다.\n",
    "```\n",
    "![](https://swexpertacademy.com/main/common/fileDownload.do?downloadType=CKEditorImages&fileId=AV5P0m66AkIDFAUq)\n",
    "\n",
    "```\n",
    "M x M 크기의 파리채를 한 번 내리쳐 최대한 많은 파리를 죽이고자 한다.\n",
    "죽은 파리의 개수를 구하라!\n",
    "예를 들어 M=2 일 경우 위 예제의 정답은 49마리가 된다.\n",
    "``` \n",
    "![](https://swexpertacademy.com/main/common/fileDownload.do?downloadType=CKEditorImages&fileId=AV5P0reqAkMDFAUq)\n",
    "\n",
    "```\n",
    "[제약 사항]\n",
    "1. N 은 5 이상 15 이하이다.\n",
    "2. M은 2 이상 N 이하이다.\n",
    "3. 각 영역의 파리 갯수는 30 이하 이다.\n",
    "\n",
    "[입력]\n",
    "가장 첫 줄에는 테스트 케이스의 개수 T가 주어지고, 그 아래로 각 테스트 케이스가 주어진다.\n",
    "각 테스트 케이스의 첫 번째 줄에 N 과 M 이 주어지고,\n",
    "다음 N 줄에 걸쳐 N x N 배열이 주어진다.\n",
    "\n",
    "[출력]\n",
    "출력의 각 줄은 '#t'로 시작하고, 공백을 한 칸 둔 다음 정답을 출력한다.\n",
    "(t는 테스트 케이스의 번호를 의미하며 1부터 시작한다.)\n",
    "```"
   ]
  },
  {
   "cell_type": "code",
   "execution_count": 20,
   "metadata": {},
   "outputs": [
    {
     "name": "stdin",
     "output_type": "stream",
     "text": [
      " 1\n",
      " 5 2\n"
     ]
    }
   ],
   "source": [
    "T = int(input())\n",
    "result = []\n",
    "\n",
    "for T in range(T):\n",
    "    MN_input = list(map(int, input().split()))\n",
    "    M = MN_input[0]\n",
    "    N = MN_input[1]\n",
    "\n",
    "    input_matrix = []\n",
    "\n",
    "    for i in range(M):\n",
    "        input_temp = list(map(int, input().split()))\n",
    "        input_matrix.append(input_temp)\n",
    "        \n",
    "    sum_list = []\n",
    "    for x in range(M-N+1):\n",
    "        for y in range(M-N+1):\n",
    "            temp_sum = 0\n",
    "            for z1 in range(N):\n",
    "                for z2 in range(N):\n",
    "                    temp_sum += input_matrix[x+z1][y+z2]        \n",
    "            sum_list.append(temp_sum)\n",
    "    \n",
    "    result.append(max(sum_list))\n",
    "    \n",
    "    \n",
    "for res in range(len(result)):\n",
    "    print(f'#{res+1} {result[res]}')    "
   ]
  }
 ],
 "metadata": {
  "kernelspec": {
   "display_name": "Python 3",
   "language": "python",
   "name": "python3"
  },
  "language_info": {
   "codemirror_mode": {
    "name": "ipython",
    "version": 3
   },
   "file_extension": ".py",
   "mimetype": "text/x-python",
   "name": "python",
   "nbconvert_exporter": "python",
   "pygments_lexer": "ipython3",
   "version": "3.7.7"
  }
 },
 "nbformat": 4,
 "nbformat_minor": 4
}
