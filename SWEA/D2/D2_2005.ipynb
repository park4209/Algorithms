{
 "cells": [
  {
   "cell_type": "markdown",
   "metadata": {},
   "source": [
    "# 2005. 파스칼의 삼각형\n",
    "\n",
    "```\n",
    "크기가 N인 파스칼의 삼각형을 만들어야 한다.\n",
    "파스칼의 삼각형이란 아래와 같은 규칙을 따른다.\n",
    "\n",
    "1. 첫 번째 줄은 항상 숫자 1이다.\n",
    "2. 두 번째 줄부터 각 숫자들은 자신의 왼쪽과 오른쪽 위의 숫자의 합으로 구성된다.\n",
    "\n",
    "N이 4일 경우,\n",
    "```\n",
    "![](https://swexpertacademy.com/main/common/fileDownload.do?downloadType=CKEditorImages&fileId=AV5P1SEKAlYDFAUq)\n",
    "```\n",
    "N을 입력 받아 크기 N인 파스칼의 삼각형을 출력하는 프로그램을 작성하시오.\n",
    "\n",
    "[제약 사항]\n",
    "파스칼의 삼각형의 크기 N은 1 이상 10 이하의 정수이다. (1 ≤ N ≤ 10)\n",
    "\n",
    "[입력]\n",
    "가장 첫 줄에는 테스트 케이스의 개수 T가 주어지고, 그 아래로 각 테스트 케이스가 주어진다.\n",
    "각 테스트 케이스에는 N이 주어진다.\n",
    "\n",
    "[출력]\n",
    "각 줄은 '#t'로 시작하고, 다음 줄부터 파스칼의 삼각형을 출력한다.\n",
    "삼각형 각 줄의 처음 숫자가 나오기 전까지의 빈 칸은 생략하고 숫자들 사이에는 한 칸의 빈칸을 출력한다.\n",
    "(t는 테스트 케이스의 번호를 의미하며 1부터 시작한다.)\n",
    "\n",
    "```"
   ]
  },
  {
   "cell_type": "code",
   "execution_count": 77,
   "metadata": {},
   "outputs": [
    {
     "name": "stdin",
     "output_type": "stream",
     "text": [
      " 5\n",
      " 1\n",
      " 2\n",
      " 3\n",
      " 4\n",
      " 5\n"
     ]
    },
    {
     "name": "stdout",
     "output_type": "stream",
     "text": [
      "#1\n",
      "1 \n",
      "#2\n",
      "1 \n",
      "1 1 \n",
      "#3\n",
      "1 \n",
      "1 1 \n",
      "1 2 1 \n",
      "#4\n",
      "1 \n",
      "1 1 \n",
      "1 2 1 \n",
      "1 3 3 1 \n",
      "#5\n",
      "1 \n",
      "1 1 \n",
      "1 2 1 \n",
      "1 3 3 1 \n",
      "1 4 6 4 1 \n"
     ]
    }
   ],
   "source": [
    "T = int(input())\n",
    "all_result = []\n",
    "\n",
    "for case in range(T):\n",
    "    N = int(input())\n",
    "    \n",
    "    if N != 1:\n",
    "        result = [[1], [1, 1]]\n",
    "        for i in range(2, N):\n",
    "            temp = result[i-1]\n",
    "            temp2 = [1]\n",
    "            for j in range(len(temp)-1):\n",
    "                temp2.append(temp[j] + temp[j+1])\n",
    "            temp2.append(1)\n",
    "            result.append(temp2)\n",
    "        all_result.append(result)\n",
    "    else:\n",
    "        result = [[1]]\n",
    "        all_result.append(result)\n",
    "\n",
    "for res in range(len(all_result)):\n",
    "    print(f'#{res+1}')\n",
    "    for res2 in range(len(all_result[res])):\n",
    "        for res3 in range(len(all_result[res][res2])):\n",
    "            print(all_result[res][res2][res3], end =' ')\n",
    "        print()"
   ]
  }
 ],
 "metadata": {
  "kernelspec": {
   "display_name": "Python 3",
   "language": "python",
   "name": "python3"
  },
  "language_info": {
   "codemirror_mode": {
    "name": "ipython",
    "version": 3
   },
   "file_extension": ".py",
   "mimetype": "text/x-python",
   "name": "python",
   "nbconvert_exporter": "python",
   "pygments_lexer": "ipython3",
   "version": "3.7.7"
  }
 },
 "nbformat": 4,
 "nbformat_minor": 4
}
