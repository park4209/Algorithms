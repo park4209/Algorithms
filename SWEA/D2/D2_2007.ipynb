{
 "cells": [
  {
   "cell_type": "markdown",
   "metadata": {},
   "source": [
    "# 2007. 패턴 마디의 길이\n",
    "\n",
    "```\n",
    "패턴에서 반복되는 부분을 마디라고 부른다. 문자열을 입력 받아 마디의 길이를 출력하는 프로그램을 작성하라.\n",
    "\n",
    "[제약 사항]\n",
    "각 문자열의 길이는 30이다. 마디의 최대 길이는 10이다.\n",
    "\n",
    "[입력]\n",
    "가장 첫 줄에는 테스트 케이스의 개수 T가 주어지고, 그 아래로 각 테스트 케이스가 주어진다.\n",
    "각 테스트 케이스의 첫 번째 줄에는 길이가 30인 문자열이 주어진다.\n",
    "\n",
    "[출력]\n",
    "출력의 각 줄은 '#t'로 시작하고, 공백을 한 칸 둔 다음 정답을 출력한다.\n",
    "(t는 테스트 케이스의 번호를 의미하며 1부터 시작한다.)\n",
    "```"
   ]
  },
  {
   "cell_type": "code",
   "execution_count": 1,
   "metadata": {},
   "outputs": [
    {
     "name": "stdin",
     "output_type": "stream",
     "text": [
      " 1\n",
      " SAMSUNGSAMSUNGSAMSUNGSAMSUNGSA\n"
     ]
    },
    {
     "name": "stdout",
     "output_type": "stream",
     "text": [
      "#1 7\n"
     ]
    }
   ],
   "source": [
    "T = int(input())\n",
    "result = []\n",
    "\n",
    "def repeat_word(word):\n",
    "    for i in range(len(word)):\n",
    "        s = word[0:i+1]\n",
    "        if (s * ((30//len(s)) + 1))[:30] == word :\n",
    "            return i+1\n",
    "\n",
    "for case in range(T):\n",
    "    word = input()\n",
    "    \n",
    "    result.append(repeat_word(word))\n",
    "\n",
    "for res in range(len(result)):\n",
    "    print(f'#{res+1} {result[res]}')"
   ]
  }
 ],
 "metadata": {
  "kernelspec": {
   "display_name": "Python 3",
   "language": "python",
   "name": "python3"
  },
  "language_info": {
   "codemirror_mode": {
    "name": "ipython",
    "version": 3
   },
   "file_extension": ".py",
   "mimetype": "text/x-python",
   "name": "python",
   "nbconvert_exporter": "python",
   "pygments_lexer": "ipython3",
   "version": "3.7.7"
  }
 },
 "nbformat": 4,
 "nbformat_minor": 4
}
