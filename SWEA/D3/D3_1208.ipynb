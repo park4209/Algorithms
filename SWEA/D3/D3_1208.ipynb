{
 "cells": [
  {
   "cell_type": "markdown",
   "metadata": {},
   "source": [
    "# 1208. [S/W 문제해결 기본] 1일차 - Flatten\n",
    "\n",
    "```\n",
    "한 쪽 벽면에 다음과 같이 노란색 상자들이 쌓여 있다.\n",
    "높은 곳의 상자를 낮은 곳에 옮기는 방식으로 최고점과 최저점의 간격을 줄이는 작업을 평탄화라고 한다.\n",
    "평탄화를 모두 수행하고 나면, 가장 높은 곳과 가장 낮은 곳의 차이가 최대 1 이내가 된다.\n",
    "평탄화 작업을 위해서 상자를 옮기는 작업 횟수에 제한이 걸려있을 때, 제한된 횟수만큼 옮기는 작업을 한 후 최고점과 최저점의 차이를 반환하는 프로그램을 작성하시오.\n",
    "```\n",
    "![](https://swexpertacademy.com/main/common/fileDownload.do?downloadType=CKEditorImages&fileId=AV2XTzVKDWYBBASl)\n",
    "\n",
    "```\n",
    "가장 높은 곳에 있는 상자를 가장 낮은 곳으로 옮기는 작업을 덤프라고 정의한다.\n",
    "위의 예시에서 제1회 덤프를 수행한 이후 화면은 다음과 같다.\n",
    "```\n",
    "![](https://swexpertacademy.com/main/common/fileDownload.do?downloadType=CKEditorImages&fileId=AV2XT1_aDWcBBASl)\n",
    "\n",
    "```\n",
    "A부분의 상자를 가장 낮은 B부분에 덤프하였으며, A대신 A’부분의 상자를 사용해도 무방하다.\n",
    "다음은 제2회 덤프를 수행한 이후의 화면이다.\n",
    "```\n",
    "![](https://swexpertacademy.com/main/common/fileDownload.do?downloadType=CKEditorImages&fileId=AV2XT3_6DWgBBASl)\n",
    "\n",
    "``` \n",
    "A’부분의 상자를 옮겨서, C부분에 덤프하였다. 이때 C 대신 C’부분에 덤프해도 무방하다.\n",
    "2회의 덤프 후, 최고점과 최저점의 차이는 8 – 2 = 6 이 되었다 (최초덤프 이전에는 9 – 1 = 8 이었다).\n",
    "덤프 횟수가 2회로 제한된다면, 이 예시 문제의 정답은 6이 된다.\n",
    "\n",
    "[제약 사항]\n",
    "가로 길이는 항상 100으로 주어진다.\n",
    "모든 위치에서 상자의 높이는 1이상 100이하로 주어진다.\n",
    "덤프 횟수는 1이상 1000이하로 주어진다.\n",
    "주어진 덤프 횟수 이내에 평탄화가 완료되면 더 이상 덤프를 수행할 수 없으므로 그 때의 최고점과 최저점의 높이 차를 반환한다 (주어진 data에 따라 0 또는 1이 된다).\n",
    "\n",
    "[입력]\n",
    "총 10개의 테스트 케이스가 주어지며, 각 테스트 케이스의 첫 번째 줄에는 덤프 횟수가 주어진다. 그리고 다음 줄에 각 상자의 높이값이 주어진다.\n",
    "\n",
    "[출력]\n",
    "#부호와 함께 테스트 케이스의 번호를 출력하고, 공백 문자 후 테스트 케이스의 최고점과 최저점의 높이 차를 출력한다.\n",
    "\n",
    "\n",
    "```"
   ]
  },
  {
   "cell_type": "code",
   "execution_count": 18,
   "metadata": {},
   "outputs": [
    {
     "name": "stdin",
     "output_type": "stream",
     "text": [
      " 834\n",
      " 42 68 35 1 70 25 79 59 63 65 6 46 82 28 62 92 96 43 28 37 92 5 3 54 93 83 22 17 19 96 48 27 72 39 70 13 68 100 36 95 4 12 23 34 74 65 42 12 54 69 48 45 63 58 38 60 24 42 30 79 17 36 91 43 89 7 41 43 65 49 47 6 91 30 71 51 7 2 94 49 30 24 85 55 57 41 67 77 32 9 45 40 27 24 38 39 19 83 30 42\n"
     ]
    },
    {
     "name": "stdout",
     "output_type": "stream",
     "text": [
      "13\n"
     ]
    }
   ],
   "source": [
    "result = []\n",
    "\n",
    "for case in range(10):\n",
    "    N = int(input())\n",
    "    boxes = list(map(int, input().split()))\n",
    "\n",
    "    for i in range(N):\n",
    "        if (max(boxes) - min(boxes))>1:\n",
    "            max_num = boxes.index(max(boxes))\n",
    "            min_num = boxes.index(min(boxes))\n",
    "            boxes[max_num] -= 1\n",
    "            boxes[min_num] += 1\n",
    "\n",
    "    result.append(max(boxes) - min(boxes))\n",
    "    \n",
    "for res in range(len(result)):\n",
    "    print(f'#{res+1} {result[res]}')"
   ]
  }
 ],
 "metadata": {
  "kernelspec": {
   "display_name": "Python 3",
   "language": "python",
   "name": "python3"
  },
  "language_info": {
   "codemirror_mode": {
    "name": "ipython",
    "version": 3
   },
   "file_extension": ".py",
   "mimetype": "text/x-python",
   "name": "python",
   "nbconvert_exporter": "python",
   "pygments_lexer": "ipython3",
   "version": "3.7.7"
  }
 },
 "nbformat": 4,
 "nbformat_minor": 4
}
