{
 "cells": [
  {
   "cell_type": "markdown",
   "metadata": {},
   "source": [
    "# 1209. [S/W 문제해결 기본] 2일차 - Sum"
   ]
  },
  {
   "cell_type": "markdown",
   "metadata": {},
   "source": [
    "```\n",
    "다음 100X100의 2차원 배열이 주어질 때, 각 행의 합, 각 열의 합, 각 대각선의 합 중 최댓값을 구하는 프로그램을 작성하여라.\n",
    "다음과 같은 5X5 배열에서 최댓값은 29이다.\n",
    "```\n",
    "![](https://swexpertacademy.com/main/common/fileDownload.do?downloadType=CKEditorImages&fileId=AV2XTaX6DVkBBASl)\n",
    "\n",
    "```\n",
    "[제약 사항]\n",
    "총 10개의 테스트 케이스가 주어진다.\n",
    "배열의 크기는 100X100으로 동일하다.\n",
    "각 행의 합은 integer 범위를 넘어가지 않는다.\n",
    "동일한 최댓값이 있을 경우, 하나의 값만 출력한다.\n",
    " \n",
    "[입력]\n",
    "각 테스트 케이스의 첫 줄에는 테스트 케이스 번호가 주어지고 그 다음 줄부터는 2차원 배열의 각 행 값이 주어진다.\n",
    "\n",
    "[출력]\n",
    "#부호와 함께 테스트 케이스의 번호를 출력하고, 공백 문자 후 테스트 케이스의 답을 출력한다.\n",
    "```"
   ]
  },
  {
   "cell_type": "code",
   "execution_count": null,
   "metadata": {},
   "outputs": [],
   "source": [
    "result = []\n",
    "for case in range(10):\n",
    "    case_result = []\n",
    "    N = 100\n",
    "    caseNo = int(input())\n",
    "\n",
    "    input_matrix = []\n",
    "    for i in range(N):\n",
    "        input_matrix.append([])\n",
    "        input_line = list(map(int, input().split()))\n",
    "        input_matrix[i] = input_line\n",
    "    \n",
    "    #가로방향\n",
    "    for x1 in range(N):\n",
    "        case_result.append(sum(input_matrix[x1]))\n",
    "\n",
    "    #세로방향\n",
    "    for x1 in range(N):\n",
    "        temp_list = []\n",
    "        for x2 in range(N):\n",
    "            temp_list.append(input_matrix[x2][x1])\n",
    "        case_result.append(sum(temp_list))\n",
    "\n",
    "    #우하향 대각선\n",
    "    x = 0\n",
    "    y = 0\n",
    "    temp_list = []\n",
    "    for z in range(N):\n",
    "        temp_list.append(input_matrix[x][y])\n",
    "        x+=1\n",
    "        y+=1\n",
    "    case_result.append(sum(temp_list))\n",
    "\n",
    "    #좌하향 대각선\n",
    "    x = 0\n",
    "    y = N-1\n",
    "    temp_list = []\n",
    "    for z in range(N):\n",
    "        temp_list.append(input_matrix[x][y])\n",
    "        x+=1\n",
    "        y-=1\n",
    "    case_result.append(sum(temp_list))\n",
    "    \n",
    "    result.append(max(case_result))\n",
    "\n",
    "for res in range(len(result)):\n",
    "    print(f'#{res+1} {result[res]}')"
   ]
  }
 ],
 "metadata": {
  "kernelspec": {
   "display_name": "Python 3",
   "language": "python",
   "name": "python3"
  },
  "language_info": {
   "codemirror_mode": {
    "name": "ipython",
    "version": 3
   },
   "file_extension": ".py",
   "mimetype": "text/x-python",
   "name": "python",
   "nbconvert_exporter": "python",
   "pygments_lexer": "ipython3",
   "version": "3.7.7"
  }
 },
 "nbformat": 4,
 "nbformat_minor": 4
}
