{
 "cells": [
  {
   "cell_type": "markdown",
   "metadata": {},
   "source": [
    "# 1213. [S/W 문제해결 기본] 3일차 - String\n",
    "\n",
    "```\n",
    "주어지는 영어 문장에서 특정한 문자열의 개수를 반환하는 프로그램을 작성하여라.\n",
    "Starteatingwellwiththeseeighttipsforhealthyeating,whichcoverthebasicsofahealthydietandgoodnutrition.\n",
    "위 문장에서 ti 를 검색하면, 답은 4이다.\n",
    "\n",
    "[제약 사항]\n",
    "총 10개의 테스트 케이스가 주어진다.\n",
    "문장의 길이는 1000자를 넘어가지 않는다.\n",
    "한 문장에서 검색하는 문자열의 길이는 최대 10을 넘지 않는다.\n",
    "한 문장에서는 하나의 문자열만 검색한다. \n",
    "\n",
    "[입력]\n",
    "각 테스트 케이스의 첫 줄에는 테스트 케이스의 번호가 주어지고 그 다음 줄에는 찾을 문자열, 그 다음 줄에는 검색할 문장이 주어진다.\n",
    "\n",
    "[출력]\n",
    "#부호와 함께 테스트 케이스의 번호를 출력하고, 공백 문자 후 테스트 케이스의 답을 출력한다.\n",
    "```"
   ]
  },
  {
   "cell_type": "code",
   "execution_count": null,
   "metadata": {},
   "outputs": [],
   "source": [
    "result = []\n",
    "for case in range(10):\n",
    "    caseNo = input()\n",
    "    short_word = input()\n",
    "    long_word = input()\n",
    "    \n",
    "    case_result = long_word.count(short_word)\n",
    "    \n",
    "    result.append(case_result)\n",
    "    \n",
    "for res in range(len(result)):\n",
    "    print(f'#{res+1} {result[res]}')"
   ]
  }
 ],
 "metadata": {
  "kernelspec": {
   "display_name": "Python 3",
   "language": "python",
   "name": "python3"
  },
  "language_info": {
   "codemirror_mode": {
    "name": "ipython",
    "version": 3
   },
   "file_extension": ".py",
   "mimetype": "text/x-python",
   "name": "python",
   "nbconvert_exporter": "python",
   "pygments_lexer": "ipython3",
   "version": "3.7.7"
  }
 },
 "nbformat": 4,
 "nbformat_minor": 4
}
