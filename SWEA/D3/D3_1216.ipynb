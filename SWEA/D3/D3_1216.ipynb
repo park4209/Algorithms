{
 "cells": [
  {
   "cell_type": "markdown",
   "metadata": {},
   "source": [
    "# 1216. [S/W 문제해결 기본] 3일차 - 회문2"
   ]
  },
  {
   "cell_type": "markdown",
   "metadata": {},
   "source": [
    "```\n",
    "\"기러기\" 또는 \"level\" 과 같이 거꾸로 읽어도 제대로 읽은 것과 같은 문장이나 낱말을 회문(回文, palindrome)이라 한다.\n",
    "주어진 100x100 평면 글자판에서 가로, 세로를 모두 보아 가장 긴 회문의 길이를 구하는 문제이다.\n",
    "```\n",
    "![](https://swexpertacademy.com/main/common/fileDownload.do?downloadType=CKEditorImages&fileId=AV2XWRy6DYwBBASl)\n",
    "\n",
    "```\n",
    "위와 같은 글자 판이 주어졌을 때, 길이가 가장 긴 회문은 붉은색 테두리로 표시된 7칸짜리 회문이다.\n",
    "예시의 경우 설명을 위해 글자판의 크기가 100 x 100이 아닌 8 x 8으로 주어졌음에 주의한다.\n",
    "\n",
    "[제약사항]\n",
    "각 칸의 들어가는 글자는 c언어 char type으로 주어지며 'A', 'B', 'C' 중 하나이다.\n",
    "글자 판은 무조건 정사각형으로 주어진다.\n",
    "ABA도 회문이며, ABBA도 회문이다. A또한 길이 1짜리 회문이다.\n",
    "가로, 세로 각각에 대해서 직선으로만 판단한다. 즉, 아래 예에서 노란색 경로를 따라가면 길이 7짜리 회문이 되지만 직선이 아니기 때문에 인정되지 않는다. \n",
    "```\n",
    "![](https://swexpertacademy.com/main/common/fileDownload.do?downloadType=CKEditorImages&fileId=AV2XWU-aDY0BBASl)\n",
    "\n",
    "```\n",
    "[입력]\n",
    "각 테스트 케이스의 첫 번째 줄에는 테스트 케이스의 번호가 주어지며, 바로 다음 줄에 테스트 케이스가 주어진다.\n",
    "총 10개의 테스트케이스가 주어진다.\n",
    "\n",
    "[출력]\n",
    "#부호와 함께 테스트 케이스의 번호를 출력하고, 공백 문자 후 찾은 회문의 길이를 출력한다.\n",
    "```"
   ]
  },
  {
   "cell_type": "code",
   "execution_count": 9,
   "metadata": {},
   "outputs": [],
   "source": [
    "#주어진 단어의 가장 긴 회문 길이 구하는 함수\n",
    "def check_longest_pal(word):    \n",
    "    cnt = 0\n",
    "\n",
    "    #홀수개 찾기\n",
    "    for i in range(len(word)):\n",
    "        cnt_temp = 1\n",
    "        j = 0\n",
    "        while j<min(i, len(word)-(i+1)):\n",
    "            j +=1\n",
    "            if word[i-j] != word[i+j]:\n",
    "                break\n",
    "            else:\n",
    "                cnt_temp += 2\n",
    "        if cnt<cnt_temp:\n",
    "            cnt = cnt_temp\n",
    "\n",
    "    #짝수개 찾기\n",
    "    for i in range(len(word)-1):\n",
    "        cnt_temp = 0\n",
    "        j = 0\n",
    "\n",
    "        while j<=min(i, len(word)-(i+2)):\n",
    "            j +=1\n",
    "            if word[i-j+1] != word[i+j]:\n",
    "                break\n",
    "            else:\n",
    "                cnt_temp += 2\n",
    "        if cnt < cnt_temp:\n",
    "            cnt = cnt_temp\n",
    "\n",
    "    return cnt"
   ]
  },
  {
   "cell_type": "code",
   "execution_count": null,
   "metadata": {},
   "outputs": [],
   "source": [
    "result = {}\n",
    "\n",
    "for case in range(10):\n",
    "    caseNo = int(input())\n",
    "\n",
    "    leng_list = []\n",
    "    input_matrix = []\n",
    "    for z in range(100):\n",
    "        input_matrix.append(input())\n",
    "\n",
    "    #가로방향 체크\n",
    "    for x1 in range(len(input_matrix)):\n",
    "        leng_list.append(check_longest_pal(input_matrix[x1]))\n",
    "\n",
    "    #매트릭스 회전\n",
    "    convert_matrix = []\n",
    "    for y1 in range(len(input_matrix)):\n",
    "        con = ''\n",
    "        for y2 in range(len(input_matrix[y1])):\n",
    "            con += input_matrix[y2][y1]\n",
    "        convert_matrix.append(con)\n",
    "    input_matrix = convert_matrix\n",
    "\n",
    "    #세로방향 체크\n",
    "    for x1 in range(len(input_matrix)):\n",
    "        leng_list.append(check_longest_pal(input_matrix[x1]))\n",
    "\n",
    "    result[caseNo] = max(leng_list)\n",
    "\n",
    "for res in result.keys():\n",
    "    print(f'#{res} {result[res]}')"
   ]
  }
 ],
 "metadata": {
  "kernelspec": {
   "display_name": "Python 3",
   "language": "python",
   "name": "python3"
  },
  "language_info": {
   "codemirror_mode": {
    "name": "ipython",
    "version": 3
   },
   "file_extension": ".py",
   "mimetype": "text/x-python",
   "name": "python",
   "nbconvert_exporter": "python",
   "pygments_lexer": "ipython3",
   "version": "3.7.4"
  }
 },
 "nbformat": 4,
 "nbformat_minor": 4
}
