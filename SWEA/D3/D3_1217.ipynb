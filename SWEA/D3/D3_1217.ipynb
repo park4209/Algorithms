{
 "cells": [
  {
   "cell_type": "markdown",
   "metadata": {},
   "source": [
    "# 1217. [S/W 문제해결 기본] 4일차 - 거듭 제곱"
   ]
  },
  {
   "cell_type": "markdown",
   "metadata": {},
   "source": [
    "```\n",
    "다음과 같이 두 개의 숫자 N, M이 주어질 때, N의 M 거듭제곱 값을 구하는 프로그램을 재귀호출을 이용하여 구현해 보아라.\n",
    "\n",
    "2 5 = 2 X 2 X 2 X 2 X 2 = 32\n",
    "3 6 = 3 X 3 X 3 X 3 X 3 X 3 = 729\n",
    "\n",
    "[제약 사항]\n",
    "총 10개의 테스트 케이스가 주어진다.\n",
    "결과 값은 Integer 범위를 넘어가지 않는다.\n",
    "\n",
    "[입력]\n",
    "각 테스트 케이스의 첫 줄에는 테스트 케이스의 번호가 주어지고 그 다음 줄에는 두 개의 숫자가 주어진다.\n",
    "\n",
    "[출력]\n",
    "#부호와 함께 테스트 케이스의 번호를 출력하고, 공백 문자 후 테스트 케이스에 대한 답을 출력한다.\n",
    "```"
   ]
  },
  {
   "cell_type": "code",
   "execution_count": null,
   "metadata": {},
   "outputs": [],
   "source": [
    "def squared(N, M):\n",
    "    if M == 1:\n",
    "        return N\n",
    "    else:\n",
    "        return N * squared(N, M-1)\n",
    "    \n",
    "result = {}\n",
    "\n",
    "for case in range(10):\n",
    "    caseNo = int(input())\n",
    "    \n",
    "    NM_input = list(map(int, input().split()))\n",
    "    N = NM_input[0]\n",
    "    M = NM_input[1]\n",
    "    \n",
    "    case_result = squared(N, M)\n",
    "    \n",
    "    result[caseNo] = case_result\n",
    "    \n",
    "for res in result.keys():\n",
    "    print(f'#{res} {result[res]}')"
   ]
  }
 ],
 "metadata": {
  "kernelspec": {
   "display_name": "Python 3",
   "language": "python",
   "name": "python3"
  },
  "language_info": {
   "codemirror_mode": {
    "name": "ipython",
    "version": 3
   },
   "file_extension": ".py",
   "mimetype": "text/x-python",
   "name": "python",
   "nbconvert_exporter": "python",
   "pygments_lexer": "ipython3",
   "version": "3.7.4"
  }
 },
 "nbformat": 4,
 "nbformat_minor": 4
}
