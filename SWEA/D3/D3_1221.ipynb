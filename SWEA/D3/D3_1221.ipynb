{
 "cells": [
  {
   "cell_type": "markdown",
   "metadata": {},
   "source": [
    "# 1221. [S/W 문제해결 기본] 5일차 - GNS"
   ]
  },
  {
   "cell_type": "markdown",
   "metadata": {},
   "source": [
    "```\n",
    "숫자 체계가 우리와 다른 어느 행성이 있다. 아래는 이 행성에서 사용하는 0 ~ 9의 값을 순서대로 나타낸 것이다.\n",
    "\"ZRO\", \"ONE\", \"TWO\", \"THR\", \"FOR\", \"FIV\", \"SIX\", \"SVN\", \"EGT\", \"NIN\"\n",
    "0 ~ 9 의 값을 나타내는 단어가 섞여 있는 문자열을 받아 작은 수부터 차례로 정렬하여 출력하는 프로그램을 작성하라.\n",
    "예를 들어 입력 문자열이 \"TWO NIN TWO TWO FIV FOR\" 일 경우 정렬한 문자열은 \"TWO TWO TWO FOR FIV NIN\" 이 된다.\n",
    "\n",
    "[입력]\n",
    "입력 파일의 첫 번째 줄에는 테스트 케이스의 개수가 주어진다.\n",
    "그 다음 줄에 #기호와 함께 테스트 케이스의 번호가 주어지고 공백문자 후 테스트 케이스의 길이가 주어진다.\n",
    "그 다음 줄부터 바로 테스트 케이스가 주어진다. 단어와 단어 사이는 하나의 공백으로 구분하며, 문자열의 길이 N은 100≤N≤10000이다.\n",
    "\n",
    "[출력]\n",
    "#부호와 함께 테스트 케이스의 번호를 출력하고, 공백 문자 후 정렬된 문자열을 출력한다.\n",
    "```"
   ]
  },
  {
   "cell_type": "code",
   "execution_count": null,
   "metadata": {},
   "outputs": [],
   "source": [
    "T = int(input())\n",
    "result = {}\n",
    "GNS = [\"ZRO\", \"ONE\", \"TWO\", \"THR\", \"FOR\", \"FIV\", \"SIX\", \"SVN\", \"EGT\", \"NIN\"]\n",
    "\n",
    "for case in range(T):\n",
    "    CN_input = list(map(str, input().split()))\n",
    "    caseNo = CN_input[0]\n",
    "    num = int(CN_input[1])\n",
    "\n",
    "    cnt_list = [0] * len(GNS)\n",
    "    input_data = input()\n",
    "    \n",
    "    for i in range(len(GNS)):\n",
    "        cnt_list[i] = input_data.count(GNS[i])\n",
    "    \n",
    "    case_result = ''\n",
    "    for i in range(len(GNS)):\n",
    "        case_result += (GNS[i]+' ')*cnt_list[i]\n",
    "    case_result = case_result[:-1]\n",
    "    \n",
    "    result[caseNo] = case_result\n",
    "    \n",
    "for res in result.keys():\n",
    "    print(f'{res} {result[res]}')"
   ]
  }
 ],
 "metadata": {
  "kernelspec": {
   "display_name": "Python 3",
   "language": "python",
   "name": "python3"
  },
  "language_info": {
   "codemirror_mode": {
    "name": "ipython",
    "version": 3
   },
   "file_extension": ".py",
   "mimetype": "text/x-python",
   "name": "python",
   "nbconvert_exporter": "python",
   "pygments_lexer": "ipython3",
   "version": "3.7.7"
  }
 },
 "nbformat": 4,
 "nbformat_minor": 4
}
