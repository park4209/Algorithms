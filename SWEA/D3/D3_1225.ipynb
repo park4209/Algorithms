{
 "cells": [
  {
   "cell_type": "markdown",
   "metadata": {},
   "source": [
    "# 1225. [S/W 문제해결 기본] 7일차 - 암호생성기"
   ]
  },
  {
   "cell_type": "markdown",
   "metadata": {},
   "source": [
    "```\n",
    "다음 주어진 조건에 따라 n개의 수를 처리하면 8자리의 암호를 생성할 수 있다.\n",
    "- 8개의 숫자를 입력 받는다.\n",
    "- 첫 번째 숫자를 1 감소한 뒤, 맨 뒤로 보낸다. \n",
    "- 다음 첫 번째 수는 2 감소한 뒤 맨 뒤로, 그 다음 첫 번째 수는 3을 감소하고 맨 뒤로, 그 다음 수는 4, 그 다음 수는 5를 감소한다.\n",
    "  이와 같은 작업을 한 사이클이라 한다.\n",
    "\n",
    "- 숫자가 감소할 때 0보다 작아지는 경우 0으로 유지되며, 프로그램은 종료된다. 이 때의 8자리의 숫자 값이 암호가 된다.\n",
    "\n",
    "\n",
    "[1 사이클]\n",
    "```\n",
    "![](https://swexpertacademy.com/main/common/fileDownload.do?downloadType=CKEditorImages&fileId=AV2XX0YqDbsBBASl)\n",
    "```\n",
    "[2 사이클]\n",
    "```\n",
    "![](https://swexpertacademy.com/main/common/fileDownload.do?downloadType=CKEditorImages&fileId=AV84HE56LxsDFAUN)\n",
    "\n",
    " \n",
    "```\n",
    "[암호 도출]\n",
    " \n",
    "[제약 사항]\n",
    "주어지는 각 수는 integer 범위를 넘지 않는다.\n",
    "마지막 암호 배열은 모두 한 자리 수로 구성되어 있다.\n",
    "\n",
    "[입력]\n",
    "각 테스트 케이스의 첫 줄에는 테스트 케이스의 번호가 주어지고, 그 다음 줄에는 8개의 데이터가 주어진다.\n",
    "\n",
    "[출력]\n",
    "#부호와 함께 테스트케이스의 번호를 출력하고, 공백 문자 후 테스트 케이스의 답을 출력한다.\n",
    "```"
   ]
  },
  {
   "cell_type": "code",
   "execution_count": 32,
   "metadata": {},
   "outputs": [
    {
     "name": "stdin",
     "output_type": "stream",
     "text": [
      " 1\n",
      " 9550 9556 9550 9553 9558 9551 9551 9551\n",
      " 2\n",
      " 9550 9556 9550 9553 9558 9551 9551 9551\n"
     ]
    },
    {
     "name": "stdout",
     "output_type": "stream",
     "text": [
      "#1 [6, 2, 2, 9, 4, 1, 3, 0]\n",
      "#2 [6, 2, 2, 9, 4, 1, 3, 0]\n"
     ]
    }
   ],
   "source": [
    "result = {}\n",
    "\n",
    "for case in range(10):\n",
    "    caseno = int(input())\n",
    "    input_data = list(map(int, input().split()))\n",
    "    \n",
    "    while (input_data[-1] != 0):\n",
    "        for x in range(1, 6):\n",
    "            if input_data[0]-x <= 0:\n",
    "                input_data.append(0)\n",
    "                input_data = input_data[1:]\n",
    "                break\n",
    "            else:\n",
    "                input_data.append(input_data[0]-x)\n",
    "\n",
    "            input_data = input_data[1:]\n",
    "\n",
    "    result[caseno] = input_data\n",
    "\n",
    "for res in result.keys():\n",
    "    print(f'#{res}', end = ' ')\n",
    "    \n",
    "    for res2 in range(len(result[res])):\n",
    "        print(result[res][res2], end = ' ')\n",
    "    print()"
   ]
  }
 ],
 "metadata": {
  "kernelspec": {
   "display_name": "Python 3",
   "language": "python",
   "name": "python3"
  },
  "language_info": {
   "codemirror_mode": {
    "name": "ipython",
    "version": 3
   },
   "file_extension": ".py",
   "mimetype": "text/x-python",
   "name": "python",
   "nbconvert_exporter": "python",
   "pygments_lexer": "ipython3",
   "version": "3.7.7"
  }
 },
 "nbformat": 4,
 "nbformat_minor": 4
}
