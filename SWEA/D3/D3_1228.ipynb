{
 "cells": [
  {
   "cell_type": "markdown",
   "metadata": {},
   "source": [
    "# 1228. [S/W 문제해결 기본] 8일차 - 암호문1"
   ]
  },
  {
   "cell_type": "markdown",
   "metadata": {},
   "source": [
    "```\n",
    "0 ~ 999999 사이의 수를 나열하여 만든 암호문이 있다.\n",
    "암호문을 급히 수정해야 할 일이 발생했는데, 이 암호문은 특수 제작된 처리기로만 수정이 가능하다.\n",
    "이 처리기는 다음과 같이 1개의 기능을 제공한다.\n",
    "1. I(삽입) x, y, s : 앞에서부터 x의 위치 바로 다음에 y개의 숫자를 삽입한다. s는 덧붙일 숫자들이다.[ ex) I 3 2 123152 487651 ]\n",
    "위의 규칙에 맞게 작성된 명령어를 나열하여 만든 문자열이 주어졌을 때, 암호문을 수정하고, 수정된 결과의 처음 10개 숫자를 출력하는 프로그램을 작성하여라.\n",
    "\n",
    "[입력]\n",
    "첫 번째 줄 : 원본 암호문의 길이 N ( 10 ≤ N ≤ 20 의 정수)\n",
    "두 번째 줄 : 원본 암호문\n",
    "세 번째 줄 : 명령어의 개수 ( 5 ≤ N ≤ 10 의 정수)\n",
    "네 번째 줄 : 명령어\n",
    "위와 같은 네 줄이 한 개의 테스트 케이스이며, 총 10개의 테스트 케이스가 주어진다.\n",
    "\n",
    "[출력]\n",
    "#기호와 함께 테스트 케이스의 번호를 출력하고, 공백 문자 후 수정된 암호문의 처음 10개 항을 출력한다.\n",
    "```"
   ]
  },
  {
   "cell_type": "markdown",
   "metadata": {},
   "source": [
    "```\n",
    "1) 주어진 명령을 x, y, s 로 구분하기\n",
    "2) source 리스트의 중간에 값을 삽입하는 방법을 고안하기\n",
    "3) 2)를 적용하여 답안 작성\n",
    "```"
   ]
  },
  {
   "cell_type": "code",
   "execution_count": 41,
   "metadata": {},
   "outputs": [
    {
     "name": "stdin",
     "output_type": "stream",
     "text": [
      " 11\n",
      " 449047 855428 425117 532416 358612 929816 313459 311433 472478 589139 568205\n",
      " 7\n",
      " I 1 5 400905 139831 966064 336948 119288 I 8 6 436704 702451 762737 557561 810021 771706 I 3 8 389953 706628 552108 238749 661021 498160 493414 377808 I 13 4 237017 301569 243869 252994 I 3 4 408347 618608 822798 370982 I 8 2 424216 356268 I 4 10 512816 992679 693002 835918 768525 949227 628969 521945 839380 479976\n"
     ]
    }
   ],
   "source": [
    "result = {}\n",
    "\n",
    "for case in range(10):\n",
    "    N = int(input())\n",
    "    input_data = list(map(str, input().split()))\n",
    "    \n",
    "    command_cnt = int(input())\n",
    "    command_all = list(map(str, input().split()))\n",
    "\n",
    "    #명령어 처리부 -> Insert 만 있으므로 동일한 위치에 명령어가 주어진다는 것을 활용함\n",
    "    for com in range(command_cnt):\n",
    "        pointer = int(command_all[1])\n",
    "        com_len = int(command_all[2])\n",
    "        com_list = command_all[3:3+com_len]\n",
    "        command_all = command_all[3+com_len:]\n",
    "\n",
    "        input_data = input_data[:pointer] + com_list + input_data[pointer:]\n",
    "\n",
    "    output_data = input_data[:10]\n",
    "    result[case] = output_data\n",
    "\n",
    "for res in result.keys():\n",
    "    print(f'#{res}', end = ' ')\n",
    "    \n",
    "    for res2 in range(len(result[res])):\n",
    "        print(result[res][res2], end = ' ')\n",
    "    print()"
   ]
  }
 ],
 "metadata": {
  "kernelspec": {
   "display_name": "Python 3",
   "language": "python",
   "name": "python3"
  },
  "language_info": {
   "codemirror_mode": {
    "name": "ipython",
    "version": 3
   },
   "file_extension": ".py",
   "mimetype": "text/x-python",
   "name": "python",
   "nbconvert_exporter": "python",
   "pygments_lexer": "ipython3",
   "version": "3.7.7"
  }
 },
 "nbformat": 4,
 "nbformat_minor": 4
}
