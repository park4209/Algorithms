{
 "cells": [
  {
   "cell_type": "markdown",
   "metadata": {},
   "source": [
    "# 1230. [S/W 문제해결 기본] 8일차 - 암호문3"
   ]
  },
  {
   "cell_type": "markdown",
   "metadata": {},
   "source": [
    "```\n",
    "0 ~ 999999 사이의 수를 나열하여 만든 암호문이 있다.\n",
    "암호문을 급히 수정해야 할 일이 발생했는데, 이 암호문은 특수 제작된 처리기로만 수정이 가능하다.\n",
    "이 처리기는 다음과 같이 3개의 기능을 제공한다.\n",
    "\n",
    "1. I(삽입) x, y, s : 앞에서부터 x의 위치 바로 다음에 y개의 숫자를 삽입한다. s는 덧붙일 숫자들이다.[ ex) I 3 2 123152 487651 ]\n",
    "2. D(삭제) x, y : 앞에서부터 x의 위치 바로 다음부터 y개의 숫자를 삭제한다.[ ex) D 4 4 ]\n",
    "3. A(추가) y, s : 암호문의 맨 뒤에 y개의 숫자를 덧붙인다. s는 덧붙일 숫자들이다. [ ex) A 2 421257 796813 ]\n",
    "위의 규칙에 맞게 작성된 명령어를 나열하여 만든 문자열이 주어졌을 때, 암호문을 수정하고, 수정된 결과의 처음 10개 숫자를 출력하는 프로그램을 작성하여라.\n",
    "\n",
    "[입력]\n",
    "첫 번째 줄 : 원본 암호문의 길이 N ( 2000 ≤ N ≤ 4000 의 정수)\n",
    "두 번째 줄 : 원본 암호문\n",
    "세 번째 줄 : 명령어의 개수 ( 250 ≤ N ≤ 500 의 정수)\n",
    "네 번째 줄 : 명령어\n",
    "위와 같은 네 줄이 한 개의 테스트 케이스이며, 총 10개의 테스트 케이스가 주어진다.\n",
    "\n",
    "[출력]\n",
    "#기호와 함께 테스트 케이스의 번호를 출력하고, 공백 문자 후 수정된 암호문의 처음 10개 항을 출력한다.\n",
    "\n",
    "[제약 사항]\n",
    "실행 시간 60ms 이하\n",
    "```"
   ]
  },
  {
   "cell_type": "code",
   "execution_count": null,
   "metadata": {},
   "outputs": [],
   "source": [
    "result = {}\n",
    "\n",
    "for case in range(10):\n",
    "    N = int(input())\n",
    "    input_data = list(map(str, input().split()))\n",
    "    \n",
    "    command_cnt = int(input())\n",
    "    command_all = list(map(str, input().split()))\n",
    "\n",
    "    #명령어 처리부 -> I, D 에 따라 처리방법 상이\n",
    "    for com in range(command_cnt):\n",
    "        ID_command = command_all[0]\n",
    "\n",
    "        if ID_command == 'I':\n",
    "            pointer = int(command_all[1])\n",
    "            com_len = int(command_all[2])\n",
    "            com_list = command_all[3:3+com_len]\n",
    "            command_all = command_all[3+com_len:]\n",
    "            input_data = input_data[:pointer] + com_list + input_data[pointer:]\n",
    "        elif ID_command == 'D':\n",
    "            pointer = int(command_all[1])\n",
    "            com_len = int(command_all[2])\n",
    "            command_all = command_all[3:]\n",
    "            input_data = input_data[:pointer] + input_data[(pointer+com_len):]\n",
    "        elif ID_command == 'A':\n",
    "            com_len = int(command_all[1])\n",
    "            com_list = command_all[2:2+com_len]\n",
    "            command_all = command_all[2+com_len:]\n",
    "            \n",
    "    output_data = input_data[:10]\n",
    "    result[case] = output_data\n",
    "\n",
    "for res in result.keys():\n",
    "    print(f'#{res+1}', end = ' ')\n",
    "    \n",
    "    for res2 in range(len(result[res])):\n",
    "        print(result[res][res2], end = ' ')\n",
    "    print()"
   ]
  }
 ],
 "metadata": {
  "kernelspec": {
   "display_name": "Python 3",
   "language": "python",
   "name": "python3"
  },
  "language_info": {
   "codemirror_mode": {
    "name": "ipython",
    "version": 3
   },
   "file_extension": ".py",
   "mimetype": "text/x-python",
   "name": "python",
   "nbconvert_exporter": "python",
   "pygments_lexer": "ipython3",
   "version": "3.7.4"
  }
 },
 "nbformat": 4,
 "nbformat_minor": 4
}
