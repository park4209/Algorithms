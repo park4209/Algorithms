{
 "cells": [
  {
   "cell_type": "markdown",
   "metadata": {},
   "source": [
    "# 1234. [S/W 문제해결 기본] 10일차 - 비밀번호"
   ]
  },
  {
   "cell_type": "markdown",
   "metadata": {},
   "source": [
    "```\n",
    "평소에 잔머리가 발달하고 게으른 철수는 비밀번호를 기억하는 것이 너무 귀찮았습니다.\n",
    "적어서 가지고 다니고 싶지만 누가 볼까봐 걱정입니다. 한가지 생각을 해냅니다.\n",
    "0~9로 이루어진 번호 문자열에서 같은 번호로 붙어있는 쌍들을 소거하고 남은 번호를 비밀번호로 만드는 것입니다.\n",
    "번호 쌍이 소거되고 소거된 번호 쌍의 좌우 번호가 같은 번호이면 또 소거 할 수 있습니다.\n",
    "예를 들어 아래의 번호 열을 철수의 방법으로 소거하고 알아낸 비밀 번호입니다.\n",
    "```\n",
    "![](https://swexpertacademy.com/main/common/fileDownload.do?downloadType=CKEditorImages&fileId=AV2XaY16DesBBASl)\n",
    "\n",
    "```\n",
    "[입력]\n",
    "10개의 테스트 케이스가 10줄에 걸쳐, 한 줄에 테스트 케이스 하나씩 제공된다.\n",
    "각 테스트 케이스는 우선 문자열이 포함하는 문자의 총 수가 주어지고, 공백을 둔 다음 번호 문자열이 공백 없이 제공된다.\n",
    "문자열은 0~9로 구성되며 문자열의 길이 N은 10≤N≤100이다. 비밀번호의 길이는 문자열의 길이보다 작다.\n",
    " \n",
    "[출력]\n",
    "#부호와 함께 테스트 케이스의 번호를 출력하고, 공백 문자 후 테스트 케이스에 대한 답(비밀번호)을 출력한다.\n",
    "```"
   ]
  },
  {
   "cell_type": "markdown",
   "metadata": {},
   "source": [
    "```\n",
    "<Input>\n",
    "10 1238099084  \n",
    "16 4100112380990844\n",
    "\n",
    "<Output>\n",
    "#1 1234\n",
    "#2 4123\n",
    "```"
   ]
  },
  {
   "cell_type": "code",
   "execution_count": 10,
   "metadata": {},
   "outputs": [
    {
     "name": "stdin",
     "output_type": "stream",
     "text": [
      " 10 1238099084\n",
      " 16 4100112380990844\n"
     ]
    },
    {
     "name": "stdout",
     "output_type": "stream",
     "text": [
      "#1 1234\n",
      "#2 4123\n"
     ]
    }
   ],
   "source": [
    "result = {}\n",
    "for case in range(10):\n",
    "    N_data = list(map(str, input().split()))\n",
    "\n",
    "    N = int(N_data[0])\n",
    "    input_data = N_data[1]\n",
    "    \n",
    "    i = 0\n",
    "    while i<=N-2:\n",
    "        if input_data[i]==input_data[i+1]:\n",
    "            input_data = input_data[:i] + input_data[i+2:]\n",
    "            i -= 1\n",
    "            N -= 2\n",
    "        else:\n",
    "            i += 1\n",
    "    result[case] = input_data\n",
    "    \n",
    "for res in result.keys():\n",
    "    print(f'#{res+1} {result[res]}')"
   ]
  }
 ],
 "metadata": {
  "kernelspec": {
   "display_name": "Python 3",
   "language": "python",
   "name": "python3"
  },
  "language_info": {
   "codemirror_mode": {
    "name": "ipython",
    "version": 3
   },
   "file_extension": ".py",
   "mimetype": "text/x-python",
   "name": "python",
   "nbconvert_exporter": "python",
   "pygments_lexer": "ipython3",
   "version": "3.7.7"
  }
 },
 "nbformat": 4,
 "nbformat_minor": 4
}
