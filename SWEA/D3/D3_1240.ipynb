{
 "cells": [
  {
   "cell_type": "markdown",
   "metadata": {},
   "source": [
    "# 1240. [S/W 문제해결 응용] 1일차 - 단순 2진 암호코드"
   ]
  },
  {
   "cell_type": "markdown",
   "metadata": {},
   "source": [
    "[링크](https://swexpertacademy.com/main/code/problem/problemDetail.do?contestProbId=AV15FZuqAL4CFAYD&categoryId=AV15FZuqAL4CFAYD&categoryType=CODE)"
   ]
  },
  {
   "cell_type": "markdown",
   "metadata": {},
   "source": [
    "```\n",
    "<Input>\n",
    "2\n",
    "16 80\n",
    "00000000000000000000000000000000000000000000000000000000000000000000000000000000\n",
    "00000000000000000000000000000000000000000000000000000000000000000000000000000000\n",
    "00000000000000000000000000000000000000000000000000000000000000000000000000000000\n",
    "00000000000000000000000000000000000000000000000000000000000000000000000000000000\n",
    "00000000000000000000000000000000000000000000000000000000000000000000000000000000\n",
    "00000000000000000000000000000000000000000000000000000000000000000000000000000000\n",
    "00000000000000011101101100010111011011000101100010001101001001101110110000000000\n",
    "00000000000000011101101100010111011011000101100010001101001001101110110000000000\n",
    "00000000000000011101101100010111011011000101100010001101001001101110110000000000\n",
    "00000000000000011101101100010111011011000101100010001101001001101110110000000000\n",
    "00000000000000011101101100010111011011000101100010001101001001101110110000000000\n",
    "00000000000000011101101100010111011011000101100010001101001001101110110000000000\n",
    "00000000000000011101101100010111011011000101100010001101001001101110110000000000\n",
    "00000000000000000000000000000000000000000000000000000000000000000000000000000000\n",
    "00000000000000000000000000000000000000000000000000000000000000000000000000000000\n",
    "00000000000000000000000000000000000000000000000000000000000000000000000000000000\n",
    "11 70\n",
    "00000000000000000000000000000000000000000000000000000000000000000000000\n",
    "00000000000000000000000000000000000000000000000000000000000000000000000\n",
    "00000001100101000110100011010111101101110010011001001101110110000000000\n",
    "00000001100101000110100011010111101101110010011001001101110110000000000\n",
    "00000001100101000110100011010111101101110010011001001101110110000000000\n",
    "00000001100101000110100011010111101101110010011001001101110110000000000\n",
    "00000001100101000110100011010111101101110010011001001101110110000000000\n",
    "00000001100101000110100011010111101101110010011001001101110110000000000\n",
    "00000000000000000000000000000000000000000000000000000000000000000000000\n",
    "00000000000000000000000000000000000000000000000000000000000000000000000\n",
    "00000000000000000000000000000000000000000000000000000000000000000000000\n",
    "\n",
    "<Output>\n",
    "#1 38\n",
    "#2 0\n",
    "```"
   ]
  },
  {
   "cell_type": "code",
   "execution_count": 128,
   "metadata": {},
   "outputs": [],
   "source": [
    "def findpassword(input_matrix):\n",
    "\n",
    "    #step1 : password 라인 찾기\n",
    "    line = 0\n",
    "    for x1 in range(len(input_matrix)):\n",
    "        if input_matrix[x1].count('1') != 0:\n",
    "            line_ = x1\n",
    "    password = input_matrix[line_]\n",
    "    \n",
    "    #step2 : password 시작점 찾기\n",
    "    x1 = 0\n",
    "    while x1<M:\n",
    "        if password[x1:x1+7] in answer:\n",
    "            password = password[k:k+56]\n",
    "            break\n",
    "        else:\n",
    "            x1 += 1\n",
    "            \n",
    "    #step3 : 7자리 씩 자르기\n",
    "    password2 = []\n",
    "    for x1 in range(0, len(password), 7):\n",
    "        password2.append(password[x1:x1+7])\n",
    "        \n",
    "    #step4 : convert password to answer\n",
    "    password = []\n",
    "    for x1 in password2:\n",
    "        password.append(answer.index(x1))\n",
    "        \n",
    "    #step5 : judge correct password\n",
    "    odd_ = 0\n",
    "    even_ = 0\n",
    "    for x1 in range(len(password)-1):\n",
    "        if x1%2:\n",
    "            odd_ += password[x1]\n",
    "        else:\n",
    "            even_ += password[x1]\n",
    "    \n",
    "    code = (odd_ * 3) + even_ + password[-1]\n",
    "    if code % 10 == 0:\n",
    "        return code\n",
    "    else:\n",
    "        return 0"
   ]
  },
  {
   "cell_type": "code",
   "execution_count": null,
   "metadata": {},
   "outputs": [],
   "source": [
    "result = {}\n",
    "\n",
    "T = int(input())\n",
    "\n",
    "for case in range(T):\n",
    "    N, M = map(int, input().split())\n",
    "    \n",
    "    input_matrix = []\n",
    "    for i in range(N):\n",
    "        input_matrix.append(input())\n",
    "    \n",
    "    result[case+1] = findpassword(inputmatrix)"
   ]
  },
  {
   "cell_type": "code",
   "execution_count": 127,
   "metadata": {},
   "outputs": [
    {
     "data": {
      "text/plain": [
       "5"
      ]
     },
     "execution_count": 127,
     "metadata": {},
     "output_type": "execute_result"
    }
   ],
   "source": [
    "55%10"
   ]
  },
  {
   "cell_type": "code",
   "execution_count": 129,
   "metadata": {},
   "outputs": [
    {
     "data": {
      "text/plain": [
       "0"
      ]
     },
     "execution_count": 129,
     "metadata": {},
     "output_type": "execute_result"
    }
   ],
   "source": [
    "findpassword(input_matrix)"
   ]
  },
  {
   "cell_type": "code",
   "execution_count": null,
   "metadata": {},
   "outputs": [],
   "source": []
  },
  {
   "cell_type": "code",
   "execution_count": 120,
   "metadata": {},
   "outputs": [
    {
     "data": {
      "text/plain": [
       "30"
      ]
     },
     "execution_count": 120,
     "metadata": {},
     "output_type": "execute_result"
    }
   ],
   "source": [
    "input_matrix[3].count('1') "
   ]
  },
  {
   "cell_type": "code",
   "execution_count": null,
   "metadata": {},
   "outputs": [],
   "source": []
  },
  {
   "cell_type": "code",
   "execution_count": null,
   "metadata": {},
   "outputs": [],
   "source": []
  },
  {
   "cell_type": "code",
   "execution_count": null,
   "metadata": {},
   "outputs": [],
   "source": []
  },
  {
   "cell_type": "code",
   "execution_count": null,
   "metadata": {},
   "outputs": [],
   "source": []
  },
  {
   "cell_type": "code",
   "execution_count": null,
   "metadata": {},
   "outputs": [],
   "source": []
  },
  {
   "cell_type": "code",
   "execution_count": null,
   "metadata": {},
   "outputs": [],
   "source": []
  },
  {
   "cell_type": "code",
   "execution_count": null,
   "metadata": {},
   "outputs": [],
   "source": []
  },
  {
   "cell_type": "code",
   "execution_count": null,
   "metadata": {},
   "outputs": [],
   "source": []
  },
  {
   "cell_type": "code",
   "execution_count": null,
   "metadata": {},
   "outputs": [],
   "source": []
  },
  {
   "cell_type": "code",
   "execution_count": null,
   "metadata": {},
   "outputs": [],
   "source": []
  },
  {
   "cell_type": "code",
   "execution_count": null,
   "metadata": {},
   "outputs": [],
   "source": []
  },
  {
   "cell_type": "code",
   "execution_count": null,
   "metadata": {},
   "outputs": [],
   "source": []
  },
  {
   "cell_type": "markdown",
   "metadata": {},
   "source": [
    "00000000000000 0111011 0110001 0111011 0110001 0110001 0001101 0010011 0111011 0000000000"
   ]
  },
  {
   "cell_type": "markdown",
   "metadata": {},
   "source": [
    "00000 0011001 0100011 0100011 0101111 0110111 0010011 0010011 0111011 0000000000"
   ]
  },
  {
   "cell_type": "code",
   "execution_count": 73,
   "metadata": {},
   "outputs": [
    {
     "name": "stdin",
     "output_type": "stream",
     "text": [
      " 2\n",
      " 16 80\n",
      " 00000000000000000000000000000000000000000000000000000000000000000000000000000000\n",
      " 00000000000000000000000000000000000000000000000000000000000000000000000000000000\n",
      " 00000000000000000000000000000000000000000000000000000000000000000000000000000000\n",
      " 00000000000000000000000000000000000000000000000000000000000000000000000000000000\n",
      " 00000000000000000000000000000000000000000000000000000000000000000000000000000000\n",
      " 00000000000000000000000000000000000000000000000000000000000000000000000000000000\n",
      " 00000000000000011101101100010111011011000101100010001101001001101110110000000000\n",
      " 00000000000000011101101100010111011011000101100010001101001001101110110000000000\n",
      " 00000000000000011101101100010111011011000101100010001101001001101110110000000000\n",
      " 00000000000000011101101100010111011011000101100010001101001001101110110000000000\n",
      " 00000000000000011101101100010111011011000101100010001101001001101110110000000000\n",
      " 00000000000000011101101100010111011011000101100010001101001001101110110000000000\n",
      " 00000000000000011101101100010111011011000101100010001101001001101110110000000000\n",
      " 00000000000000000000000000000000000000000000000000000000000000000000000000000000\n",
      " 00000000000000000000000000000000000000000000000000000000000000000000000000000000\n",
      " 00000000000000000000000000000000000000000000000000000000000000000000000000000000\n",
      " 11 70\n",
      " 00000000000000000000000000000000000000000000000000000000000000000000000\n",
      " 00000000000000000000000000000000000000000000000000000000000000000000000\n",
      " 00000001100101000110100011010111101101110010011001001101110110000000000\n",
      " 00000001100101000110100011010111101101110010011001001101110110000000000\n",
      " 00000001100101000110100011010111101101110010011001001101110110000000000\n",
      " 00000001100101000110100011010111101101110010011001001101110110000000000\n",
      " 00000001100101000110100011010111101101110010011001001101110110000000000\n",
      " 00000001100101000110100011010111101101110010011001001101110110000000000\n",
      " 00000000000000000000000000000000000000000000000000000000000000000000000\n",
      " 00000000000000000000000000000000000000000000000000000000000000000000000\n",
      " 00000000000000000000000000000000000000000000000000000000000000000000000\n"
     ]
    },
    {
     "name": "stdout",
     "output_type": "stream",
     "text": [
      "#1 38\n",
      "#2 0\n"
     ]
    }
   ],
   "source": [
    "#import sys\n",
    "#sys.stdin = open(\"비밀번호_input.txt\", \"r\")\n",
    "answer = ['0001101', '0011001', '0010011', '0111101', '0100011',\\\n",
    "          '0110001', '0101111', '0111011', '0110111', '0001011']\n",
    "\n",
    "def findpassword(input_matrix):\n",
    "\n",
    "    #step1 : password 라인 찾기\n",
    "    line_ = 0\n",
    "    for x1 in range(len(input_matrix)):\n",
    "        if input_matrix[x1].count('1') != 0:\n",
    "            line_ = x1\n",
    "    password = input_matrix[line_]\n",
    "    \n",
    "    #step2 : password 시작점 찾기\n",
    "    x1 = 0\n",
    "    while x1<M:\n",
    "        if password[x1:x1+7] in answer:\n",
    "            password = password[x1:x1+56]\n",
    "            break\n",
    "        else:\n",
    "            x1 += 1\n",
    "            \n",
    "    #step3 : 7자리 씩 자르기\n",
    "    password2 = []\n",
    "    for x1 in range(0, len(password), 7):\n",
    "        password2.append(password[x1:x1+7])\n",
    "        \n",
    "    #step4 : convert password to answer\n",
    "    password = []\n",
    "    for x1 in password2:\n",
    "        password.append(answer.index(x1))\n",
    "        \n",
    "    #step5 : judge correct password\n",
    "    odd_ = 0\n",
    "    even_ = 0\n",
    "    for x1 in range(len(password)-1):\n",
    "        if x1%2:\n",
    "            odd_ += password[x1]\n",
    "        else:\n",
    "            even_ += password[x1]\n",
    "    \n",
    "    code = (odd_ * 3) + even_ + password[-1]\n",
    "    if code % 10 == 0:\n",
    "        return code\n",
    "    else:\n",
    "        return 0\n",
    "    \n",
    "    \n",
    "result = {}\n",
    "T = int(input())\n",
    "\n",
    "for case in range(T):\n",
    "    N, M = map(int, input().split())\n",
    "    \n",
    "    input_matrix = []\n",
    "    for i in range(N):\n",
    "        input_matrix.append(input())\n",
    "    \n",
    "    result[case+1] = findpassword(input_matrix)"
   ]
  },
  {
   "cell_type": "code",
   "execution_count": 109,
   "metadata": {},
   "outputs": [
    {
     "data": {
      "text/plain": [
       "['0011001',\n",
       " '0100011',\n",
       " '0100011',\n",
       " '0101111',\n",
       " '0110111',\n",
       " '0010011',\n",
       " '0010011',\n",
       " '0111011']"
      ]
     },
     "execution_count": 109,
     "metadata": {},
     "output_type": "execute_result"
    }
   ],
   "source": [
    "password3"
   ]
  },
  {
   "cell_type": "code",
   "execution_count": 113,
   "metadata": {},
   "outputs": [],
   "source": [
    "temp = []\n",
    "for x in range(len(password3)):\n",
    "    temp.append(answer.index(password3[x]))"
   ]
  },
  {
   "cell_type": "code",
   "execution_count": 114,
   "metadata": {},
   "outputs": [
    {
     "data": {
      "text/plain": [
       "[1, 4, 4, 6, 8, 2, 2, 7]"
      ]
     },
     "execution_count": 114,
     "metadata": {},
     "output_type": "execute_result"
    }
   ],
   "source": [
    "temp"
   ]
  },
  {
   "cell_type": "code",
   "execution_count": 80,
   "metadata": {},
   "outputs": [
    {
     "data": {
      "text/plain": [
       "['00000000000000000000000000000000000000000000000000000000000000000000000',\n",
       " '00000000000000000000000000000000000000000000000000000000000000000000000',\n",
       " '00000001100101000110100011010111101101110010011001001101110110000000000',\n",
       " '00000001100101000110100011010111101101110010011001001101110110000000000',\n",
       " '00000001100101000110100011010111101101110010011001001101110110000000000',\n",
       " '00000001100101000110100011010111101101110010011001001101110110000000000',\n",
       " '00000001100101000110100011010111101101110010011001001101110110000000000',\n",
       " '00000001100101000110100011010111101101110010011001001101110110000000000',\n",
       " '00000000000000000000000000000000000000000000000000000000000000000000000',\n",
       " '00000000000000000000000000000000000000000000000000000000000000000000000',\n",
       " '00000000000000000000000000000000000000000000000000000000000000000000000']"
      ]
     },
     "execution_count": 80,
     "metadata": {},
     "output_type": "execute_result"
    }
   ],
   "source": [
    "input_matrix"
   ]
  },
  {
   "cell_type": "code",
   "execution_count": 83,
   "metadata": {},
   "outputs": [
    {
     "data": {
      "text/plain": [
       "30"
      ]
     },
     "execution_count": 83,
     "metadata": {},
     "output_type": "execute_result"
    }
   ],
   "source": []
  },
  {
   "cell_type": "code",
   "execution_count": 139,
   "metadata": {},
   "outputs": [],
   "source": [
    "j = 0\n",
    "while j<=N:\n",
    "    if input_matrix[j].count('1')>0:\n",
    "        break\n",
    "    else:\n",
    "        j += 1\n",
    "password = input_matrix[j]\n",
    "\n",
    "k=0\n",
    "while k<M:\n",
    "    if password[k:k+7] in answer:\n",
    "        password2 = password[k:k+56]\n",
    "        break\n",
    "    else:\n",
    "        k += 1\n",
    "\n",
    "k2 = 0\n",
    "password3 = []\n",
    "while k2<56:\n",
    "    password3.append(password2[k2:k2+7])\n",
    "    k2 += 7\n",
    "\n",
    "password4 = []\n",
    "for pw in password3:\n",
    "    password4.append(answer.index(pw))\n",
    "\n",
    "odd_ = 0\n",
    "even_ = 0\n",
    "for i in range(len(password4)-1):\n",
    "    if i%2:\n",
    "        even_ += password4[i]\n",
    "    else:\n",
    "        odd_ += password4[i]\n",
    "\n",
    "code_last = (odd_ * 3) + even_ + password4[-1]\n",
    "\n",
    "if code_last%10 == 0:\n",
    "    case_result = even_ + odd_ + password4[-1]\n",
    "else:\n",
    "    case_result = 0\n",
    "\n",
    "result[case+1] = case_result"
   ]
  },
  {
   "cell_type": "code",
   "execution_count": 105,
   "metadata": {},
   "outputs": [
    {
     "data": {
      "text/plain": [
       "'14468227'"
      ]
     },
     "execution_count": 105,
     "metadata": {},
     "output_type": "execute_result"
    }
   ],
   "source": [
    "password4"
   ]
  },
  {
   "cell_type": "markdown",
   "metadata": {},
   "source": [
    "---\n"
   ]
  },
  {
   "cell_type": "code",
   "execution_count": 130,
   "metadata": {},
   "outputs": [
    {
     "data": {
      "text/plain": [
       "['00000000000000000000000000000000000000000000000000000000000000000000000',\n",
       " '00000000000000000000000000000000000000000000000000000000000000000000000',\n",
       " '00000001100101000110100011010111101101110010011001001101110110000000000',\n",
       " '00000001100101000110100011010111101101110010011001001101110110000000000',\n",
       " '00000001100101000110100011010111101101110010011001001101110110000000000',\n",
       " '00000001100101000110100011010111101101110010011001001101110110000000000',\n",
       " '00000001100101000110100011010111101101110010011001001101110110000000000',\n",
       " '00000001100101000110100011010111101101110010011001001101110110000000000',\n",
       " '00000000000000000000000000000000000000000000000000000000000000000000000',\n",
       " '00000000000000000000000000000000000000000000000000000000000000000000000',\n",
       " '00000000000000000000000000000000000000000000000000000000000000000000000']"
      ]
     },
     "execution_count": 130,
     "metadata": {},
     "output_type": "execute_result"
    }
   ],
   "source": [
    "input_matrix"
   ]
  },
  {
   "cell_type": "code",
   "execution_count": 131,
   "metadata": {},
   "outputs": [],
   "source": [
    "#step1 : password 라인 찾기\n",
    "line_ = 0\n",
    "for x1 in range(len(input_matrix)):\n",
    "    if input_matrix[x1].count('1') != 0:\n",
    "        line_ = x1\n",
    "password = input_matrix[line_]"
   ]
  },
  {
   "cell_type": "code",
   "execution_count": 132,
   "metadata": {},
   "outputs": [
    {
     "data": {
      "text/plain": [
       "'00000001100101000110100011010111101101110010011001001101110110000000000'"
      ]
     },
     "execution_count": 132,
     "metadata": {},
     "output_type": "execute_result"
    }
   ],
   "source": [
    "password"
   ]
  },
  {
   "cell_type": "code",
   "execution_count": 142,
   "metadata": {},
   "outputs": [],
   "source": [
    "#step2 : password 시작점 찾기\n",
    "x1 = 0\n",
    "while x1<M:\n",
    "    if password[x1:x1+7] in answer:\n",
    "        password = password[x1:x1+56]\n",
    "        break\n",
    "    else:\n",
    "        x1 += 1"
   ]
  },
  {
   "cell_type": "code",
   "execution_count": 143,
   "metadata": {},
   "outputs": [
    {
     "data": {
      "text/plain": [
       "'00110010100011010001101011110110111001001100100110111011'"
      ]
     },
     "execution_count": 143,
     "metadata": {},
     "output_type": "execute_result"
    }
   ],
   "source": [
    "password"
   ]
  },
  {
   "cell_type": "code",
   "execution_count": 144,
   "metadata": {},
   "outputs": [],
   "source": [
    "#step3 : 7자리 씩 자르기\n",
    "password2 = []\n",
    "for x1 in range(0, len(password), 7):\n",
    "    password2.append(password[x1:x1+7])"
   ]
  },
  {
   "cell_type": "code",
   "execution_count": 146,
   "metadata": {},
   "outputs": [],
   "source": [
    "#step4 : convert password to answer\n",
    "password = []\n",
    "for x1 in password2:\n",
    "    password.append(answer.index(x1))"
   ]
  },
  {
   "cell_type": "code",
   "execution_count": 148,
   "metadata": {},
   "outputs": [],
   "source": [
    "#step5 : judge correct password\n",
    "odd_ = 0\n",
    "even_ = 0\n",
    "for x1 in range(len(password)-1):\n",
    "    if x1%2:\n",
    "        odd_ += password[x1]\n",
    "    else:\n",
    "        even_ += password[x1]\n",
    "\n",
    "code = (odd_ * 3) + even_ + password[-1]"
   ]
  }
 ],
 "metadata": {
  "kernelspec": {
   "display_name": "Python 3",
   "language": "python",
   "name": "python3"
  },
  "language_info": {
   "codemirror_mode": {
    "name": "ipython",
    "version": 3
   },
   "file_extension": ".py",
   "mimetype": "text/x-python",
   "name": "python",
   "nbconvert_exporter": "python",
   "pygments_lexer": "ipython3",
   "version": "3.7.7"
  }
 },
 "nbformat": 4,
 "nbformat_minor": 4
}
