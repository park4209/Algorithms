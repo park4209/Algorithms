{
 "cells": [
  {
   "cell_type": "markdown",
   "metadata": {},
   "source": [
    "# SWEA - D1"
   ]
  },
  {
   "cell_type": "markdown",
   "metadata": {},
   "source": [
    "# 1545. 거꾸로 출력해 보아요\n",
    "\n",
    "```\n",
    "주어진 숫자부터 0까지 순서대로 찍어보세요\n",
    "\n",
    "아래는 입력된 숫자가 N일 때 거꾸로 출력하는 예시입니다\n",
    "\n",
    "\n",
    "[입력]\n",
    "\n",
    "8\n",
    "\n",
    "[출력]\n",
    "\n",
    "8 7 6 5 4 3 2 1 0\n",
    "```\n",
    "\n",
    "\n",
    "![](https://swexpertacademy.com/main/common/fileDownload.do?downloadType=CKEditorImages&fileId=AV2geHu6ABcBBAS0)\n"
   ]
  },
  {
   "cell_type": "code",
   "execution_count": 10,
   "metadata": {},
   "outputs": [
    {
     "name": "stdin",
     "output_type": "stream",
     "text": [
      " 8\n"
     ]
    },
    {
     "name": "stdout",
     "output_type": "stream",
     "text": [
      "8 7 6 5 4 3 2 1 0 "
     ]
    }
   ],
   "source": [
    "number = int(input())\n",
    "\n",
    "i = number\n",
    "while i>=0:\n",
    "    print(i, end = \" \")\n",
    "    i -= 1"
   ]
  },
  {
   "cell_type": "markdown",
   "metadata": {},
   "source": [
    "---\n",
    "\n",
    "# 1933. 간단한 N 의 약수\n",
    "\n",
    "```\n",
    "입력으로 1개의 정수 N 이 주어진다.\n",
    "정수 N 의 약수를 오름차순으로 출력하는 프로그램을 작성하라.\n",
    " \n",
    "[제약사항]\n",
    "\n",
    "N은 1이상 1,000이하의 정수이다. (1 ≤ N ≤ 1,000)\n",
    "\n",
    "[입력]\n",
    "\n",
    "입력으로 정수 N 이 주어진다.\n",
    "\n",
    "[출력]\n",
    "\n",
    "정수 N 의 모든 약수를 오름차순으로 출력한다.\n",
    "```\n"
   ]
  },
  {
   "cell_type": "code",
   "execution_count": 32,
   "metadata": {},
   "outputs": [
    {
     "name": "stdin",
     "output_type": "stream",
     "text": [
      " 100\n"
     ]
    },
    {
     "name": "stdout",
     "output_type": "stream",
     "text": [
      "1 2 4 5 10 20 25 50 100 "
     ]
    }
   ],
   "source": [
    "N = int(input())\n",
    "\n",
    "for i in range(1, N+1):\n",
    "    if N%i==0:\n",
    "        print(i, end = ' ')"
   ]
  },
  {
   "cell_type": "markdown",
   "metadata": {},
   "source": [
    "---\n",
    "\n",
    "# 1936. 1대1 가위바위보\n",
    "\n",
    "```\n",
    "A와 B가 가위바위보를 하였다.\n",
    "\n",
    "가위는 1, 바위는 2, 보는 3으로 표현되며 A와 B가 무엇을 냈는지 입력으로 주어진다.\n",
    "\n",
    "A와 B중에 누가 이겼는지 판별해보자. 단, 비기는 경우는 없다.\n",
    "\n",
    " \n",
    "\n",
    "[입력]\n",
    "\n",
    "입력으로 A와 B가 무엇을 냈는지 빈 칸을 사이로 주어진다.\n",
    "\n",
    " \n",
    " \n",
    "\n",
    "[출력]\n",
    "\n",
    "A가 이기면 A, B가 이기면 B를 출력한다.\n",
    "```\n"
   ]
  },
  {
   "cell_type": "code",
   "execution_count": 19,
   "metadata": {},
   "outputs": [
    {
     "name": "stdin",
     "output_type": "stream",
     "text": [
      " 3 2\n"
     ]
    },
    {
     "name": "stdout",
     "output_type": "stream",
     "text": [
      "A\n"
     ]
    }
   ],
   "source": [
    "A, B = map(int, input().split())\n",
    "result = ''\n",
    "if A == 1:\n",
    "    if B == 2:\n",
    "        result = 'B'\n",
    "    elif B == 3:\n",
    "        result = 'A'\n",
    "        \n",
    "elif A == 2:\n",
    "    if B == 1:\n",
    "        result = 'A'\n",
    "    elif B == 3:\n",
    "        result = 'B'\n",
    "\n",
    "elif A == 3:\n",
    "    if B == 2:\n",
    "        result = 'A'\n",
    "    elif B == 1:\n",
    "        result = 'B'\n",
    "        \n",
    "print(result)"
   ]
  },
  {
   "cell_type": "markdown",
   "metadata": {},
   "source": [
    "---\n",
    "\n",
    "# 1938. 아주 간단한 계산기\n",
    "\n",
    "```\n",
    "두 개의 자연수를 입력받아 사칙연산을 수행하는 프로그램을 작성하라.\n",
    "\n",
    " \n",
    "\n",
    "[제약 사항]\n",
    "\n",
    "1. 두 개의 자연수 a, b는 1부터 9까지의 자연수이다. (1 ≤ a, b ≤ 9)\n",
    "\n",
    "2. 사칙연산 + , - , * , / 순서로 연산한 결과를 출력한다.\n",
    "\n",
    "3. 나누기 연산의 결과에서 소수점 이하의 숫자는 버린다.\n",
    "\n",
    " \n",
    "\n",
    "[입력]\n",
    "\n",
    "입력으로 두 개의 자연수 a, b가 빈 칸을 두고 주어진다.\n",
    "\n",
    " \n",
    "\n",
    "[출력]\n",
    "\n",
    "사칙연산의 결과를 각 줄에 순서대로 출력한다.```\n"
   ]
  },
  {
   "cell_type": "code",
   "execution_count": 20,
   "metadata": {},
   "outputs": [],
   "source": [
    "a, b = map(int, input().split())\n",
    "\n",
    "print(a+b)\n",
    "print(a-b)\n",
    "print(a*b)\n",
    "print(int(a/b))"
   ]
  },
  {
   "cell_type": "markdown",
   "metadata": {},
   "source": [
    "---\n",
    "\n",
    "# 2019. 더블더블\n",
    "\n",
    "```\n",
    "1부터 주어진 횟수까지 2를 곱한 값(들)을 출력하시오.\n",
    "\n",
    "주어질 숫자는 30을 넘지 않는다.\n",
    "```"
   ]
  },
  {
   "cell_type": "code",
   "execution_count": 30,
   "metadata": {},
   "outputs": [
    {
     "name": "stdin",
     "output_type": "stream",
     "text": [
      " 8\n"
     ]
    },
    {
     "name": "stdout",
     "output_type": "stream",
     "text": [
      "1 2 4 8 16 32 64 128 256 "
     ]
    }
   ],
   "source": [
    "n = int(input())\n",
    "if n<=30:\n",
    "    for i in range(n+1):\n",
    "        print(2**i, end = ' ')"
   ]
  },
  {
   "cell_type": "markdown",
   "metadata": {},
   "source": [
    "---\n",
    "\n",
    "# 2025. N줄덧셈\n",
    "\n",
    "```\n",
    "1부터 주어진 숫자만큼 모두 더한 값을 출력하시오.\n",
    "\n",
    "단, 주어질 숫자는 10000을 넘지 않는다.\n",
    "\n",
    "\n",
    "[예제]\n",
    "\n",
    "주어진 숫자가 10 일 경우 출력해야 할 정답은,\n",
    "\n",
    "1 + 2 + 3 + 4 + 5 + 6 + 7 + 8 + 9 + 10 = 55\n",
    "```"
   ]
  },
  {
   "cell_type": "code",
   "execution_count": 33,
   "metadata": {},
   "outputs": [
    {
     "name": "stdin",
     "output_type": "stream",
     "text": [
      " 10\n"
     ]
    },
    {
     "name": "stdout",
     "output_type": "stream",
     "text": [
      "55\n"
     ]
    }
   ],
   "source": [
    "N = int(input())\n",
    "sum = 0\n",
    "\n",
    "for i in range(1, N+1):\n",
    "    sum = sum + i\n",
    "print(sum)"
   ]
  },
  {
   "cell_type": "markdown",
   "metadata": {},
   "source": [
    "---\n",
    "# 2027. 대각선 출력하기\n",
    "\n",
    "```\n",
    "주어진 텍스트를 그대로 출력하세요.\n",
    "\n",
    "#++++\n",
    "+#+++\n",
    "++#++\n",
    "+++#+\n",
    "++++#\n",
    "```"
   ]
  },
  {
   "cell_type": "code",
   "execution_count": 46,
   "metadata": {},
   "outputs": [
    {
     "name": "stdout",
     "output_type": "stream",
     "text": [
      "#++++\n",
      "+#+++\n",
      "++#++\n",
      "+++#+\n",
      "++++#\n"
     ]
    }
   ],
   "source": [
    "for i in range(5):\n",
    "    print('+'*(i) + '#' + '+'*(4-i)) "
   ]
  },
  {
   "cell_type": "markdown",
   "metadata": {},
   "source": [
    "# 2029. 몫과 나머지 출력하기\n",
    "\n",
    "```\n",
    "2개의 수 a, b를 입력 받아, a를 b로 나눈 몫과 나머지를 출력하는 프로그램을 작성하라.\n",
    "\n",
    "[제약 사항]\n",
    "\n",
    "각 수는 1이상 10000이하의 정수이다.\n",
    "\n",
    "\n",
    "[입력]\n",
    "\n",
    "가장 첫 줄에는 테스트 케이스의 개수 T가 주어지고, 그 아래로 각 테스트 케이스가 주어진다.\n",
    "\n",
    "각 테스트 케이스의 첫 번째 줄에는 2개의 수가 주어진다.\n",
    "\n",
    "\n",
    "[출력]\n",
    "\n",
    "출력의 각 줄은 '#t'로 시작하고 공백을 한 칸 둔 다음, 몫을 출력하고 공백을 한 칸 둔 다음 나머지를 출력한다.\n",
    "\n",
    "(t는 테스트 케이스의 번호를 의미하며 1부터 시작한다.)\n",
    "```"
   ]
  },
  {
   "cell_type": "code",
   "execution_count": 62,
   "metadata": {},
   "outputs": [
    {
     "name": "stdin",
     "output_type": "stream",
     "text": [
      " 3\n",
      " 9 2\n",
      " 15 6\n",
      " 369 15\n"
     ]
    },
    {
     "name": "stdout",
     "output_type": "stream",
     "text": [
      "#1 4 1\n",
      "#2 2 3\n",
      "#3 24 9\n"
     ]
    }
   ],
   "source": [
    "N = int(input())\n",
    "result = []\n",
    "for i in range(1, N+1):\n",
    "    a, b = map(int, input().split())\n",
    "    result.append('#' + str(i) + ' ' + str(int(a/b)) + ' ' + str(a%b))\n",
    "\n",
    "for j in range(len(result)):\n",
    "    print(result[j])"
   ]
  },
  {
   "cell_type": "markdown",
   "metadata": {},
   "source": [
    "---\n",
    "\n",
    "# 2043. 서랍의 비밀번호\n",
    "\n",
    "```\n",
    "서랍의 비밀번호가 생각이 나지 않는다.\n",
    "\n",
    "비밀번호 P는 000부터 999까지 번호 중의 하나이다.\n",
    "\n",
    "주어지는 번호 K부터 1씩 증가하며 비밀번호를 확인해 볼 생각이다.\n",
    "\n",
    "예를 들어 비밀번호 P가 123 이고 주어지는 번호 K가 100 일 때, 100부터 123까지 24번 확인하여 비밀번호를 맞출 수 있다.\n",
    "\n",
    "P와 K가 주어지면 K부터 시작하여 몇 번 만에 P를 맞출 수 있는지 알아보자.\n",
    "\n",
    "\n",
    "[입력]\n",
    "\n",
    "입력으로 P와 K가 빈 칸을 사이로 주어진다.\n",
    "\n",
    "\n",
    "[출력]\n",
    "\n",
    "몇 번 만에 비밀번호를 맞출 수 있는지 출력한다.\n",
    "```"
   ]
  },
  {
   "cell_type": "code",
   "execution_count": 72,
   "metadata": {},
   "outputs": [
    {
     "name": "stdin",
     "output_type": "stream",
     "text": [
      " 123 100\n"
     ]
    },
    {
     "name": "stdout",
     "output_type": "stream",
     "text": [
      "24\n"
     ]
    }
   ],
   "source": [
    "P, K = map(int, input().split())\n",
    "cnt = 1\n",
    "while (K != P):\n",
    "    if K>999:\n",
    "        K=000\n",
    "    cnt += 1\n",
    "    K +=1\n",
    "print(cnt)\n",
    "    "
   ]
  },
  {
   "cell_type": "markdown",
   "metadata": {},
   "source": [
    "---\n",
    "\n",
    "# 2046. 스탬프 찍기\n",
    "\n",
    "```\n",
    "주어진 숫자만큼 # 을 출력해보세요.\n",
    "\n",
    "주어질 숫자는 100,000 이하다.\n",
    "```"
   ]
  },
  {
   "cell_type": "code",
   "execution_count": 75,
   "metadata": {},
   "outputs": [
    {
     "name": "stdin",
     "output_type": "stream",
     "text": [
      " 9\n"
     ]
    },
    {
     "name": "stdout",
     "output_type": "stream",
     "text": [
      "#########\n"
     ]
    }
   ],
   "source": [
    "print('#'*int(input()))"
   ]
  },
  {
   "cell_type": "markdown",
   "metadata": {},
   "source": [
    "---\n",
    "\n",
    "# 2047. 신문 헤드라인\n",
    "\n",
    "```\n",
    "신문의 헤드라인을 편집하기 위해, 주어지는 문자열의 알파벳 소문자를 모두 대문자로 바꾸는 프로그램을 개발 중이다.\n",
    "\n",
    "입력으로 주어진 문장에 모든 소문자 알파벳을 찾아 대문자로 변환한 다음, 그 결과를 출력하는 프로그램을 작성하라.\n",
    "\n",
    "\n",
    "[예제 풀이]\n",
    "\n",
    "The_headline_is_the_text_indicating_the_nature_of_the_article_below_it.\n",
    "\n",
    "위와 같은 문자열이 입력으로 주어졌을 때, 출력은 다음과 같다.\n",
    "\n",
    "THE_HEADLINE_IS_THE_TEXT_INDICATING_THE_NATURE_OF_THE_ARTICLE_BELOW_IT.\n",
    "\n",
    "\n",
    "[제약 사항]\n",
    "\n",
    "문자열의 최대 길이는 80 bytes 이다.\n",
    "\n",
    "\n",
    "[입력]\n",
    "\n",
    "입력으로 80 bytes 이하의 길이를 가진 문자열이 주어진다.\n",
    "\n",
    "\n",
    "[출력]\n",
    "\n",
    "문자열의 소문자를 모두 대문자로 변경한 결과를 출력한다.\n",
    "```"
   ]
  },
  {
   "cell_type": "code",
   "execution_count": 97,
   "metadata": {},
   "outputs": [
    {
     "name": "stdin",
     "output_type": "stream",
     "text": [
      " The_headline_is_the_text_indicating_the_nature_of_the_article_below_it\n"
     ]
    },
    {
     "name": "stdout",
     "output_type": "stream",
     "text": [
      "THE_HEADLINE_IS_THE_TEXT_INDICATING_THE_NATURE_OF_THE_ARTICLE_BELOW_IT\n"
     ]
    }
   ],
   "source": [
    "print(input().upper())"
   ]
  },
  {
   "cell_type": "markdown",
   "metadata": {},
   "source": [
    "---\n",
    "\n",
    "# 2050. 알파벳을 숫자로 변환\n",
    "\n",
    "```\n",
    "알파벳으로 이루어진 문자열을 입력 받아 각 알파벳을 1부터 26까지의 숫자로 변환하여 출력하라.\n",
    "\n",
    "\n",
    "[제약 사항]\n",
    "\n",
    "문자열의 최대 길이는 200이다.\n",
    "\n",
    "\n",
    "[입력]\n",
    "\n",
    "알파벳으로 이루어진 문자열이 주어진다.\n",
    "\n",
    "\n",
    "[출력]\n",
    "\n",
    "각 알파벳을 숫자로 변환한 결과값을 빈 칸을 두고 출력한다.\n",
    "```"
   ]
  },
  {
   "cell_type": "code",
   "execution_count": 3,
   "metadata": {},
   "outputs": [
    {
     "name": "stdin",
     "output_type": "stream",
     "text": [
      " bcaca\n"
     ]
    },
    {
     "name": "stdout",
     "output_type": "stream",
     "text": [
      "2 3 1 3 1 "
     ]
    }
   ],
   "source": [
    "alpha = input()\n",
    "for i in range(len(alpha)):\n",
    "    print(ord(alpha[i])%32, end = ' ')"
   ]
  },
  {
   "cell_type": "markdown",
   "metadata": {},
   "source": [
    "---\n",
    "\n",
    "# 2056. 연월일 달력\n",
    "\n",
    "```\n",
    "연월일 순으로 구성된 8자리의 날짜가 입력으로 주어진다.\n",
    "```\n",
    "![](https://swexpertacademy.com/main/common/fileDownload.do?downloadType=CKEditorImages&fileId=AV5QOksKA1QDFAUq)\n",
    "\n",
    "```\n",
    "해당 날짜의 유효성을 판단한 후, 날짜가 유효하다면\n",
    "\n",
    "[그림1] 과 같이 ”YYYY/MM/DD”형식으로 출력하고,\n",
    "\n",
    "날짜가 유효하지 않을 경우, -1 을 출력하는 프로그램을 작성하라.\n",
    "\n",
    "\n",
    "연월일로 구성된 입력에서 월은 1~12 사이 값을 가져야 하며\n",
    "\n",
    "일은 [표1] 과 같이, 1일 ~ 각각의 달에 해당하는 날짜까지의 값을 가질 수 있다.\n",
    "``` \n",
    "![](https://swexpertacademy.com/main/common/fileDownload.do?downloadType=CKEditorImages&fileId=AV5QOw9qA1UDFAUq)\n",
    "\n",
    "```\n",
    "※ 2월의 경우, 28일인 경우만 고려한다. (윤년은 고려하지 않는다.)\n",
    "\n",
    "\n",
    "[입력]\n",
    "\n",
    "입력은 첫 줄에 총 테스트 케이스의 개수 T가 온다.\n",
    "\n",
    "다음 줄부터 각 테스트 케이스가 주어진다.\n",
    "\n",
    "\n",
    "[출력]\n",
    "\n",
    "테스트 케이스 t에 대한 결과는 “#t”을 찍고, 한 칸 띄고, 정답을 출력한다.\n",
    "\n",
    "(t는 테스트 케이스의 번호를 의미하며 1부터 시작한다.)\n",
    "```"
   ]
  },
  {
   "cell_type": "code",
   "execution_count": 85,
   "metadata": {},
   "outputs": [
    {
     "name": "stdin",
     "output_type": "stream",
     "text": [
      " 5\n",
      " 22220228\n",
      " 20150002\n",
      " 01010101\n",
      " 20140230\n",
      " 11111111\n"
     ]
    },
    {
     "name": "stdout",
     "output_type": "stream",
     "text": [
      "#1 2222/02/28\n",
      "#2 -1\n",
      "#3 0101/01/01\n",
      "#4 -1\n",
      "#5 1111/11/11\n"
     ]
    }
   ],
   "source": [
    "NofCase = int(input())\n",
    "result = {}\n",
    "\n",
    "for i in range(1, NofCase+1):\n",
    "    date_ = input()\n",
    "    year, mon, day = date_[:4], date_[4:6], date_[6:]\n",
    "\n",
    "    if mon in (['01', '03', '05', '07', '08', '10', '12']):\n",
    "        if int(day)<=31 and int(day)>=1:\n",
    "            result[str(i)] = year +'/'+ mon +'/'+ day\n",
    "        else:\n",
    "            result[str(i)] = -1\n",
    "    elif mon in (['04', '06', '09', '11']):\n",
    "        if int(day)<=30 and int(day)>=1:\n",
    "            result[str(i)] = year +'/'+ mon +'/'+ day\n",
    "        else:\n",
    "            result[str(i)] = -1\n",
    "\n",
    "    elif mon in (['02']):\n",
    "        if int(day)<=28 and int(day)>=1:\n",
    "            result[str(i)] = year +'/'+ mon +'/'+ day \n",
    "        else:\n",
    "            result[str(i)] = -1\n",
    "    else:\n",
    "        result[str(i)] = -1\n",
    "\n",
    "for t in result.keys():\n",
    "    print('#' + t, result[t])"
   ]
  },
  {
   "cell_type": "markdown",
   "metadata": {},
   "source": [
    "---\n",
    "\n",
    "# 2058. 자릿수 더하기 \n",
    "\n",
    "```\n",
    "하나의 자연수를 입력 받아 각 자릿수의 합을 계산하는 프로그램을 작성하라.\n",
    "\n",
    "[제약 사항]\n",
    "자연수 N은 1부터 9999까지의 자연수이다. (1 ≤ N ≤ 9999)\n",
    "\n",
    "[입력]\n",
    "입력으로 자연수 N이 주어진다.\n",
    "\n",
    "[출력]\n",
    "각 자릿수의 합을 출력한다.\n",
    "```"
   ]
  },
  {
   "cell_type": "code",
   "execution_count": 101,
   "metadata": {},
   "outputs": [
    {
     "name": "stdin",
     "output_type": "stream",
     "text": [
      " 9138\n"
     ]
    },
    {
     "name": "stdout",
     "output_type": "stream",
     "text": [
      "21\n"
     ]
    }
   ],
   "source": [
    "N = input()\n",
    "sum_ = 0\n",
    "\n",
    "if int(N)>=1 and int(N)<=9999:    \n",
    "    for i in range(len(N)):\n",
    "        sum_ = sum_ + int(N[i])\n",
    "else:\n",
    "    print('1부터 9999까지의 자연수를 입력하세요.')\n",
    "print(sum_)"
   ]
  },
  {
   "cell_type": "markdown",
   "metadata": {},
   "source": [
    "---\n",
    "\n",
    "# 2063. 중간값 찾기\n",
    "\n",
    "```\n",
    "중간값은 통계 집단의 수치를 크기 순으로 배열 했을 때 전체의 중앙에 위치하는 수치를 뜻한다.\n",
    "입력으로 N 개의 점수가 주어졌을 때, 중간값을 출력하라.\n",
    "\n",
    "[예제]\n",
    "N이 9 이고, 9개의 점수가 아래와 같이 주어질 경우,\n",
    "85 72 38 80 69 65 68 96 22\n",
    "69이 중간값이 된다.\n",
    "\n",
    "[제약 사항]\n",
    "1. N은 항상 홀수로 주어진다.\n",
    "2. N은 9이상 199 이하의 정수이다. (9 ≤ N ≤ 199)\n",
    "\n",
    "[입력]\n",
    "입력은 첫 줄에 N 이 주어진다.\n",
    "둘째 줄에 N 개의 점수가 주어진다.\n",
    "\n",
    "[출력]\n",
    "N 개의 점수들 중, 중간값에 해당하는 점수를 정답으로 출력한다.\n",
    "```"
   ]
  },
  {
   "cell_type": "code",
   "execution_count": 137,
   "metadata": {},
   "outputs": [
    {
     "name": "stdin",
     "output_type": "stream",
     "text": [
      " 199\n",
      " 85 72 38 80 69 65 68 96 22 49 67 51 61 63 87 66 24 80 83 71 60 64 52 90 60 49 31 23 99 94 11 25 24 51 15 13 39 67 97 19 76 12 33 99 18 92 35 74 0 95 71 39 33 39 32 37 45 57 71 95 5 71 24 86 8 51 54 74 24 75 70 33 63 29 99 59 94 52 13 35 99 46 57 71 23 17 3 94 48 77 18 83 11 83 25 59 62 2 78 86 7 94 65 80 32 39 84 60 65 72 61 58 84 8 72 12 19 47 49 49 59 71 52 34 22 21 20 92 33 80 39 74 9 28 97 100 93 29 25 4 66 79 81 98 21 91 62 82 4 59 100 34 1 51 80 92 69 77 39 38 97 51 34 35 19 22 1 67 9 90 31 82 11 51 84 78 70 74 42 100 88 53 80 57 62 32 51 48 63 92 46 4 61 31 98 69 52 88 20\n"
     ]
    },
    {
     "name": "stdout",
     "output_type": "stream",
     "text": [
      "58\n"
     ]
    }
   ],
   "source": [
    "N = int(input())\n",
    "numbers = list(map(int, input().split()))\n",
    "numbers2 = sorted(numbers)\n",
    "print(numbers2[int((N)/2)])"
   ]
  },
  {
   "cell_type": "markdown",
   "metadata": {},
   "source": [
    "---\n",
    "\n",
    "# 2068. 최대수 구하기\n",
    "\n",
    "```\n",
    "10개의 수를 입력 받아, 그 중에서 가장 큰 수를 출력하는 프로그램을 작성하라.\n",
    "\n",
    "[제약 사항]\n",
    "각 수는 0 이상 10000 이하의 정수이다.\n",
    "\n",
    "[입력]\n",
    "가장 첫 줄에는 테스트 케이스의 개수 T가 주어지고, 그 아래로 각 테스트 케이스가 주어진다.\n",
    "각 테스트 케이스의 첫 번째 줄에는 10개의 수가 주어진다.\n",
    "\n",
    "[출력]\n",
    "출력의 각 줄은 '#t'로 시작하고, 공백을 한 칸 둔 다음 정답을 출력한다.\n",
    "(t는 테스트 케이스의 번호를 의미하며 1부터 시작한다.)\n",
    "```"
   ]
  },
  {
   "cell_type": "code",
   "execution_count": 10,
   "metadata": {},
   "outputs": [
    {
     "name": "stdin",
     "output_type": "stream",
     "text": [
      " 3\n",
      " 3 17 1 39 8 41 2 32 99 2\n",
      " 22 8 5 123 7 2 63 7 3 46\n",
      " 6 63 2 3 58 76 21 33 8 1\n"
     ]
    },
    {
     "name": "stdout",
     "output_type": "stream",
     "text": [
      "#1 99\n",
      "#2 123\n",
      "#3 76\n"
     ]
    }
   ],
   "source": [
    "NofCase = int(input())\n",
    "list_ = []\n",
    "result = {}\n",
    "for i in range(1, NofCase+1):\n",
    "    list_ = list(map(int, input().split()))\n",
    "    result['#'+str(i)] = max(list_)\n",
    "\n",
    "for j in result.keys():\n",
    "    print(j, result[j])"
   ]
  },
  {
   "cell_type": "markdown",
   "metadata": {},
   "source": [
    "---\n",
    "\n",
    "# 2070. 큰 놈, 작은 놈, 같은 놈\n",
    "\n",
    "```\n",
    "2개의 수를 입력 받아 크기를 비교하여 등호 또는 부등호를 출력하는 프로그램을 작성하라.\n",
    "\n",
    "[제약 사항]\n",
    "각 수는 0 이상 10000 이하의 정수이다.\n",
    "\n",
    "[입력]\n",
    "가장 첫 줄에는 테스트 케이스의 개수 T가 주어지고, 그 아래로 각 테스트 케이스가 주어진다.\n",
    "각 테스트 케이스의 첫 번째 줄에는 2개의 수가 주어진다.\n",
    "\n",
    "[출력]\n",
    "출력의 각 줄은 '#t'로 시작하고, 공백을 한 칸 둔 다음 정답을 출력한다.\n",
    "(t는 테스트 케이스의 번호를 의미하며 1부터 시작한다.)\n",
    "```"
   ]
  },
  {
   "cell_type": "code",
   "execution_count": 6,
   "metadata": {},
   "outputs": [
    {
     "name": "stdin",
     "output_type": "stream",
     "text": [
      " 3\n",
      " 3 8\n",
      " 7 7\n",
      " 369 123\n"
     ]
    },
    {
     "name": "stdout",
     "output_type": "stream",
     "text": [
      "#1 <\n",
      "#2 =\n",
      "#3 >\n"
     ]
    }
   ],
   "source": [
    "NofCase = int(input())\n",
    "result = {}\n",
    "\n",
    "for i in range(1, NofCase+1):\n",
    "    a,b = map(int, input().split())\n",
    "    if a>b:\n",
    "        result['#'+str(i)] = '>'\n",
    "    elif a<b:\n",
    "        result['#'+str(i)] = '<'\n",
    "    else:\n",
    "        result['#'+str(i)] = '='\n",
    "\n",
    "for j in result.keys():\n",
    "    print(j, result[j])"
   ]
  },
  {
   "cell_type": "markdown",
   "metadata": {},
   "source": [
    "---\n",
    "\n",
    "# 2071. 평균값 구하기\n",
    "\n",
    "```\n",
    "10개의 수를 입력 받아, 평균값을 출력하는 프로그램을 작성하라.\n",
    "(소수점 첫째 자리에서 반올림한 정수를 출력한다.)\n",
    "\n",
    "[제약 사항]\n",
    "각 수는 0 이상 10000 이하의 정수이다.\n",
    "\n",
    "[입력]\n",
    "가장 첫 줄에는 테스트 케이스의 개수 T가 주어지고, 그 아래로 각 테스트 케이스가 주어진다.\n",
    "각 테스트 케이스의 첫 번째 줄에는 10개의 수가 주어진다.\n",
    "\n",
    "[출력]\n",
    "출력의 각 줄은 '#t'로 시작하고, 공백을 한 칸 둔 다음 정답을 출력한다.\n",
    "(t는 테스트 케이스의 번호를 의미하며 1부터 시작한다.)\n",
    "```"
   ]
  },
  {
   "cell_type": "code",
   "execution_count": 11,
   "metadata": {},
   "outputs": [
    {
     "name": "stdin",
     "output_type": "stream",
     "text": [
      " 3\n",
      " 3 17 1 39 8 41 2 32 99 2\n",
      " 22 8 5 123 7 2 63 7 3 46\n",
      " 6 63 2 3 58 76 21 33 8 1\n"
     ]
    },
    {
     "name": "stdout",
     "output_type": "stream",
     "text": [
      "#1 24\n",
      "#2 29\n",
      "#3 27\n"
     ]
    }
   ],
   "source": [
    "NofCase = int(input())\n",
    "result = []\n",
    "list_ = []\n",
    "\n",
    "for i in range(1, NofCase+1):\n",
    "    list_ = list(map(int, input().split()))\n",
    "    result.append(round(sum(list_)/len(list_)))\n",
    "\n",
    "for j in range(len(result)):\n",
    "    print(f'#{j+1} {result[j]}')"
   ]
  },
  {
   "cell_type": "markdown",
   "metadata": {},
   "source": [
    "---\n",
    "\n",
    "# 2072. 홀수만 더하기\n",
    "\n",
    "```\n",
    "10개의 수를 입력 받아, 그 중에서 홀수만 더한 값을 출력하는 프로그램을 작성하라.\n",
    "\n",
    "[제약 사항]\n",
    "각 수는 0 이상 10000 이하의 정수이다.\n",
    "\n",
    "[입력]\n",
    "가장 첫 줄에는 테스트 케이스의 개수 T가 주어지고, 그 아래로 각 테스트 케이스가 주어진다.\n",
    "각 테스트 케이스의 첫 번째 줄에는 10개의 수가 주어진다.\n",
    "\n",
    "[출력]\n",
    "출력의 각 줄은 '#t'로 시작하고, 공백을 한 칸 둔 다음 정답을 출력한다.\n",
    "(t는 테스트 케이스의 번호를 의미하며 1부터 시작한다.)\n",
    "```"
   ]
  },
  {
   "cell_type": "code",
   "execution_count": 6,
   "metadata": {},
   "outputs": [
    {
     "name": "stdin",
     "output_type": "stream",
     "text": [
      " 3\n",
      " 3 17 1 39 8 41 2 32 99 2\n",
      " 22 8 5 123 7 2 63 7 3 46\n",
      " 6 63 2 3 58 76 21 33 8 1\n"
     ]
    },
    {
     "name": "stdout",
     "output_type": "stream",
     "text": [
      "#1 200\n",
      "#2 208\n",
      "#3 121\n"
     ]
    }
   ],
   "source": [
    "T = int(input())\n",
    "\n",
    "result = []\n",
    "for i in range(T):\n",
    "    list_ = list(map(int, input().split()))\n",
    "    sum_ = 0\n",
    "    for j in list_:\n",
    "        if j%2:\n",
    "            sum_ = sum_ + j\n",
    "    result.append(sum_)\n",
    "    \n",
    "for j in range(len(result)):\n",
    "    print(f'#{j+1} {result[j]}')"
   ]
  }
 ],
 "metadata": {
  "kernelspec": {
   "display_name": "Python 3",
   "language": "python",
   "name": "python3"
  },
  "language_info": {
   "codemirror_mode": {
    "name": "ipython",
    "version": 3
   },
   "file_extension": ".py",
   "mimetype": "text/x-python",
   "name": "python",
   "nbconvert_exporter": "python",
   "pygments_lexer": "ipython3",
   "version": "3.7.7"
  }
 },
 "nbformat": 4,
 "nbformat_minor": 4
}
