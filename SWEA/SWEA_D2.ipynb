{
 "cells": [
  {
   "cell_type": "markdown",
   "metadata": {},
   "source": [
    "# SWEA - D2"
   ]
  },
  {
   "cell_type": "markdown",
   "metadata": {},
   "source": [
    "# 1204. [S/W 문제해결 기본] 1일차 - 최빈수 구하기\n",
    "\n",
    "```\n",
    "어느 고등학교에서 실시한 1000명의 수학 성적을 토대로 통계 자료를 만들려고 한다.\n",
    "이때, 이 학교에서는 최빈수를 이용하여 학생들의 평균 수준을 짐작하는데, 여기서 최빈수는 특정 자료에서 가장 여러 번 나타나는 값을 의미한다.\n",
    "다음과 같은 수 분포가 있으면,\n",
    "10, 8, 7, 2, 2, 4, 8, 8, 8, 9, 5, 5, 3\n",
    "최빈수는 8이 된다.\n",
    "최빈수를 출력하는 프로그램을 작성하여라 (단, 최빈수가 여러 개 일 때에는 가장 큰 점수를 출력하라).\n",
    "\n",
    "[제약 사항]\n",
    "학생의 수는 1000명이며, 각 학생의 점수는 0점 이상 100점 이하의 값이다.\n",
    " \n",
    "[입력]\n",
    "첫 번째 줄에 테스트 케이스의 수 T가 주어진다.\n",
    "각 테스트 케이스의 첫 줄에는 테스트 케이스의 번호가 주어지고 그 다음 줄부터는 점수가 주어진다.\n",
    "\n",
    "[출력]\n",
    "#부호와 함께 테스트 케이스의 번호를 출력하고, 공백 문자 후 테스트 케이스에 대한 답을 출력한다.\n",
    "```"
   ]
  },
  {
   "cell_type": "markdown",
   "metadata": {},
   "source": [
    "```\n",
    "<입출력>\n",
    "\n",
    "테스트 케이스 T 입력\n",
    "1 입력\n",
    "리스트 입력\n",
    "2 입력\n",
    "리스트 입력\n",
    "...\n",
    "T 입력\n",
    "리스트 입력\n",
    "\n",
    "#1 최대 최빈수\n",
    "#2 최대 최빈수\n",
    "...\n",
    "#T 최대 최빈수\n",
    "\n",
    "\n",
    "```"
   ]
  },
  {
   "cell_type": "code",
   "execution_count": null,
   "metadata": {},
   "outputs": [],
   "source": [
    "T = int(input(''))\n",
    "\n",
    "result = {}\n",
    "for i in range(T):\n",
    "    num = input('')\n",
    "    list1 = list(map(int, input().split()))\n",
    "\n",
    "    temp_num = min(list1)\n",
    "    temp_dict = {}\n",
    "    while temp_num <= max(list1):\n",
    "        if list1.count(temp_num)!=0:\n",
    "            temp_dict[temp_num] = list1.count(temp_num)\n",
    "        temp_num += 1\n",
    "    \n",
    "    max_list = []\n",
    "    for j in temp_dict.keys():\n",
    "        if temp_dict[j]==max(temp_dict.values()):\n",
    "            max_list.append(j)\n",
    "\n",
    "    result[num] = max(max_list)\n",
    "\n",
    "for k in result.keys():\n",
    "    print(f'#{k} {result[k]}')"
   ]
  },
  {
   "cell_type": "markdown",
   "metadata": {},
   "source": [
    "---\n",
    "\n",
    "# 1284. 수도 요금 경쟁\n",
    "\n",
    "```\n",
    "삼성전자에 입사한 종민이는 회사 근처로 이사를 하게 되었다.\n",
    "그런데 집의 위치가 두 수도 회사 A, B 중간에 위치하기에 원하는 수도 회사를 선택할 수 있게 되었는데, 두 회사 중 더 적게 수도 요금을 부담해도 되는 회사를 고르려고 한다.\n",
    "종민이가 알아본 결과 두 회사의 수도 요금은 한 달 동안 사용한 수도의 양에 따라 다음과 같이 정해진다.\n",
    "\n",
    "A사 : 1리터당 P원의 돈을 내야 한다.\n",
    "B사 : 기본 요금이 Q원이고, 월간 사용량이 R리터 이하인 경우 요금은 기본 요금만 청구된다. 하지만 R 리터보다 많은 양을 사용한 경우 초과량에 대해 1리터당 S원의 요금을 더 내야 한다.\n",
    "```\n",
    "![](https://swexpertacademy.com/main/common/fileDownload.do?downloadType=CKEditorImages&fileId=AV2cT1EqARsBBASw)\n",
    "\n",
    "```\n",
    "종민이의 집에서 한 달간 사용하는 수도의 양이 W리터라고 할 때, 요금이 더 저렴한 회사를 골라 그 요금을 출력하는 프로그램을 작성하라.\n",
    "\n",
    "[입력]\n",
    "첫 번째 줄에 테스트 케이스의 수 T가 주어진다.\n",
    "각 테스트 케이스마다 첫 번째 줄에 위 본문에서 설명한 대로 P, Q, R, S, W(1 ≤ P, Q, R, S, W ≤ 10000, 자연수)가 순서대로 공백 하나로 구분되어 주어진다.\n",
    "\n",
    "[출력]\n",
    "각 테스트 케이스마다 ‘#x’(x는 테스트케이스 번호를 의미하며 1부터 시작한다)를 출력하고, 종민이가 내야 하는 수도 요금을 출력한다.\n",
    "```"
   ]
  }
 ],
 "metadata": {
  "kernelspec": {
   "display_name": "Python 3",
   "language": "python",
   "name": "python3"
  },
  "language_info": {
   "codemirror_mode": {
    "name": "ipython",
    "version": 3
   },
   "file_extension": ".py",
   "mimetype": "text/x-python",
   "name": "python",
   "nbconvert_exporter": "python",
   "pygments_lexer": "ipython3",
   "version": "3.7.7"
  }
 },
 "nbformat": 4,
 "nbformat_minor": 4
}
