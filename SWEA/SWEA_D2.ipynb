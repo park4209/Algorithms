{
 "cells": [
  {
   "cell_type": "markdown",
   "metadata": {},
   "source": [
    "# SWEA - D2"
   ]
  },
  {
   "cell_type": "markdown",
   "metadata": {},
   "source": [
    "# 1204. [S/W 문제해결 기본] 1일차 - 최빈수 구하기\n",
    "\n",
    "```\n",
    "어느 고등학교에서 실시한 1000명의 수학 성적을 토대로 통계 자료를 만들려고 한다.\n",
    "이때, 이 학교에서는 최빈수를 이용하여 학생들의 평균 수준을 짐작하는데, 여기서 최빈수는 특정 자료에서 가장 여러 번 나타나는 값을 의미한다.\n",
    "다음과 같은 수 분포가 있으면,\n",
    "10, 8, 7, 2, 2, 4, 8, 8, 8, 9, 5, 5, 3\n",
    "최빈수는 8이 된다.\n",
    "최빈수를 출력하는 프로그램을 작성하여라 (단, 최빈수가 여러 개 일 때에는 가장 큰 점수를 출력하라).\n",
    "\n",
    "[제약 사항]\n",
    "학생의 수는 1000명이며, 각 학생의 점수는 0점 이상 100점 이하의 값이다.\n",
    " \n",
    "[입력]\n",
    "첫 번째 줄에 테스트 케이스의 수 T가 주어진다.\n",
    "각 테스트 케이스의 첫 줄에는 테스트 케이스의 번호가 주어지고 그 다음 줄부터는 점수가 주어진다.\n",
    "\n",
    "[출력]\n",
    "#부호와 함께 테스트 케이스의 번호를 출력하고, 공백 문자 후 테스트 케이스에 대한 답을 출력한다.\n",
    "```"
   ]
  },
  {
   "cell_type": "markdown",
   "metadata": {},
   "source": [
    "```\n",
    "<입출력>\n",
    "\n",
    "테스트 케이스 T 입력\n",
    "1 입력\n",
    "리스트 입력\n",
    "2 입력\n",
    "리스트 입력\n",
    "...\n",
    "T 입력\n",
    "리스트 입력\n",
    "\n",
    "#1 최대 최빈수\n",
    "#2 최대 최빈수\n",
    "...\n",
    "#T 최대 최빈수\n",
    "\n",
    "\n",
    "```"
   ]
  },
  {
   "cell_type": "code",
   "execution_count": null,
   "metadata": {},
   "outputs": [],
   "source": [
    "T = int(input(''))\n",
    "\n",
    "result = {}\n",
    "for i in range(T):\n",
    "    num = input('')\n",
    "    list1 = list(map(int, input().split()))\n",
    "\n",
    "    temp_num = min(list1)\n",
    "    temp_dict = {}\n",
    "    while temp_num <= max(list1):\n",
    "        if list1.count(temp_num)!=0:\n",
    "            temp_dict[temp_num] = list1.count(temp_num)\n",
    "        temp_num += 1\n",
    "    \n",
    "    max_list = []\n",
    "    for j in temp_dict.keys():\n",
    "        if temp_dict[j]==max(temp_dict.values()):\n",
    "            max_list.append(j)\n",
    "\n",
    "    result[num] = max(max_list)\n",
    "\n",
    "for k in result.keys():\n",
    "    print(f'#{k} {result[k]}')"
   ]
  },
  {
   "cell_type": "markdown",
   "metadata": {},
   "source": [
    "---\n",
    "\n",
    "# 1284. 수도 요금 경쟁\n",
    "\n",
    "```\n",
    "삼성전자에 입사한 종민이는 회사 근처로 이사를 하게 되었다.\n",
    "그런데 집의 위치가 두 수도 회사 A, B 중간에 위치하기에 원하는 수도 회사를 선택할 수 있게 되었는데, 두 회사 중 더 적게 수도 요금을 부담해도 되는 회사를 고르려고 한다.\n",
    "종민이가 알아본 결과 두 회사의 수도 요금은 한 달 동안 사용한 수도의 양에 따라 다음과 같이 정해진다.\n",
    "\n",
    "A사 : 1리터당 P원의 돈을 내야 한다.\n",
    "B사 : 기본 요금이 Q원이고, 월간 사용량이 R리터 이하인 경우 요금은 기본 요금만 청구된다. 하지만 R 리터보다 많은 양을 사용한 경우 초과량에 대해 1리터당 S원의 요금을 더 내야 한다.\n",
    "```\n",
    "![](https://swexpertacademy.com/main/common/fileDownload.do?downloadType=CKEditorImages&fileId=AV2cT1EqARsBBASw)\n",
    "\n",
    "```\n",
    "종민이의 집에서 한 달간 사용하는 수도의 양이 W리터라고 할 때, 요금이 더 저렴한 회사를 골라 그 요금을 출력하는 프로그램을 작성하라.\n",
    "\n",
    "[입력]\n",
    "첫 번째 줄에 테스트 케이스의 수 T가 주어진다.\n",
    "각 테스트 케이스마다 첫 번째 줄에 위 본문에서 설명한 대로 P, Q, R, S, W(1 ≤ P, Q, R, S, W ≤ 10000, 자연수)가 순서대로 공백 하나로 구분되어 주어진다.\n",
    "\n",
    "[출력]\n",
    "각 테스트 케이스마다 ‘#x’(x는 테스트케이스 번호를 의미하며 1부터 시작한다)를 출력하고, 종민이가 내야 하는 수도 요금을 출력한다.\n",
    "```"
   ]
  },
  {
   "cell_type": "markdown",
   "metadata": {},
   "source": [
    "```\n",
    "#입력\n",
    "2\n",
    "9 100 20 3 10\n",
    "8 300 100 10 250\n",
    "\n",
    "#출력\n",
    "#1 90\n",
    "#2 1800\n",
    "```"
   ]
  },
  {
   "cell_type": "code",
   "execution_count": 19,
   "metadata": {},
   "outputs": [
    {
     "name": "stdin",
     "output_type": "stream",
     "text": [
      " 2\n",
      " 9 100 20 3 10\n",
      " 8 300 100 10 250\n"
     ]
    },
    {
     "name": "stdout",
     "output_type": "stream",
     "text": [
      "#1 90\n",
      "#2 1800\n"
     ]
    }
   ],
   "source": [
    "T = int(input())\n",
    "\n",
    "result_list = []\n",
    "\n",
    "for i in range(T):\n",
    "    list1 = list(map(int, input().split()))\n",
    "    P, Q, R, S, W = list1[0], list1[1], list1[2], list1[3], list1[4]\n",
    "    result = 0\n",
    "    \n",
    "    cost_A = P * W\n",
    "    if W<=R:\n",
    "        cost_B = Q\n",
    "    else:\n",
    "        cost_B = Q + (W-R)*S\n",
    "        \n",
    "    #출력값은 요금이므로 요금이 같은경우는 아무회사 요금을 출력해도 무관\n",
    "    if cost_A >= cost_B:\n",
    "        result = cost_B\n",
    "    else:\n",
    "        result = cost_A\n",
    "        \n",
    "    result_list.append(result)\n",
    "\n",
    "\n",
    "for j in range(len(result_list)):\n",
    "    print(f'#{j+1} {result_list[j]}')"
   ]
  },
  {
   "cell_type": "markdown",
   "metadata": {},
   "source": [
    "---"
   ]
  },
  {
   "cell_type": "markdown",
   "metadata": {},
   "source": [
    "# 1288. 새로운 불면증 치료법\n",
    "\n",
    "```\n",
    "민석이는 불면증에 걸렸다. 그래서 잠이 안 올 때의 민간요법 중 하나인 양 세기를 하려고 한다.\n",
    "민석이는 1번 양부터 순서대로 세는 것이 재미없을 것 같아서 N의 배수 번호인 양을 세기로 하였다.\n",
    "\n",
    "즉, 첫 번째에는 N번 양을 세고, 두 번째에는 2N번 양, … , k번째에는 kN번 양을 센다.\n",
    "이렇게 숫자를 세던 민석이에게 잠은 더 오지 않고 다음과 같은 궁금증이 생겼다.\n",
    "이전에 셌던 번호들의 각 자리수에서 0에서 9까지의 모든 숫자를 보는 것은 최소 몇 번 양을 센 시점일까?\n",
    "\n",
    "예를 들어 N = 1295이라고 하자.\n",
    "첫 번째로 N = 1295번 양을 센다. 현재 본 숫자는 1, 2, 5, 9이다.\n",
    "\n",
    "두 번째로 2N = 2590번 양을 센다. 현재 본 숫자는 0, 2, 5, 9이다.\n",
    "현재까지 본 숫자는 0, 1, 2, 5, 9이다.\n",
    "\n",
    "세 번째로 3N = 3885번 양을 센다. 현재 본 숫자는 3, 5, 8이다.\n",
    "현재까지 본 숫자는 0, 1, 2, 3, 5, 8, 9이다.\n",
    "\n",
    "네 번째로 4N = 5180번 양을 센다. 현재 본 숫자는 0, 1, 5, 8이다.\n",
    "현재까지 본 숫자는 0, 1, 2, 3, 5, 8, 9이다.\n",
    "\n",
    "다섯 번째로 5N = 6475번 양을 센다. 현재 본 숫자는 4, 5, 6, 7이다.\n",
    "현재까지 본 숫자는 0, 1, 2, 3, 4, 5, 6, 7, 8, 9이다.\n",
    "\n",
    "5N번 양을 세면 0에서 9까지 모든 숫자를 보게 되므로 민석이는 양 세기를 멈춘다.\n",
    "\n",
    "[입력]\n",
    "첫 번째 줄에 테스트 케이스의 수 T가 주어진다.\n",
    "각 테스트 케이스의 첫 번째 줄에는 N (1 ≤ N ≤ 106)이 주어진다.\n",
    "\n",
    "[출력]\n",
    "각 테스트 케이스마다 ‘#x’(x는 테스트케이스 번호를 의미하며 1부터 시작한다)를 출력하고,\n",
    "최소 몇 번 양을 세었을 때 이전에 봤던 숫자들의 자릿수에서 0에서 9까지의 모든 숫자를 보게 되는지 출력한다.\n",
    "( 민석이는 xN번 양을 세고 있다. )\n",
    "```"
   ]
  },
  {
   "cell_type": "markdown",
   "metadata": {},
   "source": [
    "```\n",
    "[입력]\n",
    "5\n",
    "\n",
    "1\n",
    "2\n",
    "11\n",
    "1295\n",
    "1692\n",
    "\n",
    "[출력]\n",
    "#1 10\n",
    "#2 90\n",
    "#3 110\n",
    "#4 6475\n",
    "#5 5076\n",
    "```"
   ]
  },
  {
   "cell_type": "code",
   "execution_count": 127,
   "metadata": {},
   "outputs": [
    {
     "name": "stdin",
     "output_type": "stream",
     "text": [
      " 5\n",
      " 1\n",
      " 2\n",
      " 11\n",
      " 1295\n",
      " 1692\n"
     ]
    },
    {
     "name": "stdout",
     "output_type": "stream",
     "text": [
      "#1 10\n",
      "#2 90\n",
      "#3 110\n",
      "#4 6475\n",
      "#5 5076\n"
     ]
    }
   ],
   "source": [
    "T = int(input())\n",
    "\n",
    "result = []\n",
    "for i in range(T):\n",
    "    N = int(input())\n",
    "    t1 = list(set([int(j) for j in str(N)]))\n",
    "\n",
    "    k = 1\n",
    "    while True:\n",
    "        k += 1\n",
    "        t2 = list(set([int(j) for j in str(N * k)]))\n",
    "        t1 = sorted(list(set(t1) - set(t2)) + t2)\n",
    "        \n",
    "        if t1==list(range(10)):\n",
    "            break\n",
    "    result.append(k*N)\n",
    "    \n",
    "for n in range(len(result)):\n",
    "    print(f'#{n+1} {result[n]}')"
   ]
  },
  {
   "cell_type": "markdown",
   "metadata": {},
   "source": [
    "---\n",
    "# 1859. 백만 장자 프로젝트\n",
    "\n",
    "```\n",
    "25년 간의 수행 끝에 원재는 미래를 보는 능력을 갖게 되었다. 이 능력으로 원재는 사재기를 하려고 한다.\n",
    "다만 당국의 감시가 심해 한 번에 많은 양을 사재기 할 수 없다.\n",
    "\n",
    "다음과 같은 조건 하에서 사재기를 하여 최대한의 이득을 얻도록 도와주자.\n",
    "    1. 원재는 연속된 N일 동안의 물건의 매매가를 예측하여 알고 있다.\n",
    "    2. 당국의 감시망에 걸리지 않기 위해 하루에 최대 1만큼 구입할 수 있다.\n",
    "    3. 판매는 얼마든지 할 수 있다.\n",
    "    \n",
    "예를 들어 3일 동안의 매매가가 1, 2, 3 이라면 처음 두 날에 원료를 구매하여 마지막 날에 팔면 3의 이익을 얻을 수 있다.\n",
    "\n",
    "\n",
    "[입력]\n",
    "첫 번째 줄에 테스트 케이스의 수 T가 주어진다.\n",
    "각 테스트 케이스 별로 첫 줄에는 자연수 N(2 ≤ N ≤ 1,000,000)이 주어지고,\n",
    "둘째 줄에는 각 날의 매매가를 나타내는 N개의 자연수들이 공백으로 구분되어 순서대로 주어진다.\n",
    "각 날의 매매가는 10,000이하이다.\n",
    "\n",
    "[출력]\n",
    "각 테스트 케이스마다 ‘#x’(x는 테스트케이스 번호를 의미하며 1부터 시작한다)를 출력하고, 최대 이익을 출력한다.\n",
    "\n",
    "[예제 풀이]\n",
    "1번째 케이스는 아무 것도 사지 않는 것이 최대 이익이다.\n",
    "2번째 케이스는 1,2일에 각각 한 개씩 사서 세 번째 날에 두 개를 팔면 10의 이익을 얻을 수 있다.\n",
    "```"
   ]
  },
  {
   "cell_type": "markdown",
   "metadata": {},
   "source": [
    "```\n",
    "[입력]\n",
    "3\n",
    "3\n",
    "10 7 6\n",
    "3\n",
    "3 5 9\n",
    "5\n",
    "1 1 3 1 2\n",
    "\n",
    "[출력]\n",
    "#1 0\n",
    "#2 10\n",
    "#3 5\n",
    "```"
   ]
  },
  {
   "cell_type": "code",
   "execution_count": null,
   "metadata": {},
   "outputs": [],
   "source": [
    "#SWEA 제출시 runtime error 발생 -> 다른 방법 찾아보기\n",
    "\n",
    "T = int(input())\n",
    "\n",
    "result = []\n",
    "for i in range(T):\n",
    "    N = int(input())\n",
    "    list_ = list(map(int, input().split()))\n",
    "    \n",
    "    sell_allitem = 0\n",
    "    eachitem = 0\n",
    "    for j in range(N):\n",
    "        if list_[j] == max(list_[j:]):\n",
    "            sell_allitem += eachitem\n",
    "            eachitem = 0\n",
    "        else:\n",
    "            eachitem += max(list_[j:]) - list_[j]\n",
    "            \n",
    "    result.append(sell_allitem)\n",
    "\n",
    "for k in range(len(result)):\n",
    "    print(f'#{k+1} {result[k]}')"
   ]
  }
 ],
 "metadata": {
  "kernelspec": {
   "display_name": "Python 3",
   "language": "python",
   "name": "python3"
  },
  "language_info": {
   "codemirror_mode": {
    "name": "ipython",
    "version": 3
   },
   "file_extension": ".py",
   "mimetype": "text/x-python",
   "name": "python",
   "nbconvert_exporter": "python",
   "pygments_lexer": "ipython3",
   "version": "3.7.7"
  }
 },
 "nbformat": 4,
 "nbformat_minor": 4
}
